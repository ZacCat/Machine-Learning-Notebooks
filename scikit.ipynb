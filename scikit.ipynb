{
 "cells": [
  {
   "cell_type": "markdown",
   "metadata": {},
   "source": [
    "# Table of Contents\n",
    "\n",
    "* [1 General Functions](#general_functions)\n",
    "    * [1.1 Functions to Save and Open Variables](#open_save)\n",
    "* [2 Datasets](#load_datasets)\n",
    "    * [2.1 Load Reuters Corpus Volume 1 (rcv1) Dataset](#load_rcv1)\n",
    "    * [2.2 Dataset Attributes of rcv1](#attributes_rcv1)\n",
    "    * [2.3 Load Modified National Institute of Standards and Technology (MNIST) Dataset](#load_mnist)\n",
    "    * [2.4 Train/Test Split](#train_test_split)\n",
    "    * [2.5 Dataset Attributes of MNIST](#attributes_mnist)\n",
    "* [3 Document Classification](#document_classification)\n",
    "    * [3.1 Naive Bayes](#naive_bayes)\n",
    "        * [3.1.1 Naive Bayes on rcv1](#nb_rcv1)\n",
    "        * [3.1.2 Naive Bayes on MNIST](#nb_mnist)\n",
    "    * [3.2 Generating Predictions](#generating_predictions)\n",
    "    * [3.3 Evaluating Predictions](#evaluating_predictions)\n",
    "    * [3.4 Recall vs Precision Graph](#recall_precision_graph)\n",
    "        * [3.4.1 Recall-Precision Graph for Naive Bayes with rcv1](#graph_nb_rcv1)\n",
    "        * [3.4.2 Recall-Precision Graph for for Naive Bayes with MNIST](#graph_nb_mnist)\n",
    "    * [3.5 K-Folds Cross-Validation](#k_folds)\n",
    "    * [3.6 Support Vector Machines (SVM)](#svm)\n",
    "        * [3.6.1 SVM on rcv1](#svm_rcv1)\n",
    "        * [3.6.2 SVM on mnist](#svm_mnist)\n",
    "    * [3.7 k-Nearest Neighbors (kNN)](#knn)\n",
    "        * [3.7.1 kNN on rcv1](#knn_rcv1)\n",
    "        * [3.7.2 kNN on mnist](#knn_mnist)\n",
    "    * [3.8 Decision Trees](#decision_trees)\n",
    "        * [3.7.1 Decision Trees on rcv1](#dt_rcv1)\n",
    "        * [3.7.2 Decision Trees on mnist](#dt_mnist)    "
   ]
  },
  {
   "cell_type": "markdown",
   "metadata": {},
   "source": [
    "# General Functions <a id='general_functions'></a>"
   ]
  },
  {
   "cell_type": "markdown",
   "metadata": {},
   "source": [
    "## Functions to Save and Open Variables <a id='open_save'></a>\n",
    "\n",
    "Since it is not uncommon for a machine learning task to take a long time it is good practice to save variables that may be needed in the future. This can be achieved by using the [pickle](https://docs.python.org/3/library/pickle.html) module. This package allows a variable up to 4gb to be saved. This limitation is why the 'metrics' variables are saved as individual items instead of a dictionary."
   ]
  },
  {
   "cell_type": "code",
   "execution_count": 1,
   "metadata": {},
   "outputs": [],
   "source": [
    "# Save variables to file\n",
    "import pickle\n",
    "\n",
    "def save_var(variable_name):\n",
    "    \"\"\" Saves the variable with the provided variable name \n",
    "         in the global namespace to the ./vars folder \n",
    "         with the provided same name \"\"\"\n",
    "    \n",
    "    with open('./vars/' + variable_name,'wb') as my_file_obj:\n",
    "        pickle.dump(globals()[variable_name], my_file_obj, protocol=pickle.HIGHEST_PROTOCOL)\n",
    "\n",
    "def save_var_list(variable_name_list):\n",
    "    \"\"\" Saves each variable with the provided variable name \n",
    "         in the global namespace to the ./vars folder \n",
    "         with the provided same name \"\"\"\n",
    "    for name in variable_name_list:\n",
    "        with open('./vars/' + name,'wb') as my_file_obj:\n",
    "            pickle.dump(globals()[name], my_file_obj, protocol=pickle.HIGHEST_PROTOCOL)\n",
    "\n",
    "def open_var(file_name):\n",
    "    \"\"\" Returns the variable saved with the provided \n",
    "         file name located in the ./vars folder\"\"\"\n",
    "    \n",
    "    file_object = open('./vars/' + file_name,'rb')  \n",
    "\n",
    "    loaded_var = pickle.load(file_object)\n",
    "    \n",
    "    return loaded_var\n",
    "\n",
    "def open_var_list(file_name_list):\n",
    "    \"\"\" Loads a variable corresponding to each file name\n",
    "         in file_name_list to the global namespace. \"\"\"\n",
    "    \n",
    "    for file_name in file_name_list:\n",
    "        globals()[file_name] = open_var(file_name)"
   ]
  },
  {
   "cell_type": "code",
   "execution_count": 49,
   "metadata": {},
   "outputs": [],
   "source": [
    "%%time\n",
    "# Save Datasets\n",
    "save_var_list(['mnist', 'mnist_train', 'mnist_test', 'rcv1_train', 'rcv1_test'])"
   ]
  },
  {
   "cell_type": "code",
   "execution_count": 49,
   "metadata": {},
   "outputs": [],
   "source": [
    "%%time\n",
    "# Save Naive Bayes Variables\n",
    "save_var_list(['clf_NB_rcv1', 'pred_NB_rcv1', 'scores_NB_rcv1', 'confidence_NB_rcv1', 'metrics_NB_rcv1',\n",
    "               'clf_Mult_NB', 'pred_Mult_NB', 'scores_Mult_NB', 'confidence_Mult_NB', 'metrics_Mult_NB', \n",
    "               'clf_Gauss_NB', 'pred_Gauss_NB', 'scores_Gauss_NB', 'confidence_Gauss_NB', 'metrics_Gauss_NB', \n",
    "               'clf_Bern_NB', 'pred_Bern_NB', 'scores_Bern_NB', 'confidence_Bern_NB', 'metrics_Bern_NB'])"
   ]
  },
  {
   "cell_type": "code",
   "execution_count": 49,
   "metadata": {},
   "outputs": [],
   "source": [
    "%%time\n",
    "# Save SVM Variables\n",
    "save_var_list(['clf_SVM_mnist', 'pred_SVM_mnist', 'scores_SVM_mnist', 'confidence_SVM_mnist', 'metrics_SVM_mnist'])"
   ]
  },
  {
   "cell_type": "code",
   "execution_count": 21,
   "metadata": {},
   "outputs": [
    {
     "name": "stdout",
     "output_type": "stream",
     "text": [
      "CPU times: user 204 ms, sys: 597 ms, total: 801 ms\n",
      "Wall time: 6.57 s\n"
     ]
    }
   ],
   "source": [
    "%%time\n",
    "# Save kNN Variables\n",
    "save_var_list(['clf_kNN_rcv1', 'pred_kNN_rcv1', 'scores_kNN_rcv1', 'confidence_kNN_rcv1', 'metrics_kNN_rcv1',\n",
    "               'clf_kNN_mnist', 'pred_kNN_mnist', 'scores_kNN_mnist', 'confidence_kNN_mnist', 'metrics_kNN_mnist'])"
   ]
  },
  {
   "cell_type": "code",
   "execution_count": 49,
   "metadata": {},
   "outputs": [],
   "source": [
    "%%time\n",
    "# Save Decision Tree Variables\n",
    "save_var_list(['clf_DT_rcv1', 'pred_DT_rcv1', 'scores_DT_rcv1', 'confidence_DT_rcv1', 'metrics_DT_rcv1',\n",
    "               'clf_DT_mnist', 'pred_DT_mnist', 'scores_DT_mnist', 'confidence_DT_mnist', 'metrics_DT_mnist'])"
   ]
  },
  {
   "cell_type": "code",
   "execution_count": 2,
   "metadata": {},
   "outputs": [
    {
     "name": "stdout",
     "output_type": "stream",
     "text": [
      "CPU times: user 150 ms, sys: 1.06 s, total: 1.21 s\n",
      "Wall time: 2.92 s\n"
     ]
    }
   ],
   "source": [
    "%%time\n",
    "# Load Datasets\n",
    "class Dataset_Part:\n",
    "    \"\"\" Represents a dataset with attributes\n",
    "         data and target \"\"\"\n",
    "    \n",
    "    data = None\n",
    "    target = None\n",
    "    def __init__(self, X, y):\n",
    "        self.data = X\n",
    "        self.target = y\n",
    "\n",
    "open_var_list(['mnist_train', 'mnist_test', 'rcv1_train', 'rcv1_test'])"
   ]
  },
  {
   "cell_type": "code",
   "execution_count": 8,
   "metadata": {},
   "outputs": [],
   "source": [
    "open_var_list(['clf_SVM_mnist', 'pred_SVM_mnist', 'scores_SVM_mnist', 'confidence_SVM_mnist', 'metrics_SVM_mnist'])"
   ]
  },
  {
   "cell_type": "markdown",
   "metadata": {},
   "source": [
    "## Load Datasets <a id='load_datasets'></a>"
   ]
  },
  {
   "cell_type": "markdown",
   "metadata": {},
   "source": [
    "### [Load Reuters Corpus Volume I (rcv1) Dataset](http://scikit-learn.org/stable/datasets/rcv1.html) <a id='load_rcv1'></a>\n",
    "Scikit-learn includes functions to easily load some popular datasets. One of the included datasets is rcv1. This dataset can be loaded completly or broken into test and train subsets. This dataset consists of over 800,000 manually categorized news stories. The data is represented by cosine-normalized log TF-IDF vectors and the labels are 103 classes with binary values."
   ]
  },
  {
   "cell_type": "code",
   "execution_count": 31,
   "metadata": {
    "collapsed": true
   },
   "outputs": [
    {
     "name": "stdout",
     "output_type": "stream",
     "text": [
      "CPU times: user 3.86 s, sys: 538 ms, total: 4.4 s\n",
      "Wall time: 4.43 s\n"
     ]
    }
   ],
   "source": [
    "%%time\n",
    "from sklearn.datasets import fetch_rcv1\n",
    "\n",
    "rcv1 = fetch_rcv1()"
   ]
  },
  {
   "cell_type": "code",
   "execution_count": 5,
   "metadata": {},
   "outputs": [
    {
     "name": "stdout",
     "output_type": "stream",
     "text": [
      "CPU times: user 8.26 s, sys: 1.07 s, total: 9.33 s\n",
      "Wall time: 9.4 s\n"
     ]
    }
   ],
   "source": [
    "%%time\n",
    "from sklearn.datasets import fetch_rcv1\n",
    "\n",
    "rcv1_train, rcv1_test = (fetch_rcv1(subset='train'), fetch_rcv1(subset='train'))\n"
   ]
  },
  {
   "cell_type": "markdown",
   "metadata": {},
   "source": [
    "### Dataset Attributes of rcv1 <a id='attributes_rcv1'></a>\n",
    "\n",
    "Datasets loaded from scikit-learn will typically have several attributes.\n",
    "\n",
    "   1. __data__ - a scipy [compressed row storage (CSR) sparce matrix](https://docs.scipy.org/doc/scipy-0.14.0/reference/generated/scipy.sparse.csr_matrix.html). Non-zero values are cosinne-normalized, log TF-IDF vectors. The shape is (num_samples, num_features)\n",
    "   2. __target__ - a scipy CSR sparse matrix. Maps each sample to relavent categories (sometimes refered to as labels). The shape is (num_samples, num_categories).\n",
    "   3. __sample_id__ - a [numpy n-dimensional array](https://docs.scipy.org/doc/numpy-1.14.0/reference/generated/numpy.ndarray.html) (ndarray) associating each sample's ID to its sample number\n",
    "   4. __target_names__ - a ndarray of target names (can be thought of as topics or categories) corresponding to the category mapping in __(2)__. Each sample belongs to n categories, where 1 $\\le$ n $\\le$ 13.\n",
    "   5. __DESCR__ - a description of the dataset\n",
    "   \n",
    "The shape attribute gives the dimensions of the matrix."
   ]
  },
  {
   "cell_type": "code",
   "execution_count": 3,
   "metadata": {},
   "outputs": [],
   "source": [
    "def get_nonzero(matrix):\n",
    "    \"\"\" Returns the percent of items in the provided \n",
    "         matrix that are not 0.\n",
    "         \n",
    "        Params:\n",
    "          matrix -- a csr sparse matrix \"\"\"\n",
    "    \n",
    "    nonzero = (matrix.count_nonzero() / (matrix.shape[0] * matrix.shape[1])) * 100\n",
    "    # Check value is valid\n",
    "    assert nonzero <= 100\n",
    "    assert nonzero >= 0\n",
    "    \n",
    "    return nonzero\n",
    "\n",
    "def print_rcv1_attributes(dataset):\n",
    "    \"\"\" Prints attributes of the provided dataset.\n",
    "    \n",
    "        Params:\n",
    "          dataset -- the RCV1 full dataset or a subset \"\"\"\n",
    "    \n",
    "    print(f'  rcv1 type: {type(dataset)}')\n",
    "    \n",
    "    print ('data:')\n",
    "    print(f'      shape: {dataset.data.shape}')\n",
    "    print(f'  data type: {dataset.data.dtype}')\n",
    "    print(f' array type: {type(dataset.data)}')\n",
    "    print(f'    nonzero: {get_nonzero(dataset.data):0.4f}%\\n')\n",
    "\n",
    "    print('target:')\n",
    "    print(f'      shape: {dataset.target.shape}')\n",
    "    print(f'  data type: {dataset.target.dtype}')\n",
    "    print(f' array type: {type(dataset.target)}')\n",
    "    print(f'    nonzero: {get_nonzero(dataset.target):0.4f}%\\n')\n",
    "\n",
    "    print('sample_id:')\n",
    "    print(f'      shape: {dataset.sample_id.shape}')\n",
    "    print(f'  data type: {type(dataset.sample_id[3])}')\n",
    "    print(f' array type: {type(dataset.sample_id)}\\n')\n",
    "\n",
    "    print('target_names:')\n",
    "    print(f'      shape: {dataset.target_names.shape}')\n",
    "    print(f'  data type: {type(dataset.target_names[3])}')\n",
    "    print(f' array type: {type(dataset.target_names)}')"
   ]
  },
  {
   "cell_type": "code",
   "execution_count": 6,
   "metadata": {},
   "outputs": [
    {
     "name": "stdout",
     "output_type": "stream",
     "text": [
      "rcv1 dataset attributes\n",
      "  rcv1 type: <class 'sklearn.utils.Bunch'>\n",
      "data:\n",
      "      shape: (804414, 47236)\n",
      "  data type: float64\n",
      " array type: <class 'scipy.sparse.csr.csr_matrix'>\n",
      "    nonzero: 0.1603%\n",
      "\n",
      "target:\n",
      "      shape: (804414, 103)\n",
      "  data type: uint8\n",
      " array type: <class 'scipy.sparse.csr.csr_matrix'>\n",
      "    nonzero: 3.1463%\n",
      "\n",
      "sample_id:\n",
      "      shape: (804414,)\n",
      "  data type: <class 'numpy.uint32'>\n",
      " array type: <class 'numpy.ndarray'>\n",
      "\n",
      "target_names:\n",
      "      shape: (103,)\n",
      "  data type: <class 'str'>\n",
      " array type: <class 'numpy.ndarray'>\n"
     ]
    }
   ],
   "source": [
    "print('rcv1 dataset attributes')\n",
    "print_rcv1_attributes(rcv1)"
   ]
  },
  {
   "cell_type": "code",
   "execution_count": 7,
   "metadata": {},
   "outputs": [
    {
     "name": "stdout",
     "output_type": "stream",
     "text": [
      "rcv1 training subset attributes:\n",
      "  rcv1 type: <class 'sklearn.utils.Bunch'>\n",
      "data:\n",
      "      shape: (23149, 47236)\n",
      "  data type: float64\n",
      " array type: <class 'scipy.sparse.csr.csr_matrix'>\n",
      "    nonzero: 0.1608%\n",
      "\n",
      "target:\n",
      "      shape: (23149, 103)\n",
      "  data type: uint8\n",
      " array type: <class 'scipy.sparse.csr.csr_matrix'>\n",
      "    nonzero: 3.0909%\n",
      "\n",
      "sample_id:\n",
      "      shape: (23149,)\n",
      "  data type: <class 'numpy.uint32'>\n",
      " array type: <class 'numpy.ndarray'>\n",
      "\n",
      "target_names:\n",
      "      shape: (103,)\n",
      "  data type: <class 'str'>\n",
      " array type: <class 'numpy.ndarray'>\n"
     ]
    }
   ],
   "source": [
    "print('rcv1 training subset attributes:')\n",
    "print_rcv1_attributes(rcv1_train)"
   ]
  },
  {
   "cell_type": "code",
   "execution_count": 8,
   "metadata": {},
   "outputs": [
    {
     "name": "stdout",
     "output_type": "stream",
     "text": [
      "\n",
      "rcv1 testing subset attributes:\n",
      "  rcv1 type: <class 'sklearn.utils.Bunch'>\n",
      "data:\n",
      "      shape: (23149, 47236)\n",
      "  data type: float64\n",
      " array type: <class 'scipy.sparse.csr.csr_matrix'>\n",
      "    nonzero: 0.1608%\n",
      "\n",
      "target:\n",
      "      shape: (23149, 103)\n",
      "  data type: uint8\n",
      " array type: <class 'scipy.sparse.csr.csr_matrix'>\n",
      "    nonzero: 3.0909%\n",
      "\n",
      "sample_id:\n",
      "      shape: (23149,)\n",
      "  data type: <class 'numpy.uint32'>\n",
      " array type: <class 'numpy.ndarray'>\n",
      "\n",
      "target_names:\n",
      "      shape: (103,)\n",
      "  data type: <class 'str'>\n",
      " array type: <class 'numpy.ndarray'>\n"
     ]
    }
   ],
   "source": [
    "print('\\nrcv1 testing subset attributes:')\n",
    "print_rcv1_attributes(rcv1_test)"
   ]
  },
  {
   "cell_type": "markdown",
   "metadata": {},
   "source": [
    "### [Modified National Institute of Standards and Technology (MNIST) Dataset](http://scikit-learn.org/stable/modules/generated/sklearn.datasets.fetch_mldata.html#sklearn.datasets.fetch_mldata) <a id='load_mnist'></a>\n",
    "\n",
    "Another included dataset is MNIST. This dataset is 70,000 handwritten digits represented by 28x28 pixel images. The classes correspond to the number shown in the image. Since each image is 28x28 each pixel is a feature giving each document 784 features."
   ]
  },
  {
   "cell_type": "code",
   "execution_count": 3,
   "metadata": {},
   "outputs": [
    {
     "name": "stdout",
     "output_type": "stream",
     "text": [
      "CPU times: user 151 ms, sys: 39.4 ms, total: 190 ms\n",
      "Wall time: 188 ms\n"
     ]
    }
   ],
   "source": [
    "%%time\n",
    "from sklearn.datasets import fetch_mldata\n",
    "\n",
    "mnist = fetch_mldata('MNIST original')"
   ]
  },
  {
   "cell_type": "markdown",
   "metadata": {},
   "source": [
    "### Train/Test Split <a id='train_test_split'></a>\n",
    "\n",
    "Since MNIST does not have a default train/test set like rcv1 we will use a train/test split. This is when a dataset is broken into two parts, one to train the classifier and one to test it. When decomposing the dataset it is important to ensure equal representation of each class. MNIST is sorted by  digit; therefore, if the dataset is simply partitioned in order there may be no instances of a particular class. This can be alleviated by shuffling the dataset. "
   ]
  },
  {
   "cell_type": "code",
   "execution_count": 4,
   "metadata": {},
   "outputs": [
    {
     "name": "stdout",
     "output_type": "stream",
     "text": [
      "CPU times: user 32.7 ms, sys: 19.2 ms, total: 51.9 ms\n",
      "Wall time: 51 ms\n"
     ]
    }
   ],
   "source": [
    "%%time\n",
    "from sklearn.model_selection import train_test_split\n",
    "\n",
    "# To keep the .data and .target format consistent \n",
    "class Dataset_Part:\n",
    "    \"\"\" Represents a dataset with attributes\n",
    "         data and target \"\"\"\n",
    "    \n",
    "    data = None\n",
    "    target = None\n",
    "    def __init__(self, X, y):\n",
    "        self.data = X\n",
    "        self.target = y\n",
    "\n",
    "X_train, X_test, y_train, y_test = train_test_split(mnist.data, mnist.target, test_size=.33, random_state=35)\n",
    "mnist_train, mnist_test = Dataset_Part(X_train, y_train), Dataset_Part(X_test, y_test)"
   ]
  },
  {
   "cell_type": "markdown",
   "metadata": {},
   "source": [
    "### Dataset Attributes of MNIST <a id='attributes_mnist'></a>\n",
    "\n",
    "Datasets loaded from scikit-learn will typically have several attributes.\n",
    "\n",
    "   1. __data__ - a [numpy n-dimensional array](https://docs.scipy.org/doc/numpy-1.14.0/reference/generated/numpy.ndarray.html) (ndarray). The value of each feature corresponds to the intensity of a pixel. Each feature is represented by an intensity 0 (white) to 255 (black). The shape is (num_samples, num_features).\n",
    "   2. __target__ - a [numpy n-dimensional array](https://docs.scipy.org/doc/numpy-1.14.0/reference/generated/numpy.ndarray.html) (ndarray) associating each sample's ID to the value of the handwritten digit.\n",
    "   \n",
    "The shape attribute gives the dimensions of the matrix."
   ]
  },
  {
   "cell_type": "code",
   "execution_count": 51,
   "metadata": {},
   "outputs": [],
   "source": [
    "import numpy as np\n",
    "\n",
    "def get_avg_nonzero(subset):\n",
    "    \"\"\" Returns the percent of items in the provided \n",
    "         list matricies that are not 0.\n",
    "         \n",
    "        Params:\n",
    "          matrix -- a csr sparse matrix \"\"\"\n",
    "\n",
    "    nonzero = (np.count_nonzero(subset) / (subset.shape[1] * subset.shape[0])) * 100\n",
    "    \n",
    "    # Check value is valid\n",
    "    assert nonzero <= 100.\n",
    "    assert nonzero >= 0.\n",
    "    \n",
    "    return nonzero\n",
    "\n",
    "def print_mnist_attributes(dataset):\n",
    "    \"\"\" Prints attributes of the provided dataset.\n",
    "    \n",
    "        Params:\n",
    "          dataset -- the mnist full dataset \"\"\"\n",
    "    \n",
    "    print(f'     mnist type: {type(dataset)}')\n",
    "    \n",
    "    print ('data:')\n",
    "    print(f'          shape: {dataset.data.shape}')\n",
    "    print(f'      data type: {dataset.data.dtype}')\n",
    "    print(f'     array type: {type(dataset.data)}')\n",
    "    print(f' nonzero pixels: {get_avg_nonzero(dataset.data):0.4f}%\\n')\n",
    "\n",
    "    print('target:')\n",
    "    print(f'          shape: {dataset.target.shape}')\n",
    "    print(f'      data type: {dataset.target.dtype}')\n",
    "    print(f'     array type: {type(dataset.target)}')"
   ]
  },
  {
   "cell_type": "code",
   "execution_count": 52,
   "metadata": {},
   "outputs": [
    {
     "name": "stdout",
     "output_type": "stream",
     "text": [
      "MNIST dataset attributes\n",
      "     mnist type: <class 'sklearn.utils.Bunch'>\n",
      "data:\n",
      "          shape: (70000, 784)\n",
      "      data type: uint8\n",
      "     array type: <class 'numpy.ndarray'>\n",
      " nonzero pixels: 19.1424%\n",
      "\n",
      "target:\n",
      "          shape: (70000,)\n",
      "      data type: float64\n",
      "     array type: <class 'numpy.ndarray'>\n"
     ]
    }
   ],
   "source": [
    "print('MNIST dataset attributes')\n",
    "print_mnist_attributes(mnist)"
   ]
  },
  {
   "cell_type": "markdown",
   "metadata": {},
   "source": [
    "It is also possible to view a document as an image by reshaping the array to a 28x28 matrix."
   ]
  },
  {
   "cell_type": "code",
   "execution_count": 64,
   "metadata": {},
   "outputs": [
    {
     "name": "stdout",
     "output_type": "stream",
     "text": [
      "\tIndex: 1490\tLabel: 0\n"
     ]
    },
    {
     "data": {
      "image/png": "[encoded data removed]",
      "text/plain": [
       "<matplotlib.figure.Figure at 0x1a4c636198>"
      ]
     },
     "metadata": {},
     "output_type": "display_data"
    },
    {
     "name": "stdout",
     "output_type": "stream",
     "text": [
      "CPU times: user 137 ms, sys: 69.1 ms, total: 206 ms\n",
      "Wall time: 204 ms\n"
     ]
    }
   ],
   "source": [
    "%%time\n",
    "import matplotlib\n",
    "import matplotlib.pyplot as plt\n",
    "import random\n",
    "\n",
    "# Get a random document\n",
    "rand_index = random.randint(0,70000)\n",
    "rand_digit = mnist.data[rand_index]\n",
    "# Reshape it to the size of the image\n",
    "rand_digit_image = rand_digit.reshape(28,28)\n",
    "\n",
    "# Some information\n",
    "print(f'\\tIndex: {rand_index}\\tLabel: {mnist.target[rand_index]:.0f}')\n",
    "# Show the image\n",
    "plt.imshow(rand_digit_image, cmap=matplotlib.cm.binary, interpolation=\"nearest\")\n",
    "plt.axis(\"off\")\n",
    "plt.show()"
   ]
  },
  {
   "cell_type": "markdown",
   "metadata": {},
   "source": [
    "# Document Classification <a id='document_classification'></a>"
   ]
  },
  {
   "cell_type": "markdown",
   "metadata": {},
   "source": [
    "## [Naive Bayes](http://scikit-learn.org/stable/modules/naive_bayes.html) <a id='naive_bayes'></a>\n",
    "A supervise learning algorithm based on using Bayes' theorem. This method assumes independence between each pair of features.\n",
    "\n",
    "Bayes Theorem:\n",
    "\\begin{equation}\n",
    "P(y | x_1, . . ., x_n) = \\frac{P(y) P(x_1, . . ., x_n | y)} {P(x_1, . . ., x_n)} \\hspace{3.6cm} (1)\n",
    "\\end{equation}\n",
    "\n",
    "This can be further simplified by using the assumption that each pair of features is independent, shown in eq 2.1. Then since $P(x_1, ..., x_n) $ is constant with respect to each input we can use the proportionlity in eq 2.2.\n",
    "\n",
    "\\begin{align}\n",
    "P(y | x_1, . . ., x_n) &= \\frac{P(y) \\prod_{i = 1}^{n} P(x_1, . . ., x_n | y)} {P(x_1, . . ., x_n)} \\hspace{3cm}(2.1)\\\\\n",
    "                 &\\propto P(y) \\prod_{i = 1}^{n} P(x_1, . . ., x_n | y)   \\hspace{3.5cm}(2.2)\n",
    "\\end{align}\n",
    "\n",
    "This gives us our classification rule, shown in eq 3.\n",
    "\n",
    "\\begin{equation}\n",
    "\\hat{y} = arg \\max_y P(y) \\prod_{i=1}^{n} P(x_i | y) \\hspace{5.4cm} (3)\n",
    "\\end{equation}\n",
    "\n",
    "SciKit Learn supports several Naive Bayes implimentations. \n",
    "1. __Gaussian Naive Bayes__ - In this implementation the likelihood of the features is assumed to be Gaussian. Gussian distributions are more commonly reffered to as the normal distribution or bell curve. This class does not support sparse matricies.\n",
    "2. __Multinomial Naive Bayes__ - In this implementation the likelihood of the features is assumed to follow a multinomial distribution. Typically used in text classification. This class does support sparse matricies.\n",
    "3. __Bernoulli Naive Bayes__ - This implimentaiton assumes the data follows multivariate Bernoulli distributions. Multiple features are allowed but each one is assumed to be a binary variable."
   ]
  },
  {
   "cell_type": "markdown",
   "metadata": {},
   "source": [
    "## Naive Bayes on rcv1 <a id='nb_rcv1'>\n",
    "</a> Because of these restrictions only Multinomial Naive Bayes will be appropriate for the RCV1 dataset. There is an additional step required because Naive Bayes does not typically predict multilple labels. This means an additional strategy must be implemented. One commonly used startegy is known as one-vs-all ([one-vs-the-rest](http://scikit-learn.org/stable/modules/generated/sklearn.multiclass.OneVsRestClassifier.html#sklearn.multiclass.OneVsRestClassifier) in scikit learn). This strategy works by using one classifier for each label."
   ]
  },
  {
   "cell_type": "code",
   "execution_count": 5,
   "metadata": {},
   "outputs": [
    {
     "name": "stderr",
     "output_type": "stream",
     "text": [
      "/anaconda3/lib/python3.6/site-packages/sklearn/multiclass.py:76: UserWarning: Label not 49 is present in all training examples.\n",
      "  str(classes[c]))\n",
      "/anaconda3/lib/python3.6/site-packages/sklearn/multiclass.py:76: UserWarning: Label not 80 is present in all training examples.\n",
      "  str(classes[c]))\n"
     ]
    },
    {
     "name": "stdout",
     "output_type": "stream",
     "text": [
      "CPU times: user 2.08 s, sys: 310 ms, total: 2.39 s\n",
      "Wall time: 2.22 s\n"
     ]
    }
   ],
   "source": [
    "%%time\n",
    "from sklearn.naive_bayes import MultinomialNB\n",
    "from sklearn.multiclass import OneVsRestClassifier\n",
    "\n",
    "# n_jobs=-1 means use create one thread for each cpu core\n",
    "clf_NB_rcv1 = OneVsRestClassifier(MultinomialNB(), n_jobs=-1)\n",
    "clf_NB_rcv1.fit(rcv1_train.data, rcv1_train.target)"
   ]
  },
  {
   "cell_type": "markdown",
   "metadata": {},
   "source": [
    "<a id='nb_mnist'></a> Since MNIST is much smaller and not a multioutput problem it will be used to demenstrate Multinomial Niave Bayes, Gaussian Niave Bayes, and Bernoulli Niave Bayes. Notice that the OneVsRestClassifier is not necessary when using MNIST because it is not a multioutput dataset (meaning each sample only has one label)."
   ]
  },
  {
   "cell_type": "code",
   "execution_count": 6,
   "metadata": {},
   "outputs": [
    {
     "name": "stdout",
     "output_type": "stream",
     "text": [
      "CPU times: user 329 ms, sys: 123 ms, total: 452 ms\n",
      "Wall time: 301 ms\n"
     ]
    }
   ],
   "source": [
    "%%time\n",
    "from sklearn.naive_bayes import MultinomialNB\n",
    "\n",
    "clf_Mult_NB = MultinomialNB()\n",
    "clf_Mult_NB.fit(mnist_train.data, mnist_train.target)"
   ]
  },
  {
   "cell_type": "code",
   "execution_count": 7,
   "metadata": {},
   "outputs": [
    {
     "name": "stdout",
     "output_type": "stream",
     "text": [
      "CPU times: user 840 ms, sys: 183 ms, total: 1.02 s\n",
      "Wall time: 548 ms\n"
     ]
    }
   ],
   "source": [
    "%%time\n",
    "from sklearn.naive_bayes import GaussianNB\n",
    "\n",
    "clf_Gauss_NB = GaussianNB()\n",
    "clf_Gauss_NB.fit(mnist_train.data, mnist_train.target)"
   ]
  },
  {
   "cell_type": "code",
   "execution_count": 8,
   "metadata": {},
   "outputs": [
    {
     "name": "stdout",
     "output_type": "stream",
     "text": [
      "CPU times: user 401 ms, sys: 148 ms, total: 549 ms\n",
      "Wall time: 386 ms\n"
     ]
    }
   ],
   "source": [
    "%%time\n",
    "from sklearn.naive_bayes import BernoulliNB\n",
    "\n",
    "clf_Bern_NB = BernoulliNB()\n",
    "clf_Bern_NB.fit(mnist_train.data, mnist_train.target)"
   ]
  },
  {
   "cell_type": "markdown",
   "metadata": {},
   "source": [
    "## Generating Predictions <a id='generating_predictions'></a>\n",
    "\n",
    "Classifiers in machine learning are used to predict the label(s) of a new document that the classifier has never seen. Niave Bayes generates predictions by finding the label(s) with the highest probability."
   ]
  },
  {
   "cell_type": "code",
   "execution_count": 9,
   "metadata": {},
   "outputs": [
    {
     "name": "stdout",
     "output_type": "stream",
     "text": [
      "CPU times: user 31.9 s, sys: 1.45 s, total: 33.3 s\n",
      "Wall time: 33.3 s\n"
     ]
    }
   ],
   "source": [
    "%%time\n",
    "\n",
    "pred_NB_rcv1 = clf_NB_rcv1.predict(rcv1_test.data)"
   ]
  },
  {
   "cell_type": "code",
   "execution_count": 10,
   "metadata": {},
   "outputs": [
    {
     "name": "stdout",
     "output_type": "stream",
     "text": [
      "CPU times: user 109 ms, sys: 52.1 ms, total: 161 ms\n",
      "Wall time: 94.1 ms\n"
     ]
    }
   ],
   "source": [
    "%%time\n",
    "\n",
    "pred_Mult_NB = clf_Mult_NB.predict(mnist_test.data)"
   ]
  },
  {
   "cell_type": "code",
   "execution_count": 11,
   "metadata": {},
   "outputs": [
    {
     "name": "stdout",
     "output_type": "stream",
     "text": [
      "CPU times: user 1.79 s, sys: 1.01 s, total: 2.8 s\n",
      "Wall time: 2.28 s\n"
     ]
    }
   ],
   "source": [
    "%%time\n",
    "\n",
    "pred_Gauss_NB = clf_Gauss_NB.predict(mnist_test.data)"
   ]
  },
  {
   "cell_type": "code",
   "execution_count": 12,
   "metadata": {},
   "outputs": [
    {
     "name": "stdout",
     "output_type": "stream",
     "text": [
      "CPU times: user 181 ms, sys: 69.7 ms, total: 251 ms\n",
      "Wall time: 184 ms\n"
     ]
    }
   ],
   "source": [
    "%%time\n",
    "\n",
    "pred_Bern_NB = clf_Bern_NB.predict(mnist_test.data)"
   ]
  },
  {
   "cell_type": "markdown",
   "metadata": {},
   "source": [
    "## Evaluating Predictions <a id='evaluating_predictions'></a>\n",
    "When testing a machine learning algorithm it is difficult to determine how a classifier performs by looking at predictions, so several metrics are commonly used to evaluate their performance.\n",
    "\n",
    "1. __accuracy__ - The percentage of labels predicted correctly.\n",
    "+ __precision__ - The ratio of true positives to true positives and false positives.\n",
    "+ __recall__ - The ratio of true positives to true positives and false negatives.\n",
    "+ __average precision__ - The weighted mean of the precision achieved at eaach recall threshold.\n",
    "\n",
    "The term 'micro' average refers to calculating the average of each label weighted with respect to how frequently they occur. This is most appropriate for the RCV1 dataset because the labels do not occur with the same frequency. Information on additional averaging methods can be found [here](http://scikit-learn.org/stable/modules/generated/sklearn.metrics.average_precision_score.html#sklearn.metrics.average_precision_score). \n",
    "\n",
    "The term 'macro' average refers to calculating the average of each label without taking the label frequency into account. This is appropriate for MNIST because each label occurs with the same frequency. "
   ]
  },
  {
   "cell_type": "code",
   "execution_count": 11,
   "metadata": {},
   "outputs": [],
   "source": [
    "# For scoring methods\n",
    "from sklearn.metrics import accuracy_score, average_precision_score, f1_score, precision_score, recall_score\n",
    "from scipy.sparse import issparse\n",
    "\n",
    "def get_scores(target, prediction, avg_type):\n",
    "    \"\"\" Return the accuracy, f1, average precision, recall, \n",
    "         and precision of the provided prediction\n",
    "        \n",
    "        Params:\n",
    "          target -- a [num_samples, num_labels] matrix of the correct classificiation samples\n",
    "          prediction -- a [num_samples, num_labels] matrix of predicted classifications\n",
    "        \n",
    "        Returns a list of scores with the order:\n",
    "         [accuracy, f1, average precision, recall, precision]. \"\"\"\n",
    "    \n",
    "    scores = { 'accuracy': accuracy_score(target, prediction),\n",
    "               'f1' : f1_score(target, prediction, average=avg_type),\n",
    "               'recall' : recall_score(target, prediction, average=avg_type),\n",
    "               'precision' : precision_score(target, prediction, average=avg_type) }\n",
    "    \n",
    "    # Check that scores are valid\n",
    "    for _, val in scores.items():\n",
    "        assert val >= 0.\n",
    "        assert val <= 1.\n",
    "    \n",
    "    return scores\n",
    "\n",
    "def print_scores(scores, avg_type):\n",
    "    \"\"\" Prints the provided accuracy, f1, average precision, recall, \n",
    "         and precision scores\n",
    "         \n",
    "        Params:\n",
    "          scores -- a dictionary of scores with the following items: \n",
    "                     accuracy, f1, average precision, recall, precision \"\"\"\n",
    "    \n",
    "    print(f'Accuracy: {scores[\"accuracy\"]:0.4f}')\n",
    "    print(f'{avg_type}-averaged F1: {scores[\"f1\"]:0.4f}')\n",
    "    print(f'{avg_type} averaged recall: {scores[\"recall\"]:0.4f}')\n",
    "    print(f'{avg_type} averaged precision: {scores[\"precision\"]:0.4f}')"
   ]
  },
  {
   "cell_type": "code",
   "execution_count": 14,
   "metadata": {},
   "outputs": [
    {
     "name": "stdout",
     "output_type": "stream",
     "text": [
      "Accuracy: 0.0963\n",
      "micro-averaged F1: 0.4922\n",
      "micro averaged recall: 0.3308\n",
      "micro averaged precision: 0.9615\n",
      "CPU times: user 805 ms, sys: 75 ms, total: 880 ms\n",
      "Wall time: 443 ms\n"
     ]
    }
   ],
   "source": [
    "%%time\n",
    "\n",
    "scores_NB_rcv1 = get_scores(rcv1_test.target, pred_NB_rcv1, 'micro')\n",
    "print_scores(scores_NB_rcv1, 'micro')"
   ]
  },
  {
   "cell_type": "code",
   "execution_count": 15,
   "metadata": {},
   "outputs": [
    {
     "name": "stdout",
     "output_type": "stream",
     "text": [
      "Accuracy: 0.8294\n",
      "macro-averaged F1: 0.8281\n",
      "macro averaged recall: 0.8263\n",
      "macro averaged precision: 0.8360\n",
      "CPU times: user 24.5 ms, sys: 3.46 ms, total: 27.9 ms\n",
      "Wall time: 26.7 ms\n"
     ]
    }
   ],
   "source": [
    "%%time\n",
    "\n",
    "scores_Mult_NB = get_scores(mnist_test.target, pred_Mult_NB, 'macro')\n",
    "print_scores(scores_Mult_NB, 'macro')"
   ]
  },
  {
   "cell_type": "code",
   "execution_count": 16,
   "metadata": {},
   "outputs": [
    {
     "name": "stdout",
     "output_type": "stream",
     "text": [
      "Accuracy: 0.5543\n",
      "macro-averaged F1: 0.5011\n",
      "macro averaged recall: 0.5451\n",
      "macro averaged precision: 0.6662\n",
      "CPU times: user 23.7 ms, sys: 1.03 ms, total: 24.8 ms\n",
      "Wall time: 23.7 ms\n"
     ]
    }
   ],
   "source": [
    "%%time\n",
    "\n",
    "scores_Gauss_NB = get_scores(mnist_test.target, pred_Gauss_NB, 'macro')\n",
    "print_scores(scores_Gauss_NB, 'macro')"
   ]
  },
  {
   "cell_type": "code",
   "execution_count": 17,
   "metadata": {},
   "outputs": [
    {
     "name": "stdout",
     "output_type": "stream",
     "text": [
      "Accuracy: 0.8363\n",
      "macro-averaged F1: 0.8341\n",
      "macro averaged recall: 0.8334\n",
      "macro averaged precision: 0.8369\n",
      "CPU times: user 24.8 ms, sys: 1.11 ms, total: 25.9 ms\n",
      "Wall time: 24.8 ms\n"
     ]
    }
   ],
   "source": [
    "%%time\n",
    "\n",
    "scores_Bern_NB = get_scores(mnist_test.target, pred_Bern_NB, 'macro')\n",
    "print_scores(scores_Bern_NB, 'macro')"
   ]
  },
  {
   "cell_type": "markdown",
   "metadata": {},
   "source": [
    "## Recall vs Precision Graph <a id='recall_precision_graph'></a>\n",
    "\n",
    "Recall and precision are inversely related, as you increase one the other decreases. Because of this it is often nessicary to adjust the implementation to get the ideal precision or recall for the specific task at hand. A good way to visualize this tradeoff is by graphing recall vs precision at different prediction thresholds. "
   ]
  },
  {
   "cell_type": "code",
   "execution_count": 10,
   "metadata": {},
   "outputs": [],
   "source": [
    "# For Scoring and Graph\n",
    "from sklearn.metrics import average_precision_score, f1_score, precision_score, recall_score, precision_recall_curve\n",
    "import matplotlib.pyplot as plt\n",
    "from sklearn.preprocessing import label_binarize\n",
    "import numpy as np\n",
    "\n",
    "# Example provided by http://scikit-learn.org/stable/auto_examples/model_selection/plot_precision_recall.html#sphx-glr-auto-examples-model-selection-plot-precision-recall-py\n",
    "def graph_precision_recall(Y_test, y_score, title, classes=[]):\n",
    "    \n",
    "    if issparse(Y_test):\n",
    "        Y_test = Y_test.toarray()\n",
    "    \n",
    "    # If Y_test is multiclass it must be binarized\n",
    "    if not np.array_equal(Y_test, Y_test.astype(bool)):\n",
    "        classes_auto = np.unique(Y_test)\n",
    "        Y_test = label_binarize(Y_test, classes_auto if len(classes) < len(classes_auto) else classes)\n",
    "\n",
    "    # A \"micro-average\": quantifying score on all classes jointly\n",
    "    precision, recall, threshold = precision_recall_curve(Y_test.ravel(), y_score.ravel())\n",
    "    average_precision = average_precision_score(Y_test, y_score, average=\"micro\")\n",
    "    \n",
    "    # Generate Graph\n",
    "    plt.figure()\n",
    "    plt.step(recall, precision, color='b', alpha=0.2,where='post')\n",
    "    plt.fill_between(recall, precision, step='post', alpha=0.2,color='b')\n",
    "\n",
    "    plt.xlabel('Recall')\n",
    "    plt.ylabel('Precision')\n",
    "    plt.ylim([0.0, 1.05])\n",
    "    plt.xlim([0.0, 1.0])\n",
    "    plt.title(f'Precision-Recall Curve for {title}')\n",
    "    plt.savefig('./graphs/recall-precision_' + title + '_samples.png')\n",
    "    plt.show()\n",
    "\n",
    "    return {'precision': precision, \n",
    "            'recall': recall, \n",
    "            'threshold': threshold, \n",
    "            'average_precision': average_precision }"
   ]
  },
  {
   "cell_type": "markdown",
   "metadata": {},
   "source": [
    "### Recall-Precision Graph for Naive Bayes with rcv1 <a id='graph_nb_rcv1'></a>"
   ]
  },
  {
   "cell_type": "code",
   "execution_count": 19,
   "metadata": {},
   "outputs": [
    {
     "data": {
      "image/png": "[encoded data removed]",
      "text/plain": [
       "<matplotlib.figure.Figure at 0x10223f8d0>"
      ]
     },
     "metadata": {},
     "output_type": "display_data"
    },
    {
     "name": "stdout",
     "output_type": "stream",
     "text": [
      "CPU times: user 6min 2s, sys: 2min, total: 8min 2s\n",
      "Wall time: 8min 16s\n"
     ]
    }
   ],
   "source": [
    "%%time \n",
    "\n",
    "confidence_NB_rcv1 = clf_NB_rcv1.predict_proba(rcv1_test.data)\n",
    "metrics_NB_rcv1 = graph_precision_recall(rcv1_test.target, confidence_NB_rcv1, 'NB rcv1' )"
   ]
  },
  {
   "cell_type": "markdown",
   "metadata": {},
   "source": [
    "### Recall-Precision Graph for for Naive Bayes with MNIST <a id='graph_nb_mnist'></a>"
   ]
  },
  {
   "cell_type": "code",
   "execution_count": 20,
   "metadata": {},
   "outputs": [],
   "source": [
    "# The precision_recall_curve function does not accept multiclass targets so we must binarize the target first\n",
    "from sklearn.preprocessing import label_binarize\n",
    "from numpy import unique\n",
    "mnist_bin_labels = label_binarize(mnist_test.target, unique(mnist.target))"
   ]
  },
  {
   "cell_type": "code",
   "execution_count": 42,
   "metadata": {},
   "outputs": [
    {
     "data": {
      "image/png": "[encoded data removed]",
      "text/plain": [
       "<matplotlib.figure.Figure at 0x151a8cf390>"
      ]
     },
     "metadata": {},
     "output_type": "display_data"
    },
    {
     "name": "stdout",
     "output_type": "stream",
     "text": [
      "CPU times: user 824 ms, sys: 91.9 ms, total: 916 ms\n",
      "Wall time: 375 ms\n"
     ]
    }
   ],
   "source": [
    "%%time\n",
    "\n",
    "confidence_Mult_NB = clf_Mult_NB.predict_proba(mnist_test.data)\n",
    "metrics_Mult_NB = graph_precision_recall(mnist_test.target, confidence_Mult_NB, 'NB Multinomial MNIST')"
   ]
  },
  {
   "cell_type": "code",
   "execution_count": 43,
   "metadata": {},
   "outputs": [
    {
     "data": {
      "image/png": "[encoded data removed]",
      "text/plain": [
       "<matplotlib.figure.Figure at 0x151e746400>"
      ]
     },
     "metadata": {},
     "output_type": "display_data"
    },
    {
     "name": "stdout",
     "output_type": "stream",
     "text": [
      "CPU times: user 1.77 s, sys: 1.14 s, total: 2.91 s\n",
      "Wall time: 2.95 s\n"
     ]
    }
   ],
   "source": [
    "%%time\n",
    "\n",
    "confidence_Gauss_NB = clf_Gauss_NB.predict_proba(mnist_test.data)\n",
    "metrics_Gauss_NB = graph_precision_recall(mnist_test.target, confidence_Gauss_NB, 'NB Gaussian MNIST' )"
   ]
  },
  {
   "cell_type": "code",
   "execution_count": 44,
   "metadata": {},
   "outputs": [
    {
     "data": {
      "image/png": "[encoded data removed]",
      "text/plain": [
       "<matplotlib.figure.Figure at 0x151aa0d6d8>"
      ]
     },
     "metadata": {},
     "output_type": "display_data"
    },
    {
     "name": "stdout",
     "output_type": "stream",
     "text": [
      "CPU times: user 1.48 s, sys: 153 ms, total: 1.63 s\n",
      "Wall time: 1.06 s\n"
     ]
    }
   ],
   "source": [
    "%%time\n",
    "\n",
    "confidence_Bern_NB = clf_Bern_NB.predict_proba(mnist_test.data)\n",
    "metrics_Bern_NB = graph_precision_recall(mnist_test.target, confidence_Bern_NB, 'NB Bernoulli MNIST' )"
   ]
  },
  {
   "cell_type": "markdown",
   "metadata": {},
   "source": [
    "## [K-Folds Cross-Validation](http://scikit-learn.org/stable/modules/generated/sklearn.model_selection.KFold.html) <a id='k_folds'></a>\n",
    "\n",
    "To remove bias from a train/test split it is common practice to use K-Folds cross-validation, typically k = 10. This splits the dataset into k segments. With these k segments k - 1 are used to train a classifier while the last one is used to test. This is repeated until all k segments have been used as the testing segment. "
   ]
  },
  {
   "cell_type": "code",
   "execution_count": 6,
   "metadata": {},
   "outputs": [],
   "source": [
    "# For train/test split\n",
    "from sklearn.model_selection import KFold\n",
    "\n",
    "def k_fold_and_score_NB(make_fit_func, data, target, k):\n",
    "    \"\"\" Returns the average scores over k folds.\n",
    "    \n",
    "        Params:\n",
    "          make_fit_func -- a function that takes (data, target) as paramaters\n",
    "                            and returns a trained classifier\n",
    "          data -- a [num_samples, num_features] matrix\n",
    "          target --  a [num_samples, num_labels] matrix\n",
    "          k -- the number of folds to make \"\"\"\n",
    "    \n",
    "    # Initialize train/test split\n",
    "    kf = KFold(n_splits=k, shuffle=True, random_state=34)\n",
    "\n",
    "    # Initialize total score dictionary\n",
    "    total_scores = {}\n",
    "    for score_type in ['accuracy', 'f1', 'recall', 'precision']:\n",
    "        total_scores[score_type] = 0.\n",
    "        \n",
    "    # Iterate over each train/test split\n",
    "    for train_index, test_index in kf.split(data):\n",
    "        X_train = data[train_index]\n",
    "        X_test = data[test_index]\n",
    "        y_train = target[train_index]\n",
    "        y_test = target[test_index]\n",
    "\n",
    "        # Train classifier\n",
    "        split_clf = make_fit_func()\n",
    "        split_clf.fit(X_train, y_train)\n",
    "\n",
    "        # Generate prediction on test data\n",
    "        prediction = split_clf.predict(X_test)\n",
    "\n",
    "        scores = get_scores(y_test, prediction, 'macro')\n",
    "\n",
    "        for key, score in scores.items():\n",
    "            total_scores[key] += score\n",
    "\n",
    "    avg_scores = {}\n",
    "    for key, score in total_scores.items():\n",
    "            avg_scores[key] = score / k\n",
    "\n",
    "    for _, score in avg_scores.items():\n",
    "        assert score >= 0.\n",
    "        assert score <= 1.\n",
    "\n",
    "    return avg_scores"
   ]
  },
  {
   "cell_type": "code",
   "execution_count": 219,
   "metadata": {},
   "outputs": [
    {
     "name": "stdout",
     "output_type": "stream",
     "text": [
      "Accuracy: 0.8323\n",
      "macro-averaged F1: 0.8300\n",
      "macro averaged recall: 0.8293\n",
      "macro averaged precision: 0.8331\n"
     ]
    }
   ],
   "source": [
    "%%time\n",
    "from sklearn.naive_bayes import BernoulliNB\n",
    "\n",
    "avg_scores_NB = k_fold_and_score_NB(BernoulliNB, mnist.data, mnist.target, 10)\n",
    "print_scores(avg_scores_NB, 'macro')"
   ]
  },
  {
   "cell_type": "markdown",
   "metadata": {},
   "source": [
    "Notice the scores recieved using the much smaller training set recieve better results. This is called __overfitting__. Overfitting occurs when a classifier fits the training data too closely, and causes the classifier to lose its ability to predict other documents accurately."
   ]
  },
  {
   "cell_type": "markdown",
   "metadata": {},
   "source": [
    "## [Support Vector Machines (SVM)](http://scikit-learn.org/stable/modules/svm.html) <a id='svm'></a>\n",
    "    \n",
    "A supervised learning that works by seperating the samples into categories seperated by a hyperplane, or set of hyperplanes. Since the hyperplane that that seperates them is not typically unique SVM finds the hyperplane with the maximum distance from any of the categories.\n",
    "\n",
    "SVM use kernel functions to compute the similarity between data points. Some of the most common are:\n",
    "\n",
    "1. linear\n",
    "+ polynomial\n",
    "+ radial basis function (rbf)\n",
    "+ sigmoid\n",
    "\n",
    "The kernel used can significantly impact the accuracy of a classifier. More information on kernels is provided [here](http://scikit-learn.org/stable/modules/metrics.html).\n",
    "\n",
    "Support Vector Machines do not scale well to large datasets because of this additional strategies needed to be implemented to make the RCV1 dataset work. Since RCV1 requires multiple outputs the one-vs-all strategy needed to be implemented. Next a linear kernel was applied, this reduces complexity and memory usage when compared to some of the more complex kernels. The last method used is an ensamble method, specifically the [BaggingClassifier](http://scikit-learn.org/stable/modules/generated/sklearn.ensemble.BaggingClassifier.html). This fits classifiers to random subsets of the origional dataset and combines their predictions. \\n"
   ]
  },
  {
   "cell_type": "markdown",
   "metadata": {},
   "source": [
    "### Initialize and Fit for rcv1 <a id='svm_rcv1'></a>"
   ]
  },
  {
   "cell_type": "code",
   "execution_count": 25,
   "metadata": {},
   "outputs": [
    {
     "name": "stderr",
     "output_type": "stream",
     "text": [
      "/anaconda3/lib/python3.6/site-packages/sklearn/multiclass.py:76: UserWarning: Label not 49 is present in all training examples.\n",
      "  str(classes[c]))\n",
      "/anaconda3/lib/python3.6/site-packages/sklearn/multiclass.py:76: UserWarning: Label not 80 is present in all training examples.\n",
      "  str(classes[c]))\n"
     ]
    },
    {
     "name": "stdout",
     "output_type": "stream",
     "text": [
      "CPU times: user 5.33 s, sys: 1.71 s, total: 7.04 s\n",
      "Wall time: 56.3 s\n"
     ]
    }
   ],
   "source": [
    "%%time\n",
    "from sklearn.svm import LinearSVC\n",
    "from sklearn.multiclass import OneVsRestClassifier\n",
    "from sklearn.ensemble import BaggingClassifier\n",
    "\n",
    "clf_SVM_rcv1 = OneVsRestClassifier(BaggingClassifier(LinearSVC()), n_jobs=-1)\n",
    "clf_SVM_rcv1.fit(rcv1_train.data, rcv1_train.target)"
   ]
  },
  {
   "cell_type": "markdown",
   "metadata": {},
   "source": [
    "### Generate Scores for rcv1"
   ]
  },
  {
   "cell_type": "code",
   "execution_count": null,
   "metadata": {},
   "outputs": [],
   "source": [
    "%%time\n",
    "pred_SVM_rcv1 = clf_SVM_rcv1.predict(rcv1_test.data)"
   ]
  },
  {
   "cell_type": "code",
   "execution_count": null,
   "metadata": {},
   "outputs": [],
   "source": [
    "%%time\n",
    "\n",
    "scores_SVM_rcv1 = get_scores(rcv1_test.target, pred_SVM_rcv1)\n",
    "print_scores(scores_SVM)"
   ]
  },
  {
   "cell_type": "markdown",
   "metadata": {},
   "source": [
    "### Generate Recall-Precision Graph for rcv1"
   ]
  },
  {
   "cell_type": "code",
   "execution_count": null,
   "metadata": {},
   "outputs": [],
   "source": [
    "%%time\n",
    "\n",
    "# Predict using every 100th document to reduce size for testing\n",
    "confidence_SVM_rcv1_part = clf_SVM_rcv1.decision_function(rcv1_test.data[::100])\n",
    "metrics_SVM_rcv1_part = graph_precision_recall(rcv1_test.target[::100], confidence_SVM_rcv1_part, 'SVM_1 percent rcv1' )"
   ]
  },
  {
   "cell_type": "code",
   "execution_count": null,
   "metadata": {},
   "outputs": [],
   "source": [
    "%%time\n",
    "# Predict using every testing document\n",
    "confidence_SVM_rcv1 = clf_SVM_rcv1.decision_function(rcv1_test.data)"
   ]
  },
  {
   "cell_type": "code",
   "execution_count": null,
   "metadata": {},
   "outputs": [],
   "source": [
    "%%time\n",
    "metrics_SVM_rcv1 = graph_precision_recall(rcv1_test.target, confidence_SVM_rcv1, 'SVM rcv1' )"
   ]
  },
  {
   "cell_type": "markdown",
   "metadata": {},
   "source": [
    "### Initialize and Fit for MNIST <a id='svm_mnist'></a>"
   ]
  },
  {
   "cell_type": "code",
   "execution_count": 24,
   "metadata": {},
   "outputs": [
    {
     "name": "stdout",
     "output_type": "stream",
     "text": [
      "CPU times: user 1h 27min 36s, sys: 14.4 s, total: 1h 27min 51s\n",
      "Wall time: 1h 27min 58s\n"
     ]
    }
   ],
   "source": [
    "%%time\n",
    "from sklearn.svm import SVC\n",
    "\n",
    "clf_SVM_mnist = SVC(kernel='rbf')\n",
    "clf_SVM_mnist.fit(mnist_train.data, mnist_train.target)"
   ]
  },
  {
   "cell_type": "code",
   "execution_count": null,
   "metadata": {},
   "outputs": [],
   "source": [
    "%%time\n",
    "from sklearn.svm import SVC\n",
    "\n",
    "clf_SVM_mnist = SVC(C=1, gamma= .05,kernel='rbf', random_state=35)\n",
    "clf_SVM_mnist.fit(mnist_train.data, mnist_train.target)"
   ]
  },
  {
   "cell_type": "markdown",
   "metadata": {},
   "source": [
    "### Generate Scores for MNIST"
   ]
  },
  {
   "cell_type": "code",
   "execution_count": 25,
   "metadata": {},
   "outputs": [
    {
     "name": "stdout",
     "output_type": "stream",
     "text": [
      "CPU times: user 11min 32s, sys: 874 ms, total: 11min 33s\n",
      "Wall time: 11min 33s\n"
     ]
    }
   ],
   "source": [
    "%%time\n",
    "pred_SVM_mnist = clf_SVM_mnist.predict(mnist_test.data)"
   ]
  },
  {
   "cell_type": "code",
   "execution_count": 17,
   "metadata": {},
   "outputs": [
    {
     "name": "stdout",
     "output_type": "stream",
     "text": [
      "Accuracy: 0.1134\n",
      "macro-averaged F1: 0.0204\n",
      "macro averaged recall: 0.1000\n",
      "macro averaged precision: 0.0113\n",
      "CPU times: user 20.9 ms, sys: 2.03 ms, total: 22.9 ms\n",
      "Wall time: 20.9 ms\n"
     ]
    },
    {
     "name": "stderr",
     "output_type": "stream",
     "text": [
      "/anaconda3/lib/python3.6/site-packages/sklearn/metrics/classification.py:1135: UndefinedMetricWarning: F-score is ill-defined and being set to 0.0 in labels with no predicted samples.\n",
      "  'precision', 'predicted', average, warn_for)\n",
      "/anaconda3/lib/python3.6/site-packages/sklearn/metrics/classification.py:1135: UndefinedMetricWarning: Precision is ill-defined and being set to 0.0 in labels with no predicted samples.\n",
      "  'precision', 'predicted', average, warn_for)\n"
     ]
    }
   ],
   "source": [
    "%%time\n",
    "\n",
    "scores_SVM_mnist = get_scores(mnist_test.target, pred_SVM_mnist, 'macro')\n",
    "print_scores(scores_SVM_mnist, 'macro')"
   ]
  },
  {
   "cell_type": "code",
   "execution_count": null,
   "metadata": {},
   "outputs": [],
   "source": [
    "%%time\n",
    "\n",
    "scores_SVM_mnist = get_scores(mnist_test.target, pred_SVM_mnist, 'micro')\n",
    "print_scores(scores_SVM_mnist, 'micro')"
   ]
  },
  {
   "cell_type": "code",
   "execution_count": null,
   "metadata": {},
   "outputs": [],
   "source": [
    "%%time\n",
    "\n",
    "scores_SVM_mnist = get_scores(mnist_test.target, pred_SVM_mnist, 'macro')\n",
    "print_scores(scores_SVM_mnist, 'macro')"
   ]
  },
  {
   "cell_type": "markdown",
   "metadata": {},
   "source": [
    "### Generate Recall-Precision Graph for MNIST"
   ]
  },
  {
   "cell_type": "code",
   "execution_count": 27,
   "metadata": {},
   "outputs": [
    {
     "name": "stdout",
     "output_type": "stream",
     "text": [
      "CPU times: user 11min 37s, sys: 1.12 s, total: 11min 38s\n",
      "Wall time: 11min 38s\n"
     ]
    }
   ],
   "source": [
    "%%time\n",
    "confidence_SVM_mnist = clf_SVM_mnist.decision_function(mnist_test.data)"
   ]
  },
  {
   "cell_type": "code",
   "execution_count": 45,
   "metadata": {},
   "outputs": [
    {
     "data": {
      "image/png": "[encoded data removed]",
      "text/plain": [
       "<matplotlib.figure.Figure at 0x152dda9828>"
      ]
     },
     "metadata": {},
     "output_type": "display_data"
    },
    {
     "name": "stdout",
     "output_type": "stream",
     "text": [
      "CPU times: user 164 ms, sys: 10.7 ms, total: 174 ms\n",
      "Wall time: 188 ms\n"
     ]
    }
   ],
   "source": [
    "%%time\n",
    "metrics_SVM_mnist = graph_precision_recall(mnist_test.target, confidence_SVM_mnist, 'SVM MNIST' )"
   ]
  },
  {
   "cell_type": "markdown",
   "metadata": {},
   "source": [
    "## [k-Nearest Neighbors (kNN)](http://scikit-learn.org/stable/modules/generated/sklearn.neighbors.KNeighborsClassifier.html#sklearn.neighbors.KNeighborsClassifier.fit) <a id='knn'></a>\n",
    "\n",
    "This algorithm is not trained like the previous machine learning algorithms. Nearest Neighbors is an instance-based learning algorithm, meaning it simply scores the training data instead of making a general model. It works by calculating the distance from a query point to all other points in the training set, and the top k closest points are returned. This can be very computationally demanding so an additional algorithm is typically implemented to help calculate distance. The two most frequently used algorithms are kd-tree and BallTree. Both are considerably faster than calculating neighbors with brute force, and BallTree performs especially well in high dimensions. Note that tree implementations cannot be applied to sparse data.\n",
    "\n",
    "Additionally the [distince metric](http://scikit-learn.org/stable/modules/generated/sklearn.neighbors.DistanceMetric.html) can be tailored to the dataset. Let $n$ be the number of dimensions in $\\vec{x}$, and let $x_i$ represent the $i^{\\text{th}}$ dimension of $\\vec{x}$.\n",
    "\n",
    "* Euclidean \n",
    "\\begin{equation*}\n",
    "dist(\\vec{x}, \\vec{y}) = \\sum_{i=1}^n (x_i - y_i)^2\n",
    "\\end{equation*}\n",
    "* Manhattan\n",
    "\\begin{equation*}\n",
    "dist(\\vec{x}, \\vec{y}) = \\sum_{i=1}^n \\mid x_i - y_i \\mid\n",
    "\\end{equation*}\n",
    "* Chebyshev\n",
    "\\begin{equation*}\n",
    "dist(\\vec{x}, \\vec{y}) = \\max_{i \\in [1, n]} ( \\mid x_i - y_i \\mid )\n",
    "\\end{equation*}\n",
    "* Minkowski\n",
    "\\begin{equation*}\n",
    "dist(\\vec{x}, \\vec{y}) = ( \\sum_{i=1}^n \\mid x_i - y_i \\mid^p )^{1/p}\n",
    "\\end{equation*}\n",
    "\n",
    "Notice Minowski distance is a generalized form of the other distance formulas. When $p = 1$ it is the same as Manhattan distance, when $p = \\infty$ it is the same as Chebyshev distance, and when $p = 2$ it is the same as Euclidean distance. The value for $p$ can be any real number."
   ]
  },
  {
   "cell_type": "markdown",
   "metadata": {},
   "source": [
    "### Initialize and Fit for rcv1 <a id='knn_rcv1'></a>"
   ]
  },
  {
   "cell_type": "code",
   "execution_count": null,
   "metadata": {},
   "outputs": [],
   "source": [
    "%%time\n",
    "from sklearn.neighbors import KNeighborsClassifier\n",
    "from sklearn.multiclass import OneVsRestClassifier\n",
    "\n",
    "clf_kNN_rcv1 = OneVsRestClassifier(KNeighborsClassifier(p=1,  n_jobs=2), n_jobs=4)\n",
    "clf_kNN_rcv1.fit(rcv1_train.data, rcv1_train.target)"
   ]
  },
  {
   "cell_type": "markdown",
   "metadata": {},
   "source": [
    "### Generate Scores for rcv1"
   ]
  },
  {
   "cell_type": "code",
   "execution_count": null,
   "metadata": {},
   "outputs": [],
   "source": [
    "%%time\n",
    "pred_kNN_rcv1 = clf_kNN_rcv1.predict(rcv1_test.data)"
   ]
  },
  {
   "cell_type": "code",
   "execution_count": null,
   "metadata": {},
   "outputs": [],
   "source": [
    "%%time\n",
    "\n",
    "scores_kNN_rcv1 = get_scores(rcv1_test.target, pred_kNN_rcv1)\n",
    "print_scores(scores_kNN_rcv1)"
   ]
  },
  {
   "cell_type": "markdown",
   "metadata": {},
   "source": [
    "### Generate Recall-Precision Graph for rcv1"
   ]
  },
  {
   "cell_type": "code",
   "execution_count": null,
   "metadata": {},
   "outputs": [],
   "source": [
    "%%time\n",
    "\n",
    "confidence_kNN_rcv1 = clf_kNN_rcv1.predict_proba(rcv1_test.data)\n",
    "metrics_kNN_rcv1 = graph_precision_recall(rcv1_test.target, confidence_kNN_rcv1, 'kNN rcv1' )"
   ]
  },
  {
   "cell_type": "markdown",
   "metadata": {},
   "source": [
    "### Initialize and Fit for MNIST <a id='knn_mnist'></a>"
   ]
  },
  {
   "cell_type": "code",
   "execution_count": 15,
   "metadata": {},
   "outputs": [
    {
     "name": "stdout",
     "output_type": "stream",
     "text": [
      "CPU times: user 15 s, sys: 144 ms, total: 15.2 s\n",
      "Wall time: 15.2 s\n"
     ]
    }
   ],
   "source": [
    "%%time\n",
    "from sklearn.neighbors import KNeighborsClassifier\n",
    "\n",
    "clf_kNN_mnist = KNeighborsClassifier(algorithm='ball_tree', p=1, n_jobs=-1)\n",
    "clf_kNN_mnist.fit(mnist_train.data, mnist_train.target)"
   ]
  },
  {
   "cell_type": "markdown",
   "metadata": {},
   "source": [
    "### Generate Scores for MNIST"
   ]
  },
  {
   "cell_type": "code",
   "execution_count": 17,
   "metadata": {},
   "outputs": [
    {
     "name": "stdout",
     "output_type": "stream",
     "text": [
      "CPU times: user 34min 39s, sys: 6.89 s, total: 34min 46s\n",
      "Wall time: 4min 49s\n"
     ]
    }
   ],
   "source": [
    "%%time\n",
    "pred_kNN_mnist = clf_kNN_mnist.predict(mnist_test.data)"
   ]
  },
  {
   "cell_type": "code",
   "execution_count": 20,
   "metadata": {},
   "outputs": [
    {
     "name": "stdout",
     "output_type": "stream",
     "text": [
      "Accuracy: 0.9625\n",
      "macro-averaged F1: 0.9624\n",
      "macro averaged recall: 0.9619\n",
      "macro averaged precision: 0.9636\n",
      "CPU times: user 28.1 ms, sys: 1.83 ms, total: 30 ms\n",
      "Wall time: 28.3 ms\n"
     ]
    }
   ],
   "source": [
    "%%time\n",
    "\n",
    "scores_kNN_mnist = get_scores(mnist_test.target, pred_kNN_mnist, 'macro')\n",
    "print_scores(scores_kNN_mnist, 'macro')"
   ]
  },
  {
   "cell_type": "markdown",
   "metadata": {},
   "source": [
    "### Generate Recall-Precision Graph for MNIST"
   ]
  },
  {
   "cell_type": "code",
   "execution_count": 19,
   "metadata": {},
   "outputs": [
    {
     "data": {
      "image/png": "[encoded data removed]",
      "text/plain": [
       "<matplotlib.figure.Figure at 0x10a8c0908>"
      ]
     },
     "metadata": {},
     "output_type": "display_data"
    },
    {
     "name": "stdout",
     "output_type": "stream",
     "text": [
      "CPU times: user 34min 40s, sys: 7.18 s, total: 34min 47s\n",
      "Wall time: 4min 51s\n"
     ]
    }
   ],
   "source": [
    "%%time\n",
    "\n",
    "confidence_kNN_mnist = clf_kNN_mnist.predict_proba(mnist_test.data)\n",
    "metrics_kNN_mnist = graph_precision_recall(mnist_test.target, confidence_kNN_mnist, 'kNN MNIST')"
   ]
  },
  {
   "cell_type": "markdown",
   "metadata": {},
   "source": [
    "## [Decision Trees](http://scikit-learn.org/stable/modules/tree.html#tree) <a id='decision_trees'></a>\n",
    "\n",
    "Decision Trees form a heirarchy of rules used to classify a document. Decision trees take the form of a tree, as the name suggests. Each node in the tree is a rule and each child node represents a possible outcome. A decision tree is traversed by starting at the root and moving to the appropriate child node based on the current node's rule. This makes decision trees easy to visualize and interpret. "
   ]
  },
  {
   "cell_type": "markdown",
   "metadata": {},
   "source": [
    "### Initialize and Fit for rcv1 <a id='dt_rcv1'></a>"
   ]
  },
  {
   "cell_type": "code",
   "execution_count": 5,
   "metadata": {},
   "outputs": [
    {
     "name": "stderr",
     "output_type": "stream",
     "text": [
      "/anaconda3/lib/python3.6/site-packages/sklearn/multiclass.py:76: UserWarning: Label not 49 is present in all training examples.\n",
      "  str(classes[c]))\n",
      "/anaconda3/lib/python3.6/site-packages/sklearn/multiclass.py:76: UserWarning: Label not 80 is present in all training examples.\n",
      "  str(classes[c]))\n"
     ]
    },
    {
     "name": "stdout",
     "output_type": "stream",
     "text": [
      "CPU times: user 15min 22s, sys: 713 ms, total: 15min 22s\n",
      "Wall time: 15min 23s\n"
     ]
    }
   ],
   "source": [
    "%%time\n",
    "from sklearn.tree import DecisionTreeClassifier\n",
    "from sklearn.multiclass import OneVsRestClassifier\n",
    "\n",
    "clf_DT_rcv1 = OneVsRestClassifier(DecisionTreeClassifier())\n",
    "clf_DT_rcv1.fit(rcv1_train.data, rcv1_train.target)"
   ]
  },
  {
   "cell_type": "markdown",
   "metadata": {},
   "source": [
    "### Generate Scores for rcv1"
   ]
  },
  {
   "cell_type": "code",
   "execution_count": 6,
   "metadata": {},
   "outputs": [
    {
     "name": "stdout",
     "output_type": "stream",
     "text": [
      "CPU times: user 1.6 s, sys: 5.13 ms, total: 1.61 s\n",
      "Wall time: 1.61 s\n"
     ]
    }
   ],
   "source": [
    "%%time\n",
    "pred_DT_rcv1 = clf_DT_rcv1.predict(rcv1_test.data)"
   ]
  },
  {
   "cell_type": "code",
   "execution_count": 7,
   "metadata": {},
   "outputs": [
    {
     "name": "stdout",
     "output_type": "stream",
     "text": [
      "Accuracy: 0.9880\n",
      "micro-averaged F1: 0.9959\n",
      "micro averaged recall: 0.9924\n",
      "micro averaged precision: 0.9995\n",
      "CPU times: user 17.4 ms, sys: 2.27 ms, total: 19.7 ms\n",
      "Wall time: 18 ms\n"
     ]
    }
   ],
   "source": [
    "%%time\n",
    "scores_DT_rcv1 = get_scores(rcv1_test.target, pred_DT_rcv1, 'micro')\n",
    "print_scores(scores_DT_rcv1, 'micro')"
   ]
  },
  {
   "cell_type": "markdown",
   "metadata": {},
   "source": [
    "### Generate Recall-Precision Graph for rcv1"
   ]
  },
  {
   "cell_type": "code",
   "execution_count": 8,
   "metadata": {},
   "outputs": [
    {
     "data": {
      "image/png": "[encoded data removed]",
      "text/plain": [
       "<matplotlib.figure.Figure at 0x1132845f8>"
      ]
     },
     "metadata": {},
     "output_type": "display_data"
    },
    {
     "name": "stdout",
     "output_type": "stream",
     "text": [
      "CPU times: user 2.19 s, sys: 101 ms, total: 2.29 s\n",
      "Wall time: 2.31 s\n"
     ]
    }
   ],
   "source": [
    "%%time\n",
    "confidence_DT_rcv1 = clf_DT_rcv1.predict_proba(rcv1_test.data)\n",
    "metrics_DT_rcv1 = graph_precision_recall(rcv1_test.target, confidence_DT_rcv1, 'DT rcv1' )"
   ]
  },
  {
   "cell_type": "markdown",
   "metadata": {},
   "source": [
    "### Initialize and Fit for MNIST <a id='dt_mnist'></a>"
   ]
  },
  {
   "cell_type": "code",
   "execution_count": 9,
   "metadata": {},
   "outputs": [
    {
     "name": "stdout",
     "output_type": "stream",
     "text": [
      "CPU times: user 13.8 s, sys: 58.7 ms, total: 13.9 s\n",
      "Wall time: 13.9 s\n"
     ]
    }
   ],
   "source": [
    "%%time\n",
    "from sklearn.tree import DecisionTreeClassifier\n",
    "from sklearn.multiclass import OneVsRestClassifier\n",
    "\n",
    "clf_DT_mnist = DecisionTreeClassifier()\n",
    "clf_DT_mnist.fit(mnist_train.data, mnist_train.target)"
   ]
  },
  {
   "cell_type": "markdown",
   "metadata": {},
   "source": [
    "### Generate Scores for rcv1"
   ]
  },
  {
   "cell_type": "code",
   "execution_count": 10,
   "metadata": {},
   "outputs": [
    {
     "name": "stdout",
     "output_type": "stream",
     "text": [
      "CPU times: user 32.2 ms, sys: 26.1 ms, total: 58.2 ms\n",
      "Wall time: 56.7 ms\n"
     ]
    }
   ],
   "source": [
    "%%time\n",
    "pred_DT_mnist = clf_DT_mnist.predict(mnist_test.data)"
   ]
  },
  {
   "cell_type": "code",
   "execution_count": 11,
   "metadata": {},
   "outputs": [
    {
     "name": "stdout",
     "output_type": "stream",
     "text": [
      "Accuracy: 0.8697\n",
      "macro-averaged F1: 0.8681\n",
      "macro averaged recall: 0.8682\n",
      "macro averaged precision: 0.8681\n",
      "CPU times: user 24.1 ms, sys: 1.72 ms, total: 25.8 ms\n",
      "Wall time: 24.5 ms\n"
     ]
    }
   ],
   "source": [
    "%%time\n",
    "scores_DT_mnist = get_scores(mnist_test.target, pred_DT_mnist, 'macro')\n",
    "print_scores(scores_DT_mnist, 'macro')"
   ]
  },
  {
   "cell_type": "markdown",
   "metadata": {},
   "source": [
    "### Generate Recall-Precision Graph for rcv1"
   ]
  },
  {
   "cell_type": "code",
   "execution_count": 12,
   "metadata": {},
   "outputs": [
    {
     "data": {
      "image/png": "[encoded data removed]",
      "text/plain": [
       "<matplotlib.figure.Figure at 0x1099abf28>"
      ]
     },
     "metadata": {},
     "output_type": "display_data"
    },
    {
     "name": "stdout",
     "output_type": "stream",
     "text": [
      "CPU times: user 218 ms, sys: 28.2 ms, total: 246 ms\n",
      "Wall time: 263 ms\n"
     ]
    }
   ],
   "source": [
    "%%time\n",
    "confidence_DT_mnist = clf_DT_mnist.predict_proba(mnist_test.data)\n",
    "metrics_DT_mnist = graph_precision_recall(mnist_test.target, confidence_DT_mnist, 'DT rcv1' )"
   ]
  }
 ],
 "metadata": {
  "kernelspec": {
   "display_name": "Python 3",
   "language": "python",
   "name": "python3"
  },
  "language_info": {
   "codemirror_mode": {
    "name": "ipython",
    "version": 3
   },
   "file_extension": ".py",
   "mimetype": "text/x-python",
   "name": "python",
   "nbconvert_exporter": "python",
   "pygments_lexer": "ipython3",
   "version": "3.6.3"
  }
 },
 "nbformat": 4,
 "nbformat_minor": 2
}
