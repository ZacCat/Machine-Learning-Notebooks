{
 "cells": [
  {
   "cell_type": "markdown",
   "metadata": {
    "slideshow": {
     "slide_type": "subslide"
    }
   },
   "source": [
    "# Read In Dataset ([RCV1](http://scikit-learn.org/stable/datasets/rcv1.html))\n",
    "The RCV1 dataset is included in scikit learn by default."
   ]
  },
  {
   "cell_type": "code",
   "execution_count": 1,
   "metadata": {},
   "outputs": [],
   "source": [
    "\"\"\" Log Cell \"\"\"\n",
    "import time\n",
    "\n",
    "def ex_time( prev_time , message ):\n",
    "    \"\"\" Prints 'Time to' followed by the provided \n",
    "         message and the time since prev_time \"\"\"\n",
    "    \n",
    "    print(f'Time to {message}: {time.time() - prev_time:0.4f} seconds')"
   ]
  },
  {
   "cell_type": "code",
   "execution_count": 2,
   "metadata": {
    "collapsed": true
   },
   "outputs": [],
   "source": [
    "\"\"\" Get Dataset Cell\n",
    "\n",
    "    Dependencies:\n",
    "        • Log Cell \"\"\"\n",
    "\n",
    "from sklearn.datasets import fetch_rcv1\n",
    "\n",
    "def get_rcv1(): \n",
    "    \"\"\" Returns the RCV1 dataset \"\"\"\n",
    "    \n",
    "    last_time = time.time()\n",
    "\n",
    "    # Retrieve the dataset\n",
    "    rcv1 = fetch_rcv1()\n",
    "    ex_time(last_time, 'fetch')\n",
    "    return rcv1"
   ]
  },
  {
   "cell_type": "code",
   "execution_count": 13,
   "metadata": {
    "collapsed": true
   },
   "outputs": [
    {
     "name": "stdout",
     "output_type": "stream",
     "text": [
      "Time to fetch: 4.4605 seconds\n"
     ]
    }
   ],
   "source": [
    "rcv1 = get_rcv1()"
   ]
  },
  {
   "cell_type": "markdown",
   "metadata": {},
   "source": [
    "## Dataset Attributes\n",
    "   1. __data__ - a scipy [compressed row storage (CSR) sparce matrix](https://docs.scipy.org/doc/scipy-0.14.0/reference/generated/scipy.sparse.csr_matrix.html). Non-zero values are cosinne-normalized, log TF-IDF vectors. The shape is (num_samples, num_features)\n",
    "   2. __target__ - a scipy CSR sparse matrix. Maps each sample to relavent categories (sometimes refered to as labels). The shape is (num_samples, num_categories).\n",
    "   3. __sample_id__ - a [numpy n-dimensional array](https://docs.scipy.org/doc/numpy-1.14.0/reference/generated/numpy.ndarray.html) (ndarray) associating each sample's ID to its sample number\n",
    "   4. __target_names__ - a ndarray of target names (can be thought of as topics or categories) corresponding to the category mapping in __(2)__. Each sample belongs to n categories, where 1 $\\le$ n $\\le$ 13.\n",
    "   5. __description__ - a description of the dataset\n",
    "   \n",
    "The shape attribute gives the dimensions of the matrix."
   ]
  },
  {
   "cell_type": "code",
   "execution_count": 5,
   "metadata": {},
   "outputs": [],
   "source": [
    "\"\"\" RCV1 Attributes Cell\n",
    "\n",
    "    Dependencies:\n",
    "        • Get Dataset Cell\n",
    "        • Trace Cell \"\"\"\n",
    "\n",
    "def get_nonzero(matrix):\n",
    "    \"\"\" Returns the percent of items in the provided \n",
    "         matrix that are not 0.\n",
    "         \n",
    "        Params:\n",
    "          matrix -- a csr sparse matrix \"\"\"\n",
    "    \n",
    "    last_time = time.time()\n",
    "    \n",
    "    nonzero = (matrix.count_nonzero() / (matrix.shape[0] * matrix.shape[1])) * 100\n",
    "    # Check value is valid\n",
    "    assert nonzero <= 100\n",
    "    assert nonzero >= 0\n",
    "    \n",
    "    last_time = ex_time(last_time, 'calc nonzero')\n",
    "    return nonzero\n",
    "\n",
    "def print_dataset_attributes(dataset):\n",
    "    \"\"\" Prints attributes of the provided dataset.\n",
    "    \n",
    "        Params:\n",
    "          dataset -- the RCV1 full dataset or a subset \"\"\"\n",
    "    \n",
    "    print ('data:')\n",
    "    print(f'      shape: {dataset.data.shape}')\n",
    "    print(f'  data type: {dataset.data.dtype}')\n",
    "    print(f' array type: {type(dataset.data)}')\n",
    "    print(f'    nonzero: {get_nonzero(dataset.data):0.4f}%\\n')\n",
    "\n",
    "    print('target:')\n",
    "    print(f'      shape: {dataset.target.shape}')\n",
    "    print(f'  data type: {dataset.target.dtype}')\n",
    "    print(f' array type: {type(dataset.target)}')\n",
    "    print(f'    nonzero: {get_nonzero(dataset.target):0.4f}%\\n')\n",
    "\n",
    "    print('sample_id:')\n",
    "    print(f'      shape: {dataset.sample_id.shape}')\n",
    "    print(f'  data type: {type(dataset.sample_id[3])}')\n",
    "    print(f' array type: {type(dataset.sample_id)}\\n')\n",
    "\n",
    "    print('target_names:')\n",
    "    print(f'      shape: {dataset.target_names.shape}')\n",
    "    print(f'  data type: {type(dataset.target_names[3])}')\n",
    "    print(f' array type: {type(dataset.target_names)}')"
   ]
  },
  {
   "cell_type": "code",
   "execution_count": 4,
   "metadata": {},
   "outputs": [
    {
     "name": "stdout",
     "output_type": "stream",
     "text": [
      "data:\n",
      "      shape: (804414, 47236)\n",
      "  data type: float64\n",
      " array type: <class 'scipy.sparse.csr.csr_matrix'>\n",
      "Time to calc nonzero: 0.2425 seconds\n",
      "    nonzero: 0.1603%\n",
      "\n",
      "target:\n",
      "      shape: (804414, 103)\n",
      "  data type: uint8\n",
      " array type: <class 'scipy.sparse.csr.csr_matrix'>\n",
      "Time to calc nonzero: 0.0101 seconds\n",
      "    nonzero: 3.1463%\n",
      "\n",
      "sample_id:\n",
      "      shape: (804414,)\n",
      "  data type: <class 'numpy.uint32'>\n",
      " array type: <class 'numpy.ndarray'>\n",
      "\n",
      "target_names:\n",
      "      shape: (103,)\n",
      "  data type: <class 'str'>\n",
      " array type: <class 'numpy.ndarray'>\n"
     ]
    }
   ],
   "source": [
    "print_dataset_attributes(rcv1)"
   ]
  },
  {
   "cell_type": "markdown",
   "metadata": {},
   "source": [
    "# Document Classification\n",
    "## [Naive Bayes](http://scikit-learn.org/stable/modules/naive_bayes.html)\n",
    "A supervise learning algorithm based on using Bayes' theorem. This method assumes independence between each pair of features.\n",
    "\n",
    "Bayes Theorem:\n",
    "\\begin{equation}\n",
    "P(y | x_1, . . ., x_n) = \\frac{P(y) P(x_1, . . ., x_n | y)} {P(x_1, . . ., x_n)} \\hspace{3.6cm} (1)\n",
    "\\end{equation}\n",
    "\n",
    "This can be further simplified by using the assumption that each pair of features is independent, shown in eq 2.1. Then since $P(x_1, ..., x_n) $ is constant with respect to each input we can use the proportionlity in eq 2.2.\n",
    "\n",
    "\\begin{align}\n",
    "P(y | x_1, . . ., x_n) &= \\frac{P(y) \\prod_{i = 1}^{n} P(x_1, . . ., x_n | y)} {P(x_1, . . ., x_n)} \\hspace{3cm}(2.1)\\\\\n",
    "                 &\\propto P(y) \\prod_{i = 1}^{n} P(x_1, . . ., x_n | y)   \\hspace{3.5cm}(2.2)\n",
    "\\end{align}\n",
    "\n",
    "This gives us our classification rule, shown in eq 3.\n",
    "\n",
    "\\begin{equation}\n",
    "\\hat{y} = arg \\max_y P(y) \\prod_{i=1}^{n} P(x_i | y) \\hspace{5.4cm} (3)\n",
    "\\end{equation}\n",
    "\n",
    "SciKit Learn supports several Naive Bayes implimentations. \n",
    "1. __Gaussian Naive Bayes__ - In this implementation the likelihood of the features is assumed to be Gaussian. Gussian distributions are more commonly reffered to as the normal distribution or bell curve. This class does not support sparse matricies.\n",
    "2. __Multinomial Naive Bayes__ - In this implementation the likelihood of the features is assumed to follow a multinomial distribution. Typically used in text classification. This class does support sparse matricies.\n",
    "3. __Bernoulli Naive Bayes__ - This implimentaiton assumes the data follows multivariate Bernoulli distributions. Multiple features are allowed but each one is assumed to be a binary variable.\n",
    "\n",
    "Because of these restrictions only Multinomial Naive Bayes will be appropriate for the RCV1 dataset. There is an additional step required because Naive Bayes does not typically predict multilple labels. This means an additional strategy must be implemented. One commonly used startegy is known as one-vs-all ([one-vs-the-rest](http://scikit-learn.org/stable/modules/generated/sklearn.multiclass.OneVsRestClassifier.html#sklearn.multiclass.OneVsRestClassifier) in scikit learn). This strategy works by using one classifier for each label."
   ]
  },
  {
   "cell_type": "code",
   "execution_count": 8,
   "metadata": {
    "scrolled": true
   },
   "outputs": [],
   "source": [
    "\"\"\" Fit Classifier Cell \n",
    "\n",
    "    Dependencies:\n",
    "        • Trace Cell \"\"\"\n",
    "\n",
    "from sklearn.naive_bayes import MultinomialNB\n",
    "from sklearn.multiclass import OneVsRestClassifier\n",
    "\n",
    "def make_fit_NB(data, target, num_jobs=-1):\n",
    "    \"\"\" Initializes a MultinomialNB classifier with a \n",
    "         OneVsRestClassifier wrapper to enable multioutput\n",
    "         \n",
    "        Params:\n",
    "          data -- a [num_samples, num_features] matrix\n",
    "          target --  a [num_samples, num_labels] matrix\n",
    "          num_jobs -- number of CPUs to use for calculation\n",
    "                       default = -1 (ie all CPUs)\"\"\"\n",
    "    \n",
    "    last_time = time.time()\n",
    "    \n",
    "    # Initialize classifier\n",
    "    classifier = OneVsRestClassifier(MultinomialNB(), n_jobs=num_jobs)\n",
    "\n",
    "    # Train classifier\n",
    "    classifier.fit(data, target)\n",
    "    ex_time(last_time, 'train')\n",
    "    return classifier\n"
   ]
  },
  {
   "cell_type": "code",
   "execution_count": 9,
   "metadata": {},
   "outputs": [
    {
     "name": "stderr",
     "output_type": "stream",
     "text": [
      "/anaconda3/lib/python3.6/site-packages/sklearn/multiclass.py:76: UserWarning: Label not 49 is present in all training examples.\n",
      "  str(classes[c]))\n",
      "/anaconda3/lib/python3.6/site-packages/sklearn/multiclass.py:76: UserWarning: Label not 80 is present in all training examples.\n",
      "  str(classes[c]))\n"
     ]
    },
    {
     "name": "stdout",
     "output_type": "stream",
     "text": [
      "Time to train: 2.1272 seconds\n"
     ]
    }
   ],
   "source": [
    "mult_NB_clf = make_fit_NB(rcv1_train.data, rcv1_train.target)"
   ]
  },
  {
   "cell_type": "code",
   "execution_count": 10,
   "metadata": {},
   "outputs": [
    {
     "name": "stdout",
     "output_type": "stream",
     "text": [
      "Time to predict: 33.1957 seconds\n"
     ]
    }
   ],
   "source": [
    "pred = predict_clf(mult_NB_clf, rcv1_test.data)"
   ]
  },
  {
   "cell_type": "markdown",
   "metadata": {},
   "source": [
    "## Scoring\n",
    "When testing a machine learning algorithm it is difficult to determine how a classifier performs by hand, so several metrics are commonly used to evaluate their performance.\n",
    "\n",
    "1. __accuracy__ - The percentage of labels predicted correctly.\n",
    "+ __precision__ - The ratio of true positives to true positives and false positives.\n",
    "+ __recall__ - The ratio of true positives to true positives and false negatives.\n",
    "+ __average precision__ - The weighted mean of the precision achieved at eaach recall threshold.\n",
    "\n",
    "The term 'micro' average reffers to calculating the average of each label weighted with respect to how frequently they occur. This is most appropriate for the RCV1 dataset because the labels do not occur with the same frequency. Information on additional averaging methods can be found [here](http://scikit-learn.org/stable/modules/generated/sklearn.metrics.average_precision_score.html#sklearn.metrics.average_precision_score). "
   ]
  },
  {
   "cell_type": "code",
   "execution_count": 4,
   "metadata": {},
   "outputs": [],
   "source": [
    "\"\"\" Scoring Methods Cell\n",
    "    \n",
    "    Dependencies: \n",
    "        • Trace Cell \"\"\"\n",
    "\n",
    "# For scoring methods\n",
    "from sklearn.metrics import accuracy_score, average_precision_score, f1_score, precision_score, recall_score\n",
    "\n",
    "def predict_clf(clf, data):\n",
    "    \"\"\" Returns the predicted classification of the provided \n",
    "         samples using the provided classifier\n",
    "        \n",
    "        Params:\n",
    "          clf -- the classifier to use\n",
    "          data -- a matrix of samples and features to use for prediction \"\"\"\n",
    "    \n",
    "    last_time = time.time()\n",
    "\n",
    "    # Generate prediction on test data\n",
    "    prediction = clf.predict(data)\n",
    "    ex_time(last_time, 'predict')\n",
    "\n",
    "    return prediction\n",
    "\n",
    "def get_scores(target, prediction):\n",
    "    \"\"\" Return the accuracy, f1, average precision, recall, \n",
    "         and precision of the provided prediction\n",
    "        \n",
    "        Params:\n",
    "          target -- a [num_samples, num_labels] matrix of the correct classificiation samples\n",
    "          prediction -- a [num_samples, num_labels] matrix of predicted classifications\n",
    "        \n",
    "        Returns a list of scores with the order:\n",
    "         [accuracy, f1, average precision, recall, precision]. \"\"\"\n",
    "    \n",
    "    scores = [accuracy_score(target, prediction)]\n",
    "    scores += [f1_score(target, prediction, average='micro')]\n",
    "    scores += [average_precision_score(target.toarray(), prediction.toarray(), average=\"micro\")]\n",
    "    scores += [recall_score(target, prediction, average='micro')]\n",
    "    scores += [precision_score(target, prediction, average='micro' )]\n",
    "    return scores\n",
    "\n",
    "def print_scores(scores):\n",
    "    \"\"\" Prints the provided accuracy, f1, average precision, recall, \n",
    "         and precision scores\n",
    "         \n",
    "        Params:\n",
    "          scores -- a list of scores with the order\n",
    "                     [accuracy, f1, average precision, recall, precision]\"\"\"\n",
    "    \n",
    "    print(f'Accuracy: {scores[0]:0.4f}')\n",
    "    print(f'Micro-averaged F1: {scores[1]:0.4f}')\n",
    "    print(f'Average precision score, micro-averaged over all classes: {scores[2]:0.4f}')\n",
    "    print(f'Micro averaged recall: {scores[3]:0.4f}')\n",
    "    print(f'Micro averaged precision: {scores[4]:0.4f}')"
   ]
  },
  {
   "cell_type": "markdown",
   "metadata": {},
   "source": [
    "## [K-Folds Cross-Validation](http://scikit-learn.org/stable/modules/generated/sklearn.model_selection.KFold.html)\n",
    "\n",
    "To remove bias from a train/test split it is common practice to use K-Folds cross-validation, typically k = 10. This splits the dataset into k segments. With these k segments k - 1 are used to train a classifier while the last one is used to test. This is repeated until all k segments have been used as the testing segment. "
   ]
  },
  {
   "cell_type": "code",
   "execution_count": 3,
   "metadata": {},
   "outputs": [],
   "source": [
    "\"\"\" kFold Cell\n",
    "    \n",
    "    Dependencies:\n",
    "        • Scoring Methods Cell \n",
    "        • Trace Cell \"\"\"\n",
    "\n",
    "# For train/test split\n",
    "from sklearn.model_selection import KFold\n",
    "\n",
    "def k_fold_and_score_NB(make_fit_func, data, target, k):\n",
    "    \"\"\" Returns the average scores over k folds.\n",
    "    \n",
    "        Params:\n",
    "          make_fit_func -- a function that takes (data, target) as paramaters\n",
    "                            and returns a trained classifier\n",
    "          data -- a [num_samples, num_features] matrix\n",
    "          target --  a [num_samples, num_labels] matrix\n",
    "          k -- the number of folds to make \"\"\"\n",
    "    \n",
    "    total_time = time.time()\n",
    "    # Initialize train/test split\n",
    "    kf = KFold(n_splits=k)\n",
    "\n",
    "    total_scores = [0] * 5\n",
    "    # Iterate over each train/test split\n",
    "    for train_index, test_index in kf.split(rcv1.data):\n",
    "        X_train = rcv1.data[train_index]\n",
    "        X_test = rcv1.data[test_index]\n",
    "        y_train = rcv1.target[train_index]\n",
    "        y_test = rcv1.target[test_index]\n",
    "\n",
    "        # Train classifier\n",
    "        split_clf = make_fit_func(X_train, y_train)\n",
    "\n",
    "        # Generate prediction on test data\n",
    "        prediction = predict_clf(split_clf, X_test)\n",
    "\n",
    "        scores = get_scores(y_test, prediction)\n",
    "        total_scores = list(map(sum, zip(scores, total_scores)))\n",
    "\n",
    "    avg_scores = list(map(lambda x: x / k, total_scores))\n",
    "    for score in avg_score:\n",
    "        assert score >= 0.0\n",
    "        assert score <= 1.0\n",
    "\n",
    "    print_scores(avg_scores)\n",
    "    ex_time(total_time, f'train and score {k} folds')\n",
    "    return avg_scores"
   ]
  },
  {
   "cell_type": "code",
   "execution_count": null,
   "metadata": {},
   "outputs": [],
   "source": [
    "k_fold_and_score_NB(make_fit_NB, rcv1.data, rcv1.target, 10)"
   ]
  },
  {
   "cell_type": "markdown",
   "metadata": {},
   "source": [
    "## [Support Vector Machines (SVM)](http://scikit-learn.org/stable/modules/svm.html)\n",
    "\n",
    "A supervised learning that works by seperating the samples into categories seperated by a hyperplane, or set of hyperplanes. Since the hyperplane that that seperates them is not typically unique SVM finds the hyperplane with the maximum distance from any of the categories.\n",
    "\n",
    "SVM use kernel functions to compute the similarity between data points. Some of the most common are:\n",
    "\n",
    "1. linear\n",
    "+ polynomial\n",
    "+ radial basis function (rbf)\n",
    "+ sigmoid\n",
    "\n",
    "The kernel used can significantly impact the accuracy of a classifier. More information on kernels is provided [here](http://scikit-learn.org/stable/modules/metrics.html).\n",
    "\n",
    "Support Vector Machines do not scale well to large datasets because of this additional strategies needed to be implemented to make the RCV1 dataset work. Since RCV1 requires multiple outputs the one-vs-all strategy needed to be implemented. Next a linear kernel was applied, this reduces complexity and memory usage when compared to some of the more complex kernels. The last method used is an ensamble method, specifically the [BaggingClassifier](http://scikit-learn.org/stable/modules/generated/sklearn.ensemble.BaggingClassifier.html). This fits classifiers to random subsets of the origional dataset and combines their predictions. \n",
    "\n",
    "Additional information on [SVM](http://dx.doi.org/10.1038/nbt1206-1565 )."
   ]
  },
  {
   "cell_type": "code",
   "execution_count": null,
   "metadata": {},
   "outputs": [],
   "source": [
    "from sklearn.svm import SVC, LinearSVC\n",
    "from sklearn.multiclass import OneVsRestClassifier\n",
    "from sklearn.ensemble import BaggingClassifier\n",
    "\n",
    "def make_fit_SVM(data, target, num_jobs=-1):\n",
    "    \"\"\" Initializes a SVM classifier with a OneVsRestClassifier\n",
    "         wrapper to enable multioutput, a linear kerneal, and a \n",
    "         BaggingClassifier to reduce computation time.\n",
    "\n",
    "    Params:\n",
    "      data -- a [num_samples, num_features] matrix\n",
    "      target --  a [num_samples, num_labels] matrix\n",
    "      num_jobs -- number of CPUs to use for calculation\n",
    "                   default = -1 (ie all CPUs)\"\"\"\n",
    "    \n",
    "    last_time = time.time()\n",
    "    \n",
    "    # Initialize classifier  \n",
    "    classifier = OneVsRestClassifier(BaggingClassifier(LinearSVC()), n_jobs=-1)\n",
    "    \n",
    "    # Train classifier\n",
    "    classifier.fit(data, target)\n",
    "    ex_time(last_time, 'train')\n",
    "    return classifier\n",
    "\n",
    "from sklearn.metrics import average_precision_score\n",
    "from sklearn.metrics import precision_recall_curve\n",
    "import matplotlib.pyplot as plt\n",
    "\n",
    "# Example provided by http://scikit-learn.org/stable/auto_examples/model_selection/plot_precision_recall.html#sphx-glr-auto-examples-model-selection-plot-precision-recall-py\n",
    "def plot_decision(classifier, X_test, Y_test):\n",
    "    \"\"\" Returns the confidence score of the provided classifier predicting\n",
    "         the testing values\n",
    "        \n",
    "        Params:\n",
    "          classifier -- the classifier to use to perform the predictions\n",
    "          X_test -- a [num_samples, num_features] matrix of test data\n",
    "          Y_test --  a [num_samples, num_labels] matrix of correct classifications \"\"\"\n",
    "    \n",
    "    last_time = time.time()\n",
    "    y_score = classifier.decision_function(X_test)\n",
    "    ex_time(last_time, 'calc decision_function')\n",
    "    \n",
    "    Y_test_arr = Y_test.toarray()\n",
    "    \n",
    "    # For each class\n",
    "    precision = dict()\n",
    "    recall = dict()\n",
    "    average_precision = dict()\n",
    "    for i in range(len(Y_test.shape[1])):\n",
    "        precision[i], recall[i], _ = precision_recall_curve(Y_test_arr[:, i], y_score[:, i])\n",
    "        average_precision[i] = average_precision_score(Y_test_arr[:, i], y_score[:, i])\n",
    "\n",
    "    # A \"micro-average\": quantifying score on all classes jointly\n",
    "    precision[\"micro\"], recall[\"micro\"], _ = precision_recall_curve(Y_test_arr.ravel(), y_score.ravel())\n",
    "    average_precision[\"micro\"] = average_precision_score(Y_test_arr, y_score, average=\"micro\")\n",
    "    print('Average precision score, micro-averaged over all classes: {0:0.2f}'.format(average_precision[\"micro\"]))\n",
    "    plt.figure()\n",
    "    plt.step(recall['micro'], precision['micro'], color='b', alpha=0.2,where='post')\n",
    "    plt.fill_between(recall[\"micro\"], precision[\"micro\"], step='post', alpha=0.2,color='b')\n",
    "\n",
    "    plt.xlabel('Recall')\n",
    "    plt.ylabel('Precision')\n",
    "    plt.ylim([0.0, 1.05])\n",
    "    plt.xlim([0.0, 1.0])\n",
    "    plt.title('Average precision score, micro-averaged over all classes: AP={0:0.2f}'.format(average_precision[\"micro\"]))\n",
    "    plt.show()\n",
    "    \n",
    "    return y_score"
   ]
  },
  {
   "cell_type": "code",
   "execution_count": 5,
   "metadata": {},
   "outputs": [],
   "source": [
    "from sklearn.datasets import fetch_rcv1\n",
    "\n",
    "def rcv1_train_test():\n",
    "    \"\"\" Returns a tuple consisting of the rcv1 train and test subsets. \"\"\"\n",
    "    last_time = time.time()\n",
    "    rcv1_train = fetch_rcv1(subset='train')\n",
    "    rcv1_test = fetch_rcv1(subset='test')\n",
    "    return  (rcv1_train, rcv1_test)"
   ]
  },
  {
   "cell_type": "code",
   "execution_count": 6,
   "metadata": {},
   "outputs": [],
   "source": [
    "rcv1_train, rcv1_test = rcv1_train_test()"
   ]
  },
  {
   "cell_type": "code",
   "execution_count": 5,
   "metadata": {},
   "outputs": [
    {
     "name": "stdout",
     "output_type": "stream",
     "text": [
      "rcv1 training subset attributes:\n",
      "data:\n",
      "      shape: (23149, 47236)\n",
      "  data type: float64\n",
      " array type: <class 'scipy.sparse.csr.csr_matrix'>\n",
      "Time to calc nonzero: 0.0070 seconds\n",
      "    nonzero: 0.1608%\n",
      "\n",
      "target:\n",
      "      shape: (23149, 103)\n",
      "  data type: uint8\n",
      " array type: <class 'scipy.sparse.csr.csr_matrix'>\n",
      "Time to calc nonzero: 0.0003 seconds\n",
      "    nonzero: 3.0909%\n",
      "\n",
      "sample_id:\n",
      "      shape: (23149,)\n",
      "  data type: <class 'numpy.uint32'>\n",
      " array type: <class 'numpy.ndarray'>\n",
      "\n",
      "target_names:\n",
      "      shape: (103,)\n",
      "  data type: <class 'str'>\n",
      " array type: <class 'numpy.ndarray'>\n",
      "\n",
      "rcv1 testing subset attributes:\n",
      "data:\n",
      "      shape: (781265, 47236)\n",
      "  data type: float64\n",
      " array type: <class 'scipy.sparse.csr.csr_matrix'>\n",
      "Time to calc nonzero: 0.2314 seconds\n",
      "    nonzero: 0.1603%\n",
      "\n",
      "target:\n",
      "      shape: (781265, 103)\n",
      "  data type: uint8\n",
      " array type: <class 'scipy.sparse.csr.csr_matrix'>\n",
      "Time to calc nonzero: 0.0097 seconds\n",
      "    nonzero: 3.1480%\n",
      "\n",
      "sample_id:\n",
      "      shape: (781265,)\n",
      "  data type: <class 'numpy.uint32'>\n",
      " array type: <class 'numpy.ndarray'>\n",
      "\n",
      "target_names:\n",
      "      shape: (103,)\n",
      "  data type: <class 'str'>\n",
      " array type: <class 'numpy.ndarray'>\n",
      "Time to rcv1 test and train attributes: 0.2509 seconds\n"
     ]
    }
   ],
   "source": [
    "last_time = time.time()\n",
    "print('rcv1 training subset attributes:')\n",
    "print_dataset_attributes(rcv1_train)\n",
    "print('\\nrcv1 testing subset attributes:')\n",
    "print_dataset_attributes(rcv1_test)\n",
    "\n",
    "print()\n",
    "ex_time(last_time, 'rcv1 test and train attributes')"
   ]
  },
  {
   "cell_type": "code",
   "execution_count": 5,
   "metadata": {},
   "outputs": [
    {
     "name": "stderr",
     "output_type": "stream",
     "text": [
      "/anaconda3/lib/python3.6/site-packages/sklearn/multiclass.py:76: UserWarning: Label not 49 is present in all training examples.\n",
      "  str(classes[c]))\n",
      "/anaconda3/lib/python3.6/site-packages/sklearn/multiclass.py:76: UserWarning: Label not 80 is present in all training examples.\n",
      "  str(classes[c]))\n"
     ]
    },
    {
     "name": "stdout",
     "output_type": "stream",
     "text": [
      "Time to train: 52.0410 seconds\n"
     ]
    }
   ],
   "source": [
    "SVM_clf = make_fit_SVM(rcv1_train.data, rcv1_train.target)"
   ]
  },
  {
   "cell_type": "code",
   "execution_count": 22,
   "metadata": {},
   "outputs": [
    {
     "name": "stderr",
     "output_type": "stream",
     "text": [
      "/anaconda3/lib/python3.6/site-packages/sklearn/metrics/ranking.py:444: RuntimeWarning: invalid value encountered in true_divide\n",
      "  recall = tps / tps[-1]\n"
     ]
    },
    {
     "name": "stdout",
     "output_type": "stream",
     "text": [
      "Average precision score, micro-averaged over all classes: 0.82\n"
     ]
    },
    {
     "data": {
      "image/png": "[encoded data removed]",
      "text/plain": [
       "<matplotlib.figure.Figure at 0x1a42221dd8>"
      ]
     },
     "metadata": {},
     "output_type": "display_data"
    },
    {
     "name": "stdout",
     "output_type": "stream",
     "text": [
      "Time to score SVM: 14.8430 seconds\n"
     ]
    }
   ],
   "source": [
    "# Predict using every 100th document to reduce size for testing\n",
    "SVM_score = score_SVM(SVM_clf, rcv1_test.data[::100], rcv1_test.target[::100])"
   ]
  },
  {
   "cell_type": "code",
   "execution_count": 8,
   "metadata": {},
   "outputs": [
    {
     "name": "stdout",
     "output_type": "stream",
     "text": [
      "Time to predict SVM: 2105.3753 seconds\n"
     ]
    }
   ],
   "source": [
    "# Predict using every testing document\n",
    "last_time = time.time()\n",
    "pred_SVM = SVM_clf.decision_function(rcv1_test.data)\n",
    "ex_time(last_time, 'predict SVM')"
   ]
  },
  {
   "cell_type": "code",
   "execution_count": 12,
   "metadata": {},
   "outputs": [
    {
     "name": "stdout",
     "output_type": "stream",
     "text": [
      "Average precision score, micro-averaged over all classes: 0.82\n"
     ]
    },
    {
     "data": {
      "image/png": "[encoded data removed]",
      "text/plain": [
       "<matplotlib.figure.Figure at 0x107988400>"
      ]
     },
     "metadata": {},
     "output_type": "display_data"
    },
    {
     "name": "stdout",
     "output_type": "stream",
     "text": [
      "Time to score SVM: 326.4536 seconds\n"
     ]
    }
   ],
   "source": [
    "score_SVM(SVM_clf, rcv1_test.data,rcv1_test.target)"
   ]
  },
  {
   "cell_type": "markdown",
   "metadata": {},
   "source": [
    "## [k-Nearest Neighbors (kNN)](http://scikit-learn.org/stable/modules/generated/sklearn.neighbors.KNeighborsClassifier.html#sklearn.neighbors.KNeighborsClassifier.fit)\n",
    "\n",
    "This algorithm is not trained like the previous machine learning algorithms. Nearest Neighbors is an instance-based learning algorithm, meaning it simply scores the training data instead of making a general model. It works by calculating the distance from a query point to all other points in the training set, and the top k closest points are returned. This can be very computationally demanding so an additional algorithm is typically implemented to help calculate distance. The two most frequently used algorithms are kd-tree and BallTree. Both are considerably faster than calculating neighbors with brute force, and BallTree performs especially well in high dimensions. \n",
    "\n",
    "Additionally the [distince metric](http://scikit-learn.org/stable/modules/generated/sklearn.neighbors.DistanceMetric.html) can be tailored to the dataset. Let $n$ be the number of dimensions in $\\vec{x}$, and let $x_i$ represent the $i^{\\text{th}}$ dimension of $\\vec{x}$.\n",
    "\n",
    "* Euclidean \n",
    "\\begin{equation*}\n",
    "dist(\\vec{x}, \\vec{y}) = \\sum_{i=1}^n (x_i - y_i)^2\n",
    "\\end{equation*}\n",
    "* Manhattan\n",
    "\\begin{equation*}\n",
    "dist(\\vec{x}, \\vec{y}) = \\sum_{i=1}^n \\mid x_i - y_i \\mid\n",
    "\\end{equation*}\n",
    "* Chebyshev\n",
    "\\begin{equation*}\n",
    "dist(\\vec{x}, \\vec{y}) = \\max_{i \\in [1, n]} ( \\mid x_i - y_i \\mid )\n",
    "\\end{equation*}\n",
    "* Minkowski\n",
    "\\begin{equation*}\n",
    "dist(\\vec{x}, \\vec{y}) = ( \\sum_{i=1}^n \\mid x_i - y_i \\mid^p )^{1/p}\n",
    "\\end{equation*}\n",
    "\n",
    "Notice Minowski distance is a generalized form of the other distance formulas. When $p = 1$ it is the same as Manhattan distance, when $p = \\infty$ it is the same as Chebyshev distance, and when $p = 2$ it is the same as Euclidean distance. The value for $p$ can be any real number."
   ]
  },
  {
   "cell_type": "code",
   "execution_count": 14,
   "metadata": {},
   "outputs": [],
   "source": [
    "from sklearn.neighbors import KNeighborsClassifier\n",
    "\n",
    "def make_fit_KNN(data, target):\n",
    "    \"\"\" Retursn a KNeighborsClassifier that is trained with\n",
    "         the provided samples.\n",
    "\n",
    "    Params:\n",
    "      data -- a [num_samples, num_features] matrix\n",
    "      target --  a [num_samples, num_labels] matrix\n",
    "      num_jobs -- number of CPUs to use for calculation\n",
    "                   default = -1 (ie all CPUs)\"\"\"\n",
    "    \n",
    "    last_time = time.time()\n",
    "    clf = KNeighborsClassifier()\n",
    "    clf.fit(data,target)\n",
    "    ex_time(last_time, 'train kNN')\n",
    "    return clf"
   ]
  },
  {
   "cell_type": "code",
   "execution_count": 15,
   "metadata": {},
   "outputs": [
    {
     "name": "stdout",
     "output_type": "stream",
     "text": [
      "Time to train kNN: 0.1033 seconds\n"
     ]
    }
   ],
   "source": [
    "kNN_clf = make_fit_KNN(rcv1_train.data, rcv1_train.target)"
   ]
  },
  {
   "cell_type": "code",
   "execution_count": null,
   "metadata": {},
   "outputs": [],
   "source": [
    "kNN_pred = predict_clf(kNN_clf, rcv1_test.data)"
   ]
  },
  {
   "cell_type": "markdown",
   "metadata": {},
   "source": [
    "# Misc Notes\n",
    "\n",
    "## 10-Fold SVM on RCV1 is not feasible\n",
    "* When performing 10-fold CV using SVM on RCV1, used 30+Gb of ram, and system crashed after 10 minutes. \n",
    "* Using rcv1 default train/test split classification is relatively fast but prediction on full testing set took 35 minutes.\n",
    "  * Prediction using 1% of testing data takes 15 seconds.\n",
    "\n",
    "__TODO__: Consider other datasets.\n",
    "\n",
    "## Markdown\n",
    "\n",
    "+ [math](http://jupyter-notebook.readthedocs.io/en/stable/examples/Notebook/Typesetting%20Equations.html)\n",
    "+ [general](https://github.com/adam-p/markdown-here/wiki/Markdown-Cheatsheet)\n"
   ]
  }
 ],
 "metadata": {
  "kernelspec": {
   "display_name": "Python 3",
   "language": "python",
   "name": "python3"
  },
  "language_info": {
   "codemirror_mode": {
    "name": "ipython",
    "version": 3
   },
   "file_extension": ".py",
   "mimetype": "text/x-python",
   "name": "python",
   "nbconvert_exporter": "python",
   "pygments_lexer": "ipython3",
   "version": "3.6.3"
  }
 },
 "nbformat": 4,
 "nbformat_minor": 2
}
