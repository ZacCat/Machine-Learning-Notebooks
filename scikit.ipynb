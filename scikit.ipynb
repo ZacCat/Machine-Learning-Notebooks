{
 "cells": [
  {
   "cell_type": "markdown",
   "metadata": {},
   "source": [
    "# Read In Dataset ([RCV1](http://scikit-learn.org/stable/datasets/rcv1.html))\n",
    "The RCV1 dataset is included in scikit learn by default."
   ]
  },
  {
   "cell_type": "code",
   "execution_count": 39,
   "metadata": {},
   "outputs": [],
   "source": [
    "from sklearn.datasets import fetch_rcv1\n",
    "rcv1 = fetch_rcv1()"
   ]
  },
  {
   "cell_type": "markdown",
   "metadata": {},
   "source": [
    "## Dataset Attributes\n",
    "   1. __data__ - a scipy [compressed row storage (CSR) sparce matrix](https://docs.scipy.org/doc/scipy-0.14.0/reference/generated/scipy.sparse.csr_matrix.html). Non-zero values are cosinne-normalized, log TF-IDF vectors. The shape is (num_samples, num_features)\n",
    "   2. __target__ - a scipy CSR sparse matrix. Maps each sample to relavent categories (sometimes refered to as labels). The shape is (num_samples, num_categories).\n",
    "   3. __sample_id__ - a [numpy n-dimensional array](https://docs.scipy.org/doc/numpy-1.14.0/reference/generated/numpy.ndarray.html) (ndarray) associating each sample's ID to its sample number\n",
    "   4. __target_names__ - a ndarray of target names (can be thought of as topics or categories) corresponding to the category mapping in __(2)__. Each sample belongs to n categories, where 1 $\\le$ n $\\le$ 13.\n",
    "   5. __description__ - a description of the dataset\n",
    "   \n",
    "The shape attribute gives the dimensions of the matrix."
   ]
  },
  {
   "cell_type": "code",
   "execution_count": 40,
   "metadata": {},
   "outputs": [
    {
     "name": "stdout",
     "output_type": "stream",
     "text": [
      "data:\n",
      "      shape: (804414, 47236)\n",
      "  data type: float64\n",
      " array type: <class 'scipy.sparse.csr.csr_matrix'>\n",
      "    nonzero: 0.1603%\n",
      "\n",
      "target:\n",
      "      shape: (804414, 103)\n",
      "  data type: uint8\n",
      " array type: <class 'scipy.sparse.csr.csr_matrix'>\n",
      "    nonzero: 3.1463%\n",
      "\n",
      "sample_id:\n",
      "      shape: (804414,)\n",
      "  data type: <class 'numpy.uint32'>\n",
      " array type: <class 'numpy.ndarray'>\n",
      "\n",
      "target_names:\n",
      "      shape: (103,)\n",
      "  data type: <class 'str'>\n",
      " array type: <class 'numpy.ndarray'>\n"
     ]
    }
   ],
   "source": [
    "print ('data:')\n",
    "print(f'      shape: {rcv1.data.shape}')\n",
    "print(f'  data type: {rcv1.data.dtype}')\n",
    "print(f' array type: {type(rcv1.data)}')\n",
    "print(f'    nonzero: {round((rcv1.data.count_nonzero() / (rcv1.data.shape[0] * rcv1.data.shape[1])) * 100, 4)}%')\n",
    "\n",
    "print()\n",
    "print('target:')\n",
    "print(f'      shape: {rcv1.target.shape}')\n",
    "print(f'  data type: {rcv1.target.dtype}')\n",
    "print(f' array type: {type(rcv1.target)}')\n",
    "print(f'    nonzero: {round((rcv1.target.count_nonzero() / (rcv1.target.shape[0] * rcv1.target.shape[1])) * 100, 4)}%')\n",
    "\n",
    "print()\n",
    "print('sample_id:')\n",
    "print(f'      shape: {rcv1.sample_id.shape}')\n",
    "print(f'  data type: {type(rcv1.sample_id[3])}')\n",
    "print(f' array type: {type(rcv1.sample_id)}')\n",
    "\n",
    "print()\n",
    "print('target_names:')\n",
    "print(f'      shape: {rcv1.target_names.shape}')\n",
    "print(f'  data type: {type(rcv1.target_names[3])}')\n",
    "print(f' array type: {type(rcv1.target_names)}')"
   ]
  },
  {
   "cell_type": "markdown",
   "metadata": {},
   "source": [
    "# Document Classification\n",
    "## [Naive Bayes](http://scikit-learn.org/stable/modules/naive_bayes.html)\n",
    "A supervise learning algorithm based on using Bayes' theorem. This method assumes independence between each pair of features.\n",
    "\n",
    "Bayes Theorem:\n",
    "\\begin{equation}\n",
    "P(y | x_1, . . ., x_n) = \\frac{P(y) P(x_1, . . ., x_n | y)} {P(x_1, . . ., x_n)} \\hspace{3.6cm} (1)\n",
    "\\end{equation}\n",
    "\n",
    "This can be further simplified by using the assumption that each pair of features is independent, shown in eq 2.1. Then since $P(x_1, ..., x_n) $ is constant with respect to each input we can use the proportionlity in eq 2.2.\n",
    "\n",
    "\\begin{align}\n",
    "P(y | x_1, . . ., x_n) &= \\frac{P(y) \\prod_{i = 1}^{n} P(x_1, . . ., x_n | y)} {P(x_1, . . ., x_n)} \\hspace{3cm}(2.1)\\\\\n",
    "                 &\\propto P(y) \\prod_{i = 1}^{n} P(x_1, . . ., x_n | y)   \\hspace{3.5cm}(2.2)\n",
    "\\end{align}\n",
    "\n",
    "This gives us our classification rule, shown in eq 3.\n",
    "\n",
    "\\begin{equation}\n",
    "\\hat{y} = arg \\max_y P(y) \\prod_{i=1}^{n} P(x_i | y) \\hspace{5.4cm} (3)\n",
    "\\end{equation}\n",
    "\n",
    "SciKit Learn supports several Naive Bayes implimentations. \n",
    "1. __Gaussian Naive Bayes__ - In this implementation the likelihood of the features is assumed to be Gaussian. Gussian distributions are more commonly reffered to as the normal distribution or bell curve. This class does not support sparse matricies.\n",
    "2. __Multinomial Naive Bayes__ - In this implementation the likelihood of the features is assumed to follow a multinomial distribution. Typically used in text classification. This class does support sparse matricies.\n",
    "3. __Bernoulli Naive Bayes__ - This implimentaiton assumes the data follows multivariate Bernoulli distributions. Multiple features are allowed but each one is assumed to be a binary variable.\n",
    "\n",
    "Because of these restrictions only Multinomial Naive Bayes will be appropriate for the RCV1 dataset. There is an additional step required because Naive Bayes does not typically predict multilple labels. This means an additional strategy must be implemented. One commonly used startegy is known as one-vs-all ([one-vs-the-rest](http://scikit-learn.org/stable/modules/generated/sklearn.multiclass.OneVsRestClassifier.html#sklearn.multiclass.OneVsRestClassifier) in scikit learn). This strategy works by using one classifier for each label."
   ]
  },
  {
   "cell_type": "code",
   "execution_count": 41,
   "metadata": {
    "scrolled": true
   },
   "outputs": [
    {
     "data": {
      "text/plain": [
       "OneVsRestClassifier(estimator=MultinomialNB(alpha=1.0, class_prior=None, fit_prior=True),\n",
       "          n_jobs=1)"
      ]
     },
     "execution_count": 41,
     "metadata": {},
     "output_type": "execute_result"
    }
   ],
   "source": [
    "from sklearn.naive_bayes import MultinomialNB\n",
    "from sklearn.multiclass import OneVsRestClassifier\n",
    "\n",
    "multinomial_clf = OneVsRestClassifier(MultinomialNB(), classes_=rcv1.target_names)\n",
    "\n",
    "multinomial_clf.fit(rcv1.data, rcv1.target)"
   ]
  },
  {
   "cell_type": "markdown",
   "metadata": {},
   "source": [
    "## Testing\n",
    "When testing a machine learning algorithm it is difficult to determine how a classifier performs by hand, so several metrics are commonly used to evaluate their performance.\n",
    "\n",
    "1. __accuracy__ - The percentage of labels predicted correctly.\n",
    "+ __precision__ - The ratio of true positives to true positives and false positives.\n",
    "+ __recall__ - The ratio of true positives to true positives and false negatives.\n",
    "+ __average precision__ - The weighted mean of the precision achieved at eaach recall threshold.\n",
    "\n",
    "Information on additional averaging methods can be found [here](http://scikit-learn.org/stable/modules/generated/sklearn.metrics.average_precision_score.html#sklearn.metrics.average_precision_score). "
   ]
  },
  {
   "cell_type": "code",
   "execution_count": 60,
   "metadata": {},
   "outputs": [
    {
     "name": "stdout",
     "output_type": "stream",
     "text": [
      "Shape y_test (402207, 103); shape prediction (402207, 103)\n"
     ]
    },
    {
     "name": "stderr",
     "output_type": "stream",
     "text": [
      "/anaconda3/lib/python3.6/site-packages/sklearn/metrics/ranking.py:444: RuntimeWarning: invalid value encountered in true_divide\n",
      "  recall = tps / tps[-1]\n"
     ]
    },
    {
     "name": "stdout",
     "output_type": "stream",
     "text": [
      "Average precision score, micro-averaged over all classes: 0.51\n",
      "Accuracy: 0.3418\n"
     ]
    },
    {
     "data": {
      "image/png": "[encoded data removed]",
      "text/plain": [
       "<matplotlib.figure.Figure at 0x115e327b8>"
      ]
     },
     "metadata": {},
     "output_type": "display_data"
    },
    {
     "data": {
      "image/png": "[encoded data removed]",
      "text/plain": [
       "<matplotlib.figure.Figure at 0x1a33f9c7f0>"
      ]
     },
     "metadata": {},
     "output_type": "display_data"
    },
    {
     "data": {
      "image/png": "[encoded data removed]",
      "text/plain": [
       "<matplotlib.figure.Figure at 0x111df2048>"
      ]
     },
     "metadata": {},
     "output_type": "display_data"
    }
   ],
   "source": [
    "from sklearn.metrics import accuracy_score, average_precision_score\n",
    "from sklearn.model_selection import KFold\n",
    "\n",
    "from sklearn.metrics import precision_recall_curve\n",
    "import matplotlib.pyplot as plt\n",
    "\n",
    "kf = KFold(n_splits=2)\n",
    "X_train, X_test\n",
    "y_train, y_test\n",
    "for train_index, test_index in kf.split(rcv1.data):\n",
    "    X_train, X_test = rcv1.data[train_index], rcv1.data[test_index]\n",
    "    y_train, y_test = rcv1.target[train_index],rcv1.target[test_index]\n",
    "\n",
    "    split_clf = OneVsRestClassifier(MultinomialNB(), n_jobs=-2)\n",
    "    split_clf.fit(X_train, y_train)\n",
    "    prediction = split_clf.predict(X_test)\n",
    "\n",
    "    accuracy = accuracy_score(y_test, prediction)\n",
    "    avg_precision = average_precision_score(y_test.toarray(), prediction.toarray())\n",
    "    \n",
    "    precision = {}\n",
    "    recal = {}\n",
    "    average_precision = {}\n",
    "    pred_arr = prediction.toarray()\n",
    "    y_test_arr = y_test.toarray()\n",
    "    # Calculate for each class\n",
    "    for i in range(rcv1.target.shape[1]):\n",
    "        precision[i], recall[i], _ = precision_recall_curve(y_test_arr[:, i], pred_arr[:, i])\n",
    "        average_precision[i] = average_precision_score(y_test_arr[:, i], pred_arr[:,i])\n",
    "        \n",
    "    precision[\"micro\"], recall[\"micro\"], _ = precision_recall_curve(y_test_arr.ravel(), pred_arr.ravel())\n",
    "    average_precision[\"micro\"] = average_precision_score(y_test_arr, pred_arr, average=\"micro\")\n",
    "    print('Average precision score, micro-averaged over all classes: {0:0.2f}'.format(average_precision[\"micro\"]))\n",
    "    print(f'Accuracy: {round(accuracy,4)}')\n",
    "    \n",
    "    plt.figure()\n",
    "    plt.step(recall['micro'], precision['micro'], color='b', alpha=0.2,\n",
    "             where='post')\n",
    "    plt.fill_between(recall[\"micro\"], precision[\"micro\"], step='post', alpha=0.2,\n",
    "                     color='b')\n",
    "\n",
    "    plt.xlabel('Recall')\n",
    "    plt.ylabel('Precision')\n",
    "    plt.ylim([0.0, 1.05])\n",
    "    plt.xlim([0.0, 1.0])\n",
    "    plt.title('Average precision score, micro-averaged over all classes: AP={0:0.2f}'.format(average_precision[\"micro\"]))\n",
    "    plt.show()\n",
    "    break"
   ]
  },
  {
   "cell_type": "markdown",
   "metadata": {},
   "source": [
    "# Notes for tomorrow\n",
    "\n",
    "## SciKit\n",
    "\n",
    "+ [multiclass and multilabel algorithms](http://scikit-learn.org/stable/modules/multiclass.html)\n",
    "+ [precision-recall](http://scikit-learn.org/stable/auto_examples/model_selection/plot_precision_recall.html#sphx-glr-auto-examples-model-selection-plot-precision-recall-py)\n",
    "+ [average_precision_score](http://scikit-learn.org/stable/modules/generated/sklearn.metrics.average_precision_score.html#sklearn.metrics.average_precision_score)\n",
    "+ [precision_recall_curve](http://scikit-learn.org/stable/modules/generated/sklearn.metrics.precision_recall_curve.html#sklearn.metrics.precision_recall_curve)\n",
    "+ [accuracy_score](http://scikit-learn.org/stable/modules/generated/sklearn.metrics.accuracy_score.html#sklearn.metrics.accuracy_score)\n",
    "\n",
    "## Markdown\n",
    "\n",
    "+ [math](http://jupyter-notebook.readthedocs.io/en/stable/examples/Notebook/Typesetting%20Equations.html)\n",
    "+ [general](https://github.com/adam-p/markdown-here/wiki/Markdown-Cheatsheet)\n"
   ]
  },
  {
   "cell_type": "code",
   "execution_count": null,
   "metadata": {
    "collapsed": true
   },
   "outputs": [],
   "source": []
  }
 ],
 "metadata": {
  "kernelspec": {
   "display_name": "Python 3",
   "language": "python",
   "name": "python3"
  },
  "language_info": {
   "codemirror_mode": {
    "name": "ipython",
    "version": 3
   },
   "file_extension": ".py",
   "mimetype": "text/x-python",
   "name": "python",
   "nbconvert_exporter": "python",
   "pygments_lexer": "ipython3",
   "version": "3.6.3"
  }
 },
 "nbformat": 4,
 "nbformat_minor": 2
}
