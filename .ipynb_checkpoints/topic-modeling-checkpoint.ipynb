{
 "cells": [
  {
   "cell_type": "code",
   "execution_count": 70,
   "metadata": {},
   "outputs": [
    {
     "name": "stdout",
     "output_type": "stream",
     "text": [
      "CPU times: user 1.56 ms, sys: 14.9 ms, total: 16.5 ms\n",
      "Wall time: 172 ms\n"
     ]
    }
   ],
   "source": [
    "%%time\n",
    "# Get the path to all text file in dir. Including the files in subdirectories\n",
    "import os\n",
    "\n",
    "dir = 'corpus'\n",
    "file_list = [os.path.join(path, file) for path, _, files in os.walk(dir) \n",
    "             for file in files if file.endswith('.txt')]"
   ]
  },
  {
   "cell_type": "code",
   "execution_count": 73,
   "metadata": {},
   "outputs": [
    {
     "name": "stdout",
     "output_type": "stream",
     "text": [
      "CPU times: user 2.69 s, sys: 185 ms, total: 2.87 s\n",
      "Wall time: 5.38 s\n"
     ]
    }
   ],
   "source": [
    "%%time\n",
    "# One pass on all files to create a vocabulary\n",
    "from nltk.corpus import stopwords\n",
    "# If you get LookupError use nltk.download() to get the stopword list\n",
    "# from nltk.stem.porter import PorterStemmer\n",
    "from nltk.stem import WordNetLemmatizer\n",
    "\n",
    "import re\n",
    "import os\n",
    "\n",
    "rm_non_alnum = re.compile('[^a-zA-Z]')\n",
    "# s = PorterStemmer()\n",
    "lemmatizer = WordNetLemmatizer()\n",
    "\n",
    "stop_set = set(stopwords.words('english'))\n",
    "stop_set.update(['et', 'al', 'chapter'])\n",
    "corp = []\n",
    "\n",
    "for file in file_list:\n",
    "    with open(file, 'r', encoding='latin-1') as f:\n",
    "        corp += [[lemmatizer.lemmatize(word) for line in f \n",
    "                  for word in map(lambda x: rm_non_alnum.sub('', x), line.lower().strip().split()) \n",
    "                  if len(word) > 0 and word not in stop_set]]"
   ]
  },
  {
   "cell_type": "code",
   "execution_count": 84,
   "metadata": {},
   "outputs": [
    {
     "name": "stdout",
     "output_type": "stream",
     "text": [
      "CPU times: user 99.6 ms, sys: 8.37 ms, total: 108 ms\n",
      "Wall time: 101 ms\n"
     ]
    }
   ],
   "source": [
    "%%time\n",
    "from gensim import corpora\n",
    "\n",
    "dictionary = corpora.Dictionary(corp)\n",
    "\n",
    "dictionary.filter_extremes(no_below=2)\n",
    "\n",
    "corpus = [dictionary.doc2bow(text) for text in corp]"
   ]
  },
  {
   "cell_type": "code",
   "execution_count": 81,
   "metadata": {},
   "outputs": [
    {
     "name": "stdout",
     "output_type": "stream",
     "text": [
      "CPU times: user 2.93 s, sys: 15.6 ms, total: 2.95 s\n",
      "Wall time: 2.94 s\n"
     ]
    },
    {
     "data": {
      "text/plain": [
       "[(0,\n",
       "  '0.025*\"document\" + 0.011*\"clustering\" + 0.011*\"cluster\" + 0.009*\"user\" + 0.009*\"search\" + 0.008*\"similarity\" + 0.007*\"page\" + 0.007*\"measure\" + 0.007*\"two\" + 0.006*\"information\"'),\n",
       " (1,\n",
       "  '0.027*\"document\" + 0.019*\"term\" + 0.017*\"query\" + 0.015*\"zone\" + 0.010*\"model\" + 0.009*\"score\" + 0.008*\"relevance\" + 0.007*\"weighting\" + 0.007*\"boolean\" + 0.007*\"probabilistic\"'),\n",
       " (2,\n",
       "  '0.021*\"document\" + 0.016*\"term\" + 0.011*\"query\" + 0.008*\"word\" + 0.007*\"one\" + 0.007*\"clustering\" + 0.006*\"two\" + 0.006*\"index\" + 0.006*\"cluster\" + 0.005*\"figure\"'),\n",
       " (3,\n",
       "  '0.020*\"document\" + 0.013*\"classification\" + 0.012*\"model\" + 0.012*\"class\" + 0.011*\"classifier\" + 0.009*\"query\" + 0.008*\"method\" + 0.008*\"set\" + 0.008*\"text\" + 0.008*\"data\"'),\n",
       " (4,\n",
       "  '0.022*\"document\" + 0.013*\"term\" + 0.008*\"feature\" + 0.008*\"query\" + 0.008*\"set\" + 0.008*\"class\" + 0.008*\"vector\" + 0.007*\"example\" + 0.007*\"precision\" + 0.007*\"value\"'),\n",
       " (5,\n",
       "  '0.016*\"document\" + 0.011*\"clustering\" + 0.010*\"cluster\" + 0.010*\"query\" + 0.010*\"term\" + 0.010*\"model\" + 0.007*\"algorithm\" + 0.006*\"section\" + 0.006*\"node\" + 0.006*\"mean\"'),\n",
       " (6,\n",
       "  '0.019*\"page\" + 0.017*\"term\" + 0.015*\"index\" + 0.013*\"web\" + 0.012*\"query\" + 0.010*\"document\" + 0.008*\"number\" + 0.007*\"set\" + 0.006*\"search\" + 0.006*\"text\"'),\n",
       " (7,\n",
       "  '0.013*\"list\" + 0.012*\"posting\" + 0.010*\"document\" + 0.009*\"vector\" + 0.007*\"space\" + 0.007*\"skip\" + 0.006*\"index\" + 0.006*\"page\" + 0.006*\"matrix\" + 0.005*\"classification\"'),\n",
       " (8,\n",
       "  '0.020*\"probability\" + 0.012*\"document\" + 0.012*\"term\" + 0.012*\"query\" + 0.010*\"model\" + 0.010*\"search\" + 0.008*\"distribution\" + 0.008*\"page\" + 0.007*\"web\" + 0.006*\"user\"'),\n",
       " (9,\n",
       "  '0.025*\"document\" + 0.021*\"query\" + 0.013*\"term\" + 0.013*\"retrieval\" + 0.010*\"search\" + 0.009*\"list\" + 0.008*\"cluster\" + 0.008*\"user\" + 0.008*\"section\" + 0.007*\"information\"')]"
      ]
     },
     "execution_count": 81,
     "metadata": {},
     "output_type": "execute_result"
    }
   ],
   "source": [
    "from gensim.models import LdaModel\n",
    "%time lda_model = LdaModel(corpus, num_topics=10, id2word=dictionary, passes=4)\n",
    "lda_model.print_topics(-1) "
   ]
  },
  {
   "cell_type": "code",
   "execution_count": 82,
   "metadata": {},
   "outputs": [
    {
     "name": "stdout",
     "output_type": "stream",
     "text": [
      "CPU times: user 31.6 ms, sys: 4.28 ms, total: 35.9 ms\n",
      "Wall time: 32.5 ms\n",
      "CPU times: user 2.85 s, sys: 14.5 ms, total: 2.87 s\n",
      "Wall time: 2.87 s\n"
     ]
    },
    {
     "data": {
      "text/plain": [
       "[(0,\n",
       "  '0.025*\"document\" + 0.011*\"clustering\" + 0.011*\"cluster\" + 0.009*\"user\" + 0.009*\"search\" + 0.008*\"similarity\" + 0.007*\"page\" + 0.007*\"measure\" + 0.007*\"two\" + 0.006*\"information\"'),\n",
       " (1,\n",
       "  '0.027*\"document\" + 0.019*\"term\" + 0.017*\"query\" + 0.015*\"zone\" + 0.010*\"model\" + 0.009*\"score\" + 0.008*\"relevance\" + 0.007*\"weighting\" + 0.007*\"boolean\" + 0.007*\"probabilistic\"'),\n",
       " (2,\n",
       "  '0.021*\"document\" + 0.016*\"term\" + 0.011*\"query\" + 0.008*\"word\" + 0.007*\"one\" + 0.007*\"clustering\" + 0.006*\"two\" + 0.006*\"index\" + 0.006*\"cluster\" + 0.005*\"figure\"'),\n",
       " (3,\n",
       "  '0.020*\"document\" + 0.013*\"classification\" + 0.012*\"model\" + 0.012*\"class\" + 0.011*\"classifier\" + 0.009*\"query\" + 0.008*\"method\" + 0.008*\"set\" + 0.008*\"text\" + 0.008*\"data\"'),\n",
       " (4,\n",
       "  '0.022*\"document\" + 0.013*\"term\" + 0.008*\"feature\" + 0.008*\"query\" + 0.008*\"set\" + 0.008*\"class\" + 0.008*\"vector\" + 0.007*\"example\" + 0.007*\"precision\" + 0.007*\"value\"'),\n",
       " (5,\n",
       "  '0.016*\"document\" + 0.011*\"clustering\" + 0.010*\"cluster\" + 0.010*\"query\" + 0.010*\"term\" + 0.010*\"model\" + 0.007*\"algorithm\" + 0.006*\"section\" + 0.006*\"node\" + 0.006*\"mean\"'),\n",
       " (6,\n",
       "  '0.019*\"page\" + 0.017*\"term\" + 0.015*\"index\" + 0.013*\"web\" + 0.012*\"query\" + 0.010*\"document\" + 0.008*\"number\" + 0.007*\"set\" + 0.006*\"search\" + 0.006*\"text\"'),\n",
       " (7,\n",
       "  '0.013*\"list\" + 0.012*\"posting\" + 0.010*\"document\" + 0.009*\"vector\" + 0.007*\"space\" + 0.007*\"skip\" + 0.006*\"index\" + 0.006*\"page\" + 0.006*\"matrix\" + 0.005*\"classification\"'),\n",
       " (8,\n",
       "  '0.020*\"probability\" + 0.012*\"document\" + 0.012*\"term\" + 0.012*\"query\" + 0.010*\"model\" + 0.010*\"search\" + 0.008*\"distribution\" + 0.008*\"page\" + 0.007*\"web\" + 0.006*\"user\"'),\n",
       " (9,\n",
       "  '0.025*\"document\" + 0.021*\"query\" + 0.013*\"term\" + 0.013*\"retrieval\" + 0.010*\"search\" + 0.009*\"list\" + 0.008*\"cluster\" + 0.008*\"user\" + 0.008*\"section\" + 0.007*\"information\"')]"
      ]
     },
     "execution_count": 82,
     "metadata": {},
     "output_type": "execute_result"
    }
   ],
   "source": [
    "from gensim.models import TfidfModel, LdaModel\n",
    "%time tfidf_model = TfidfModel(corpus, id2word=dictionary)\n",
    "%time tfidf_lda = LdaModel(tfidf_model[corpus], id2word=dictionary, num_topics=10, passes=4)\n",
    "lda_model.print_topics(-1) "
   ]
  },
  {
   "cell_type": "code",
   "execution_count": 83,
   "metadata": {},
   "outputs": [
    {
     "name": "stdout",
     "output_type": "stream",
     "text": [
      "CPU times: user 33.2 ms, sys: 4.88 ms, total: 38.1 ms\n",
      "Wall time: 34.4 ms\n",
      "CPU times: user 613 ms, sys: 26.8 ms, total: 640 ms\n",
      "Wall time: 335 ms\n"
     ]
    },
    {
     "data": {
      "text/plain": [
       "[(0,\n",
       "  '0.171*\"clustering\" + 0.161*\"document\" + 0.158*\"cluster\" + 0.150*\"model\" + 0.146*\"query\" + 0.137*\"classification\" + 0.126*\"class\" + 0.124*\"relevance\" + 0.122*\"classifier\" + 0.117*\"term\"'),\n",
       " (1,\n",
       "  '0.556*\"clustering\" + 0.464*\"cluster\" + 0.222*\"similarity\" + 0.164*\"singlelink\" + 0.152*\"centroid\" + 0.141*\"exercise\" + 0.129*\"merge\" + 0.120*\"completelink\" + 0.116*\"hac\" + 0.101*\"hierarchical\"'),\n",
       " (2,\n",
       "  '0.975*\"exercise\" + -0.098*\"clustering\" + -0.082*\"cluster\" + 0.046*\"classifier\" + 0.043*\"classification\" + 0.041*\"class\" + 0.032*\"training\" + -0.032*\"similarity\" + 0.031*\"margin\" + -0.028*\"posting\"'),\n",
       " (3,\n",
       "  '-0.306*\"classifier\" + -0.293*\"classification\" + -0.276*\"class\" + 0.257*\"posting\" + -0.189*\"training\" + 0.182*\"list\" + -0.178*\"feature\" + 0.164*\"index\" + 0.143*\"exercise\" + -0.136*\"learning\"'),\n",
       " (4,\n",
       "  '-0.294*\"feedback\" + 0.281*\"posting\" + -0.273*\"relevance\" + -0.241*\"model\" + 0.184*\"list\" + -0.168*\"language\" + 0.157*\"classifier\" + -0.152*\"probability\" + 0.141*\"index\" + -0.139*\"modeling\"'),\n",
       " (5,\n",
       "  '0.305*\"model\" + -0.300*\"feedback\" + 0.285*\"probability\" + -0.229*\"relevance\" + 0.227*\"language\" + 0.168*\"event\" + -0.156*\"user\" + 0.150*\"modeling\" + 0.139*\"smoothing\" + 0.130*\"multinomial\"'),\n",
       " (6,\n",
       "  '-0.256*\"matrix\" + -0.202*\"web\" + 0.174*\"posting\" + -0.161*\"state\" + -0.158*\"pagerank\" + 0.148*\"model\" + -0.147*\"page\" + 0.136*\"feedback\" + -0.133*\"markov\" + -0.130*\"chain\"'),\n",
       " (7,\n",
       "  '-0.276*\"feedback\" + -0.227*\"relevance\" + -0.198*\"vector\" + 0.191*\"web\" + -0.146*\"posting\" + 0.140*\"language\" + 0.133*\"xml\" + -0.132*\"matrix\" + 0.129*\"search\" + -0.123*\"score\"'),\n",
       " (8,\n",
       "  '0.239*\"zone\" + -0.221*\"feedback\" + -0.194*\"event\" + 0.179*\"vector\" + 0.179*\"query\" + -0.158*\"probability\" + 0.142*\"score\" + 0.137*\"xml\" + 0.135*\"scoring\" + -0.127*\"web\"'),\n",
       " (9,\n",
       "  '0.391*\"matrix\" + -0.251*\"event\" + 0.217*\"decomposition\" + -0.169*\"zone\" + 0.145*\"singular\" + 0.143*\"theorem\" + 0.131*\"approximation\" + 0.123*\"symmetric\" + 0.123*\"eigenvalue\" + 0.120*\"termdocument\"')]"
      ]
     },
     "execution_count": 83,
     "metadata": {},
     "output_type": "execute_result"
    }
   ],
   "source": [
    "from gensim.models import TfidfModel, LsiModel\n",
    "%time tfidf_model = TfidfModel(corpus, id2word=dictionary)\n",
    "%time lsi_model = LsiModel(tfidf_model[corpus], id2word=dictionary, num_topics=10)\n",
    "lsi_model.print_topics(-1)"
   ]
  },
  {
   "cell_type": "code",
   "execution_count": null,
   "metadata": {},
   "outputs": [],
   "source": []
  },
  {
   "cell_type": "code",
   "execution_count": null,
   "metadata": {},
   "outputs": [],
   "source": []
  }
 ],
 "metadata": {
  "kernelspec": {
   "display_name": "Python 3",
   "language": "python",
   "name": "python3"
  },
  "language_info": {
   "codemirror_mode": {
    "name": "ipython",
    "version": 3
   },
   "file_extension": ".py",
   "mimetype": "text/x-python",
   "name": "python",
   "nbconvert_exporter": "python",
   "pygments_lexer": "ipython3",
   "version": "3.6.3"
  }
 },
 "nbformat": 4,
 "nbformat_minor": 2
}
