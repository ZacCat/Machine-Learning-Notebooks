{
 "cells": [
  {
   "cell_type": "markdown",
   "metadata": {},
   "source": [
    "# Table of Contents\n",
    "\n",
    "* [1 General Functions](#general_functions)\n",
    "* [1.1 Functions to Save and Open Variables](#open_save)\n",
    "* [2 Datasets](#load_datasets)\n",
    "    * [2.1 Load Reuters Corpus Volume 1 (rcv1) Dataset](#load_rcv1)\n",
    "    * [2.2 Dataset Attributes of rcv1](#attributes_rcv1)\n",
    "    * [2.3 Load Modified National Institute of Standards and Technology (MNIST) Dataset](#load_mnist)\n",
    "    * [2.4 Train/Test Split](#train_test_split)\n",
    "    * [2.5 Dataset Attributes of MNIST](#attributes_mnist)\n",
    "* [3 Document Classification](#document_classification)\n",
    "    * [3.1 Naive Bayes](#naive_bayes)\n",
    "        * [3.1.1 Naive Bayes on rcv1](#nb_rcv1)\n",
    "        * [3.1.2 Naive Bayes on MNIST](#nb_mnist)\n",
    "    * [3.2 Generating Predictions](#generating_predictions)\n",
    "    * [3.3 Evaluating Predictions](#evaluating_predictions)\n",
    "    * [3.4 Recall vs Precision Graph](#recall_precision_graph)\n",
    "        * [3.4.1 Recall-Precision Graph for Naive Bayes with rcv1](#graph_nb_rcv1)\n",
    "        * [3.4.2 Recall-Precision Graph for for Naive Bayes with MNIST](#graph_nb_mnist)\n",
    "    * [3.5 K-Folds Cross-Validation](#k_folds)\n",
    "    * [3.6 Support Vector Machines (SVM)](#svm)\n",
    "        * [3.6.1 SVM on rcv1](#svm_rcv1)\n",
    "        * [3.6.2 SVM on mnist](#svm_mnist)\n",
    "    * [3.7 k-Nearest Neighbors (kNN)](#knn)\n",
    "        * [3.7.1 kNN on rcv1](#knn_rcv1)\n",
    "        * [3.7.2 kNN on mnist](#knn_mnist)\n",
    "    * [3.8 Decision Trees](#decision_trees)\n",
    "        * [3.7.1 Decision Trees on rcv1](#dt_rcv1)\n",
    "        * [3.7.2 Decision Trees on mnist](#dt_mnist)    "
   ]
  },
  {
   "cell_type": "markdown",
   "metadata": {},
   "source": [
    "# Basic Terminology <a id='basic_terminology'></a>\n",
    "\n",
    "\n",
    "\n",
    "The following table shows a sample of the Iris data set. The Iris data set will be used to explain important foundational terminology. This data set consists of various measurements of iris flowers and the species of that particular flower. \n",
    "\n",
    "|Sepal length | Sepal width | Petal length | Petal width |  Species   |\n",
    "|-------------|-------------|--------------|-------------|------------|\n",
    "| 5.1 | 3.5 | 1.4 | 0.2 | setosa   |\n",
    "| 4.9 | 3.0 | 1.4 | 0.2 | setosa   |\n",
    "| 4.7 | 3.2 | 1.3 | 0.2 | setosa   |\n",
    "| 7.0 | 3.2 | 4.7 | 1.4 | versicolor  |\n",
    "| 6.4 | 3.2 | 4.5 | 1.5 | versicolor  |\n",
    "| 6.9 | 3.1 | 4.9 | 1.5 | versicolor  |\n",
    "| 6.3 | 3.3 | 6.0 | 2.5 | virginica  |\n",
    "| 5.8 | 2.7 | 5.1 | 1.9 | virginica  |\n",
    "| 7.1 | 3.0 | 5.9 | 2.1 | virginica  |\n",
    "\n",
    "The rows of this table represent individual data points, in this case individual iris flowers. The columns are called the <b>features</b> or <b>predictors</b>, they will be used to infer the class labels of new data. In the case of the iris data set the species is what we would like to predict. So this data set has four predictors: Sepal length, Sepal width, Petal length, and Petal width. The Species column represents the <b>true label</b> of each data point.  In this data set there are 3 possible class labels: setosa, versicolor, and virginica. The labeled data gives examples of actual members of each class, this information is used by the classification algorithm to predict the class labels of new data.<br>\n",
    "<br>\n",
    "A <b>feature vector</b> is simply a row from a data set, using our iris example suppose we have the following feature vector: <br>\n",
    "$$f_1 = (5.1, \\ 3.5, \\ 1.4, \\ 0.2)$$\n",
    "$\\ f_1$ corresponds to a iris flower with a sepal length of 5.1, a sepal width of 3.5, a petal length of 1.4, and a petal width of 0.2. <br>\n",
    "\n",
    "### Types of classification problems\n",
    "<b>Binary Classification</b>: There are exactly two possible classes. For example, imagine a spam filter for a email service, a message can be classified as either spam or not spam. \n",
    "\n",
    "<b>Multiclass Classification</b>: There are more than two classes. Imagine classifying hand-written digits, there are 10 possible class labels one for each number 0-9.\n",
    "\n",
    "<b>Muti-label Classification</b>: There are more than two classes and each training instance can be assigned more than one class label. Imagine classifying images of fruit. A picture could contain only an apple or apples and pears or perhaps oranges, bananas and apples.\n"
   ]
  },
  {
   "cell_type": "markdown",
   "metadata": {},
   "source": [
    "# General Functions <a id='general_functions'></a>"
   ]
  },
  {
   "cell_type": "markdown",
   "metadata": {},
   "source": [
    "## Functions to Save and Open Variables <a id='open_save'></a>\n",
    "\n",
    "Since it is not uncommon for a machine learning task to take a long time it is good practice to save variables that may be needed in the future. This can be achieved by using the <a target=\"_top\" href=\"https://docs.python.org/3/library/pickle.html\">pickle</a> module. This package allows a variable up to 4gb to be saved. This limitation is why the 'metrics' variables are saved as individual items instead of a dictionary."
   ]
  },
  {
   "cell_type": "code",
   "execution_count": null,
   "metadata": {},
   "outputs": [],
   "source": [
    "# Save variables to file\n",
    "import pickle\n",
    "\n",
    "def save_var(variable_name):\n",
    "    \"\"\" Saves the variable with the provided variable name \n",
    "         in the global namespace to the ./vars folder \n",
    "         with the provided same name \"\"\"\n",
    "    \n",
    "    with open('./vars/' + variable_name,'wb') as my_file_obj:\n",
    "        pickle.dump(globals()[variable_name], my_file_obj, protocol=4)\n",
    "\n",
    "def save_var_list(variable_name_list):\n",
    "    \"\"\" Saves each variable with the provided variable name \n",
    "         in the global namespace to the ./vars folder \n",
    "         with the provided same name \"\"\"\n",
    "    for name in variable_name_list:\n",
    "        with open('./vars/' + name,'wb') as my_file_obj:\n",
    "            pickle.dump(globals()[name], my_file_obj, protocol=pickle.HIGHEST_PROTOCOL)\n",
    "\n",
    "def open_var(file_name):\n",
    "    \"\"\" Returns the variable saved with the provided \n",
    "         file name located in the ./vars folder\"\"\"\n",
    "    \n",
    "    file_object = open('./vars/' + file_name,'rb')  \n",
    "\n",
    "    loaded_var = pickle.load(file_object)\n",
    "    \n",
    "    return loaded_var\n",
    "\n",
    "def open_var_list(file_name_list):\n",
    "    \"\"\" Loads a variable corresponding to each file name\n",
    "         in file_name_list to the global namespace. \"\"\"\n",
    "    \n",
    "    for file_name in file_name_list:\n",
    "        globals()[file_name] = open_var(file_name)"
   ]
  },
  {
   "cell_type": "code",
   "execution_count": null,
   "metadata": {},
   "outputs": [],
   "source": [
    "%time open_var_list(['rcv1_train', 'rcv1_test'])"
   ]
  },
  {
   "cell_type": "code",
   "execution_count": null,
   "metadata": {},
   "outputs": [],
   "source": [
    "%time save_var_list(['mnist', 'mnist_train', 'mnist_test', 'rcv1_train', 'rcv1_test'])"
   ]
  },
  {
   "cell_type": "code",
   "execution_count": null,
   "metadata": {},
   "outputs": [],
   "source": [
    "class Dataset_Part:\n",
    "    \"\"\" Represents a dataset with attributes\n",
    "         data and target \"\"\"\n",
    "    \n",
    "    data = None\n",
    "    target = None\n",
    "    def __init__(self, X, y):\n",
    "        self.data = X\n",
    "        self.target = y\n",
    "\n",
    "%time open_var_list(['mnist_train', 'mnist_test'])"
   ]
  },
  {
   "cell_type": "markdown",
   "metadata": {},
   "source": [
    "## Load Datasets <a id='load_datasets'></a>"
   ]
  },
  {
   "cell_type": "markdown",
   "metadata": {},
   "source": [
    "### <a target=\"_top\" href=\"http://scikit-learn.org/stable/datasets/rcv1.html\">Load Reuters Corpus Volume I (rcv1) Dataset</a> <a id='load_rcv1'></a> "
   ]
  },
  {
   "cell_type": "markdown",
   "metadata": {},
   "source": [
    "Scikit-learn includes functions to easily load some popular datasets. One of the included datasets is rcv1. This dataset can be loaded completly or broken into test and train subsets. This dataset consists of over 800,000 manually categorized news stories. The data is represented by cosine-normalized log TF-IDF vectors and the labels are 103 classes with binary values."
   ]
  },
  {
   "cell_type": "code",
   "execution_count": null,
   "metadata": {
    "collapsed": true
   },
   "outputs": [],
   "source": [
    "from sklearn.datasets import fetch_rcv1\n",
    "\n",
    "%time rcv1 = fetch_rcv1()"
   ]
  },
  {
   "cell_type": "code",
   "execution_count": null,
   "metadata": {},
   "outputs": [],
   "source": [
    "from sklearn.datasets import fetch_rcv1\n",
    "\n",
    "%time rcv1_train, rcv1_test = (fetch_rcv1(subset='train'), fetch_rcv1(subset='test'))"
   ]
  },
  {
   "cell_type": "markdown",
   "metadata": {},
   "source": [
    "### Dataset Attributes of rcv1 <a id='attributes_rcv1'></a>"
   ]
  },
  {
   "cell_type": "markdown",
   "metadata": {},
   "source": [
    "Datasets loaded from scikit-learn will typically have several attributes.\n",
    "\n",
    "   1. __data__ - a scipy <a target=\"_top\" href=\"https://docs.scipy.org/doc/scipy-0.14.0/reference/generated/scipy.sparse.csr_matrix.html\">compressed row storage (CSR) sparce matrix</a>. Non-zero values are cosinne-normalized, log TF-IDF vectors. The shape is (num_samples, num_features)\n",
    "   2. __target__ - a scipy CSR sparse matrix. Maps each sample to relavent categories (sometimes refered to as labels). The shape is (num_samples, num_categories).\n",
    "   3. __sample_id__ - a <a target=\"_top\" href=\"https://docs.scipy.org/doc/numpy-1.14.0/reference/generated/numpy.ndarray.html\">numpy n-dimensional array</a> (ndarray) associating each sample's ID to its sample number\n",
    "   4. __target_names__ - a ndarray of target names (can be thought of as topics or categories) corresponding to the category mapping in __(2)__. Each sample belongs to n categories, where 1 $\\le$ n $\\le$ 13.\n",
    "   5. __DESCR__ - a description of the dataset\n",
    "   \n",
    "The shape attribute gives the dimensions of the matrix."
   ]
  },
  {
   "cell_type": "code",
   "execution_count": null,
   "metadata": {},
   "outputs": [],
   "source": [
    "def get_nonzero(matrix):\n",
    "    \"\"\" Returns the percent of items in the provided \n",
    "         matrix that are not 0.\n",
    "         \n",
    "        Params:\n",
    "          matrix -- a csr sparse matrix \"\"\"\n",
    "    \n",
    "    nonzero = (matrix.count_nonzero() / (matrix.shape[0] * matrix.shape[1])) * 100\n",
    "    # Check value is valid\n",
    "    assert nonzero <= 100\n",
    "    assert nonzero >= 0\n",
    "    \n",
    "    return nonzero\n",
    "\n",
    "def print_rcv1_attributes(dataset):\n",
    "    \"\"\" Prints attributes of the provided dataset.\n",
    "    \n",
    "        Params:\n",
    "          dataset -- the RCV1 full dataset or a subset \"\"\"\n",
    "    \n",
    "    print(f'  rcv1 type: {type(dataset)}')\n",
    "    \n",
    "    print ('data:')\n",
    "    print(f'      shape: {dataset.data.shape}')\n",
    "    print(f'  data type: {dataset.data.dtype}')\n",
    "    print(f' array type: {type(dataset.data)}')\n",
    "    print(f'    nonzero: {get_nonzero(dataset.data):0.4f}%\\n')\n",
    "\n",
    "    print('target:')\n",
    "    print(f'      shape: {dataset.target.shape}')\n",
    "    print(f'  data type: {dataset.target.dtype}')\n",
    "    print(f' array type: {type(dataset.target)}')\n",
    "    print(f'    nonzero: {get_nonzero(dataset.target):0.4f}%\\n')\n",
    "\n",
    "    print('sample_id:')\n",
    "    print(f'      shape: {dataset.sample_id.shape}')\n",
    "    print(f'  data type: {type(dataset.sample_id[3])}')\n",
    "    print(f' array type: {type(dataset.sample_id)}\\n')\n",
    "\n",
    "    print('target_names:')\n",
    "    print(f'      shape: {dataset.target_names.shape}')\n",
    "    print(f'  data type: {type(dataset.target_names[3])}')\n",
    "    print(f' array type: {type(dataset.target_names)}')"
   ]
  },
  {
   "cell_type": "code",
   "execution_count": null,
   "metadata": {},
   "outputs": [],
   "source": [
    "print('rcv1 dataset attributes')\n",
    "print_rcv1_attributes(rcv1)"
   ]
  },
  {
   "cell_type": "code",
   "execution_count": null,
   "metadata": {},
   "outputs": [],
   "source": [
    "print('rcv1 training subset attributes:')\n",
    "print_rcv1_attributes(rcv1_train)"
   ]
  },
  {
   "cell_type": "code",
   "execution_count": null,
   "metadata": {},
   "outputs": [],
   "source": [
    "print('\\nrcv1 testing subset attributes:')\n",
    "print_rcv1_attributes(rcv1_test)"
   ]
  },
  {
   "cell_type": "markdown",
   "metadata": {},
   "source": [
    "### <a target=\"_top\" href=\"http://scikit-learn.org/stable/modules/generated/sklearn.datasets.fetch_mldata.html\">Modified National Institute of Standards and Technology (MNIST) Dataset</a> <a id='load_mnist'></a> \n"
   ]
  },
  {
   "cell_type": "markdown",
   "metadata": {},
   "source": [
    "Another included dataset is MNIST. This dataset is 70,000 handwritten digits represented by 28x28 pixel images. The classes correspond to the number shown in the image. Since each image is 28x28 each pixel is a feature giving each document 784 features."
   ]
  },
  {
   "cell_type": "code",
   "execution_count": null,
   "metadata": {},
   "outputs": [],
   "source": [
    "from sklearn.datasets import fetch_mldata\n",
    "\n",
    "mnist = fetch_mldata('MNIST original')"
   ]
  },
  {
   "cell_type": "markdown",
   "metadata": {},
   "source": [
    "### Train/Test Split <a id='train_test_split'></a>\n",
    "\n",
    "Since MNIST does not have a default train/test set like rcv1 we will use a train/test split. This is when a dataset is broken into two parts, one to train the classifier and one to test it. When decomposing the dataset it is important to ensure equal representation of each class. MNIST is sorted by  digit; therefore, if the dataset is simply partitioned in order there may be no instances of a particular class. This can be alleviated by shuffling the dataset. "
   ]
  },
  {
   "cell_type": "code",
   "execution_count": null,
   "metadata": {},
   "outputs": [],
   "source": [
    "from sklearn.model_selection import train_test_split\n",
    "\n",
    "# To keep the .data and .target format consistent \n",
    "class Dataset_Part:\n",
    "    \"\"\" Represents a dataset with attributes\n",
    "         data and target \"\"\"\n",
    "    \n",
    "    data = None\n",
    "    target = None\n",
    "    def __init__(self, X, y):\n",
    "        self.data = X\n",
    "        self.target = y\n",
    "\n",
    "X_train, X_test, y_train, y_test = train_test_split(mnist.data, mnist.target, test_size=.33, random_state=35)\n",
    "mnist_train, mnist_test = Dataset_Part(X_train, y_train), Dataset_Part(X_test, y_test)"
   ]
  },
  {
   "cell_type": "markdown",
   "metadata": {},
   "source": [
    "### Dataset Attributes of MNIST <a id='attributes_mnist'></a>"
   ]
  },
  {
   "cell_type": "markdown",
   "metadata": {},
   "source": [
    "Datasets loaded from scikit-learn will typically have several attributes.\n",
    "\n",
    "   1. __data__ - a <a target=\"_top\" href=\"https://docs.scipy.org/doc/numpy-1.14.0/reference/generated/numpy.ndarray.html\">numpy n-dimensional array</a> (ndarray). The value of each feature corresponds to the intensity of a pixel. Each feature is represented by an intensity 0 (white) to 255 (black). The shape is (num_samples, num_features).\n",
    "   2. __target__ - a <a target=\"_top\" href=\"https://docs.scipy.org/doc/numpy-1.14.0/reference/generated/numpy.ndarray.html\">numpy n-dimensional array</a> (ndarray) associating each sample's ID to the value of the handwritten digit.\n",
    "   \n",
    "The shape attribute gives the dimensions of the matrix."
   ]
  },
  {
   "cell_type": "code",
   "execution_count": null,
   "metadata": {},
   "outputs": [],
   "source": [
    "import numpy as np\n",
    "\n",
    "def get_avg_nonzero(subset):\n",
    "    \"\"\" Returns the percent of items in the provided \n",
    "         list matricies that are not 0.\n",
    "         \n",
    "        Params:\n",
    "          matrix -- a csr sparse matrix \"\"\"\n",
    "    \n",
    "    return (np.count_nonzero(subset) / (subset.shape[1] * subset.shape[0])) * 100\n",
    "\n",
    "def print_mnist_attributes(dataset):\n",
    "    \"\"\" Prints attributes of the provided dataset.\n",
    "    \n",
    "        Params:\n",
    "          dataset -- the mnist full dataset \"\"\"\n",
    "    \n",
    "    print(f'     mnist type: {type(dataset)}')\n",
    "    \n",
    "    print ('data:')\n",
    "    print(f'          shape: {dataset.data.shape}')\n",
    "    print(f'      data type: {dataset.data.dtype}')\n",
    "    print(f'     array type: {type(dataset.data)}')\n",
    "    print(f' nonzero pixels: {get_avg_nonzero(dataset.data):0.4f}%\\n')\n",
    "\n",
    "    print('target:')\n",
    "    print(f'          shape: {dataset.target.shape}')\n",
    "    print(f'      data type: {dataset.target.dtype}')\n",
    "    print(f'     array type: {type(dataset.target)}')"
   ]
  },
  {
   "cell_type": "code",
   "execution_count": null,
   "metadata": {},
   "outputs": [],
   "source": [
    "print('MNIST train dataset attributes')\n",
    "print_mnist_attributes(mnist_train)"
   ]
  },
  {
   "cell_type": "code",
   "execution_count": null,
   "metadata": {},
   "outputs": [],
   "source": [
    "print('MNIST test dataset attributes')\n",
    "print_mnist_attributes(mnist_test)"
   ]
  },
  {
   "cell_type": "markdown",
   "metadata": {},
   "source": [
    "It is also possible to view a document as an image by reshaping the array to a 28x28 matrix."
   ]
  },
  {
   "cell_type": "code",
   "execution_count": null,
   "metadata": {},
   "outputs": [],
   "source": [
    "import matplotlib\n",
    "import matplotlib.pyplot as plt\n",
    "import random\n",
    "\n",
    "def print_rand_digit():  \n",
    "    # Get a random document\n",
    "    rand_index = random.randint(0,70000)\n",
    "    rand_digit = mnist_train.data[rand_index]\n",
    "    # Reshape it to the size of the image\n",
    "    rand_digit_image = rand_digit.reshape(28,28)\n",
    "\n",
    "    # Some information\n",
    "    print(f'\\tIndex: {rand_index}\\tLabel: {mnist_train.target[rand_index]:.0f}')\n",
    "    # Show the image\n",
    "    plt.imshow(rand_digit_image, cmap=matplotlib.cm.binary, interpolation=\"nearest\")\n",
    "    plt.axis(\"off\")\n",
    "    plt.show()\n",
    "    \n",
    "print_rand_digit()"
   ]
  },
  {
   "cell_type": "markdown",
   "metadata": {},
   "source": [
    "# <a target=\"_top\" href=\"http://scikit-learn.org/stable/modules/naive_bayes.html\">Naive Bayes</a> <a id='naive_bayes'></a>\n",
    "A supervised learning algorithm based on using Bayes' theorem. This method assumes independence between each pair of features.\n",
    "\n",
    "Bayes Theorem from eq. 1 in [zhang-2004]:\n",
    "\\begin{equation}\n",
    "p(c \\mid x_1, . . ., x_n) = \\frac{P(c) P(a_1, . . ., a_n | y)} {P(a_1, . . ., a_n)}\n",
    "\\end{equation}\n",
    "\n",
    "By assuming all attributes are independent we can further simplify $p(a_1, . . ., a_n \\mid c)$ eq. 2 from [zhang-2008], this is the naive assumption of naive bayes.\n",
    "\n",
    "\\begin{equation}\n",
    "p(x_1, . . ., x_n \\mid c) = \\prod_{i = 1}^{n} P(x_i | c)\n",
    "\\end{equation}\n",
    "\n",
    "This gives us our classification rule, as shown in eq. 3 from [zhang-2008]. \n",
    "\n",
    "\\begin{equation}\n",
    "C_{nb}(x_1, . . ., x_n) = \\underset{c}{arg} \\max p(c)  \\prod_{i = 1}^{n} P(x_i | c)\n",
    "\\end{equation}\n",
    "\n",
    "SciKit Learn supports several Naive Bayes implimentations. \n",
    "1. <a target=\"_top\" href=\"http://scikit-learn.org/stable/modules/generated/sklearn.naive_bayes.GaussianNB.html\">__Gaussian Naive Bayes__</a> - In this implementation the likelihood of the features is assumed to be Gaussian. Gaussian distributions are more commonly reffered to as the normal distribution and in this instance will be represented as $g(x_i, \\mu_{i,c}, \\sigma_{i,c})$, where $\\mu$ is the mean and $\\sigma$ is the typical deviation. The probability of a document vector $\\vec{x}$ using multinomial Naive Bayes is shown in section 2.2 of [metsis-2006]. Let $\\vec{x}$ represent the term frequency vector of the document to be evaulated, where $x_i$ represents the number of times $t_i$ appears in the document.\n",
    "\n",
    "\\begin{equation}\n",
    "    p(\\vec{x} \\mid c) =  \\prod_{i = 1}^{m} g(x_i, \\mu_{i,c}, \\sigma_{i,c})\n",
    "\\end{equation}"
   ]
  },
  {
   "cell_type": "code",
   "execution_count": null,
   "metadata": {},
   "outputs": [],
   "source": [
    "#visualization of a normal distribution\n",
    "\n",
    "#feel free to edit the mean and stdDiv variables to see\n",
    "#how the distribution is affected\n",
    "\n",
    "mean = 0\n",
    "stdDev = 1 #standard deviation\n",
    "\n",
    "import numpy as np\n",
    "import matplotlib.pyplot as plt\n",
    "import matplotlib.mlab as mlab\n",
    "import scipy\n",
    "\n",
    "\n",
    "\n",
    "bounds = np.linspace(mean - 3*stdDev, mean + 3*stdDev, 100)\n",
    "normalCurve = scipy.stats.norm.pdf(x, mean, stdDev)\n",
    "plt.plot(bounds,normalCurve)\n",
    "plt.fill_between(bounds,normalCurve, hatch='/')\n",
    "plt.title('Gaussian (Normal) Distribution with Mean ' + str(mean) + ' and Standard Deviation ' + str(stdDev))\n",
    "plt.show()\n",
    "\n",
    "\n",
    "#!!!!!!!Fill in under the curve\n",
    "#add unuiqe variable names\n"
   ]
  },
  {
   "cell_type": "markdown",
   "metadata": {},
   "source": [
    "2. <a target=\"_top\" href=\"http://scikit-learn.org/stable/modules/generated/sklearn.naive_bayes.MultinomialNB.html\">__Multinomial Naive Bayes__</a> - In this implementation the likelihood of the features is assumed to follow a multinomial distribution. Typically used in text classification. This model is useful in text calssification because it uses word frequency in classification decisions [mccallum-1998]. The probability of a document vector $\\vec{x}$ using multinomial Naive Bayes is shown in section 2.2 of [metsis-2006]. Let $\\vec{x}$ represent the term frequency vector of the document to be evaulated, where $x_i$ represents the number of times $t_i$ appears in document $d$, and let $d$ be a bag of words representation of the document.\n",
    "\n",
    "\\begin{equation}\n",
    "    p(\\vec{x} \\mid c) =  p(\\mid d \\mid) \\cdot \\mid d \\mid ! \\cdot  \\prod_{i = 1}^{m} \\frac{p(t_i \\mid c)^{x_i} }{x_i!}\n",
    "\\end{equation}"
   ]
  },
  {
   "cell_type": "code",
   "execution_count": null,
   "metadata": {},
   "outputs": [],
   "source": [
    "#multinomial distribution visualization\n",
    "\n",
    "from scipy.stats import multinomial\n",
    "import numpy as np\n",
    "import matplotlib.pyplot as plt\n",
    "\n",
    "#changes the values of proabalityVector to see how the observed distribution\n",
    "#is changed, NOTE: all probabilites must sum up to 1\n",
    "probabilityVector = [0.1, 0.2, 0.3, 0.2, 0.1, 0.1] #!!!!!!add more descripiton\n",
    "\n",
    "n = 100\n",
    "\n",
    "outcomes = multinomial.rvs(n, probabilityVector, size=1, random_state=0)\n",
    "\n",
    "outcomes = outcomes[0]\n",
    "\n",
    "fig, ax = plt.subplots()\n",
    "index = np.arange(6)\n",
    "barWidth = 0.35\n",
    "\n",
    "\n",
    "bars = ax.bar(index, outcomes, barWidth, color='b',label='Outcomes',alpha=0.5)\n",
    "\n",
    "ax.set_xlabel('Side', fontsize=14)\n",
    "ax.set_ylabel('Frequency', fontsize=14)\n",
    "ax.set_title('Outcomes of rolling a loaded die 100 times', fontsize=16)\n",
    "\n",
    "plt.show()\n",
    "\n"
   ]
  },
  {
   "cell_type": "markdown",
   "metadata": {},
   "source": [
    "3. <a target=\"_top\" href=\"http://scikit-learn.org/stable/modules/generated/sklearn.naive_bayes.BernoulliNB.html\">__Bernoulli Naive Bayes__</a> - This implementaiton assumes the data follows multivariate Bernoulli distributions. Multiple features are allowed but each feature is assumed to be a binary variable [mccallum-1998]. The probability of a binary document vector $\\vec{x}$ using multivatiate Bernoulli Naive Bayes is shown in section 2.1 of [metsis-2006]. Let $\\vec{x}$ be a binary vector where $x_i$ represents whether term $t_i$ is in the document.\n",
    "\n",
    "\\begin{equation}\n",
    "    p(\\vec{x} \\mid c) =  \\prod_{i = 1}^{m} p(t_i \\mid c)^{x_i} \\cdot (1 - p(t_i \\mid c)^{(1 - x_i)}\n",
    "\\end{equation}"
   ]
  },
  {
   "cell_type": "code",
   "execution_count": null,
   "metadata": {},
   "outputs": [],
   "source": [
    "#Bernoulli Distribution\n",
    "\n",
    "\n"
   ]
  },
  {
   "cell_type": "markdown",
   "metadata": {},
   "source": [
    "Because of these restrictions only Multinomial Naive Bayes will be appropriate for the RCV1 dataset. There is an additional step required because Naive Bayes does not typically predict multilple labels. This means an additional strategy must be implemented. One commonly used startegy is known as one-vs-all <a target=\"_top\" href=\"http://scikit-learn.org/stable/modules/generated/sklearn.multiclass.OneVsRestClassifier.html#sklearn.multiclass.OneVsRestClassifier\">one-vs-the-rest</a> in scikit learn. This strategy works by using one classifier for each label."
   ]
  },
  {
   "cell_type": "markdown",
   "metadata": {},
   "source": [
    "## Naive Bayes on rcv1 <a id='nb_rcv1'>"
   ]
  },
  {
   "cell_type": "code",
   "execution_count": null,
   "metadata": {},
   "outputs": [],
   "source": [
    "from sklearn.naive_bayes import MultinomialNB\n",
    "from sklearn.multiclass import OneVsRestClassifier\n",
    "\n",
    "\n",
    "from sklearn.datasets import fetch_rcv1\n",
    "\n",
    "#load the rcv1 dataset if its has not aready been loaded\n",
    "if('rcv1_train' not in locals() or 'rcv1_test' not in locals()):\n",
    "    print('Loading datasets')\n",
    "    rcv1_train, rcv1_test = (fetch_rcv1(subset='train'), fetch_rcv1(subset='test'))\n",
    "\n",
    "#clf_NB_rcv1 is a list of naive bayes classifiers each with a different value for the hyper(tunning) parameter alpha.\n",
    "#So we are training four different naive bayes classifiers\n",
    "#clf is a abbreviation of the word classifier\n",
    "clf_NB_rcv1 = [OneVsRestClassifier(MultinomialNB(alpha=1), n_jobs=-1),\n",
    "          OneVsRestClassifier(MultinomialNB(alpha=.25), n_jobs=-1),\n",
    "          OneVsRestClassifier(MultinomialNB(alpha=.05), n_jobs=-1),\n",
    "          OneVsRestClassifier(MultinomialNB(alpha=.01), n_jobs=-1)]\n",
    "    \n",
    "# rcv1 training set does not contain all the labels and throws a warning.\n",
    "# This with statement will suppress these warnings.\n",
    "import warnings\n",
    "with warnings.catch_warnings():\n",
    "    warnings.simplefilter(\"ignore\")\n",
    "    \n",
    "    #this list comprehension fits each naive bayes classifier to the training data set \n",
    "    %time clf_NB_rcv1 = [clf.fit(rcv1_train.data, rcv1_train.target) for clf in clf_NB_rcv1]\n",
    "\n",
    "titles_NB_rcv1 = ['alpha=1', 'alpha=.25', 'alpha=.05', 'alpha=.01']"
   ]
  },
  {
   "cell_type": "markdown",
   "metadata": {},
   "source": [
    "### Naive Bayes on MNIST<a id='nb_mnist'></a> \n",
    "Since MNIST is much smaller and not a multioutput problem it will be used to demenstrate Multinomial Niave Bayes, Gaussian Niave Bayes, and Bernoulli Niave Bayes. Notice that the OneVsRestClassifier is not necessary when using MNIST because it is not a multioutput dataset (meaning each sample only has one label)."
   ]
  },
  {
   "cell_type": "code",
   "execution_count": null,
   "metadata": {},
   "outputs": [],
   "source": [
    "from sklearn.naive_bayes import MultinomialNB, GaussianNB, BernoulliNB\n",
    "from sklearn.datasets import fetch_mldata\n",
    "\n",
    "from datasets import load_mnist\n",
    "\n",
    "#load mnist dataset\n",
    "mnist_train, mnist_test = load_mnist()\n",
    "\n",
    "#clf_NB_mnist is a list of naive bayes classifiers each using a different base distribution,\n",
    "#namely the Multinomial distribution, the Gaussian (normal) distribution, and the Bernulli distribution\n",
    "clf_NB_mnist = [MultinomialNB(),\n",
    "          GaussianNB(),\n",
    "          BernoulliNB()]\n",
    "\n",
    "#fit each of the classifiers to the training data\n",
    "%time clf_NB_mnist = [clf.fit(mnist_train.data, mnist_train.target) for clf in clf_NB_mnist]\n",
    "\n",
    "titles_NB_mnist = ['Multinomial', 'Gaussian', 'Bernoulli']"
   ]
  },
  {
   "cell_type": "markdown",
   "metadata": {},
   "source": [
    "## Generating Predictions <a id='generating_predictions'></a>\n",
    "\n",
    "Classifiers in machine learning are used to predict the label(s) of a new document that the classifier has never seen. Niave Bayes generates predictions by finding the label(s) with the highest probability."
   ]
  },
  {
   "cell_type": "code",
   "execution_count": null,
   "metadata": {},
   "outputs": [],
   "source": [
    "#predict class labels for the test data\n",
    "%time pred_NB_rcv1 = [clf.predict(rcv1_test.data) for clf in clf_NB_rcv1]"
   ]
  },
  {
   "cell_type": "code",
   "execution_count": null,
   "metadata": {},
   "outputs": [],
   "source": [
    "#predict class labels for the test data\n",
    "%time pred_NB_mnist = [clf.predict(mnist_test.data) for clf in clf_NB_mnist]"
   ]
  },
  {
   "cell_type": "markdown",
   "metadata": {},
   "source": [
    "# Evaluating Predictions <a id='evaluating_predictions'></a>\n",
    "When testing a machine learning algorithm it is difficult to determine how a classifier performs by looking at predictions, so several metrics are commonly used to evaluate their performance.\n",
    "\n",
    "1. __accuracy__ - The percentage of labels predicted correctly.\n",
    "+ __precision__ - The ratio of true positives to true positives and false positives.\n",
    "+ __recall__ - The ratio of true positives to true positives and false negatives.\n",
    "+ __average precision__ - The weighted mean of the precision achieved at each recall threshold.\n",
    "\n",
    "The term 'micro' average refers to calculating the average of each label weighted with respect to how frequently they occur. This is most appropriate for the RCV1 dataset because the labels do not occur with the same frequency. Information on additional averaging methods can be found <a target=\"_top\" href=\"http://scikit-learn.org/stable/modules/generated/sklearn.metrics.average_precision_score.html#sklearn.metrics.average_precision_score\">here</a>.\n",
    "\n",
    "The term 'macro' average refers to calculating the average of each label without taking the label frequency into account. This is appropriate for MNIST because each label occurs with the same frequency. "
   ]
  },
  {
   "cell_type": "code",
   "execution_count": null,
   "metadata": {},
   "outputs": [],
   "source": [
    "from sklearn.metrics import accuracy_score, average_precision_score, f1_score, precision_score, recall_score\n",
    "from scipy.sparse import issparse\n",
    "import matplotlib.pyplot as plt\n",
    "from numpy import arange, matrix\n",
    "\n",
    "def get_scores(target, prediction, avg_type):\n",
    " \n",
    "    scores = { 'accuracy': accuracy_score(target, prediction),\n",
    "               'f1' : f1_score(target, prediction, average=avg_type),\n",
    "               'recall' : recall_score(target, prediction, average=avg_type),\n",
    "               'precision' : precision_score(target, prediction, average=avg_type) }\n",
    "    \n",
    "    return scores\n",
    "\n",
    "def graph_scores(scores, keys, title):\n",
    "\n",
    "    count = len(scores)\n",
    "    metric = tuple(t.title() for t in scores[0].keys())\n",
    "    colors=['b', 'g', 'r', 'c', 'm', 'y']\n",
    "    bar_width = .81 / count\n",
    "    y_vals = arange(len(metric))\n",
    "    \n",
    "    for i, score in enumerate(scores):\n",
    "        plt.bar(y_vals + bar_width * (i + ((3 - count) / 2)) , tuple(score.values()), width=bar_width, align='center', alpha=0.2, color=colors[i], linewidth=1, edgecolor='k')\n",
    "\n",
    "    plt.legend(keys, bbox_to_anchor=(1.04,0), loc=\"lower left\", borderaxespad=0)\n",
    "    plt.xticks(y_vals + bar_width, metric)\n",
    "    plt.ylabel('Score')\n",
    "    plt.ylim(0.,1.)\n",
    "    plt.title(f'Evaluation Metrics for {title}\\n\\n')\n",
    "\n",
    "    plt.show()\n",
    "    \n",
    "def print_scores(scores, avg_type):\n",
    "    print(f'Accuracy: {scores[\"accuracy\"]:0.4f}')\n",
    "    print(f'{avg_type}-averaged F1: {scores[\"f1\"]:0.4f}')\n",
    "    print(f'{avg_type} averaged recall: {scores[\"recall\"]:0.4f}')\n",
    "    print(f'{avg_type} averaged precision: {scores[\"precision\"]:0.4f}')"
   ]
  },
  {
   "cell_type": "markdown",
   "metadata": {},
   "source": [
    "### Scores for Naive Bayes on RCV1"
   ]
  },
  {
   "cell_type": "code",
   "execution_count": null,
   "metadata": {},
   "outputs": [],
   "source": [
    "from scoring import get_scores, print_scores\n",
    "\n",
    "scores_NB_rcv1 = [get_scores(rcv1_test.target, pred, 'micro') for pred in pred_NB_rcv1]\n",
    "\n",
    "for title, score in zip(titles_NB_rcv1, scores_NB_rcv1):\n",
    "    print(f'\\n{title}')\n",
    "    print_scores(score, 'micro')"
   ]
  },
  {
   "cell_type": "code",
   "execution_count": null,
   "metadata": {},
   "outputs": [],
   "source": [
    "from scoring import graph_scores\n",
    "\n",
    "graph_scores(scores_NB_rcv1, titles_NB_rcv1, 'Naive Bayes on RCV1')"
   ]
  },
  {
   "cell_type": "markdown",
   "metadata": {},
   "source": [
    "### Scores for Naive Bayes on MNIST"
   ]
  },
  {
   "cell_type": "code",
   "execution_count": null,
   "metadata": {},
   "outputs": [],
   "source": [
    "from scoring import get_scores, print_scores\n",
    "\n",
    "scores_NB_mnist = [get_scores(mnist_test.target, pred, 'macro') for pred in pred_NB_mnist]\n",
    "\n",
    "for title, score in zip(titles_NB_mnist, scores_NB_mnist):\n",
    "    print(f'\\n{title} NB')\n",
    "    print_scores(score, 'macro')"
   ]
  },
  {
   "cell_type": "code",
   "execution_count": null,
   "metadata": {},
   "outputs": [],
   "source": [
    "from scoring import graph_scores\n",
    "\n",
    "graph_scores(scores_NB_mnist, titles_NB_mnist, 'Naive Bayes on MNIST')"
   ]
  },
  {
   "cell_type": "markdown",
   "metadata": {},
   "source": [
    "## Recall vs Precision Graph <a id='recall_precision_graph'></a>\n",
    "\n",
    "Recall and precision are inversely related, as you increase one the other decreases. Because of this it is often nessicary to adjust the implementation to get the ideal precision or recall for the specific task at hand. A good way to visualize this tradeoff is by graphing recall vs precision at different prediction thresholds. "
   ]
  },
  {
   "cell_type": "code",
   "execution_count": null,
   "metadata": {},
   "outputs": [],
   "source": [
    "from sklearn.metrics import average_precision_score, f1_score, precision_score, recall_score, precision_recall_curve\n",
    "from sklearn.preprocessing import label_binarize\n",
    "\n",
    "from scipy.sparse import issparse\n",
    "import matplotlib.pyplot as plt\n",
    "import numpy as np\n",
    "\n",
    "def graph_precision_recall(target, conf_list, titles, classes=[]):\n",
    "    colors = iter(['b','r','g','c','m','k'])\n",
    "\n",
    "    plt.figure()\n",
    "    \n",
    "    for confidence in conf_list:\n",
    "        if issparse(target):\n",
    "            target = target.toarray()\n",
    "        \n",
    "        # If target is multiclass it must be binarized\n",
    "        if not np.array_equal(target, target.astype(bool)):\n",
    "            classes_auto = np.unique(target)\n",
    "            target = label_binarize(target, classes_auto if len(classes) < len(classes_auto) else classes)\n",
    "\n",
    "        # A \"micro-average\": quantifying score on all classes jointly\n",
    "        precision, recall, threshold = precision_recall_curve(target.ravel(), confidence.ravel())\n",
    "        average_precision = average_precision_score(target, confidence, average=\"micro\")\n",
    "\n",
    "        \n",
    "        plt.step(recall, precision, color=next(colors), alpha=.5,where='post')\n",
    "\n",
    "    plt.legend(titles, bbox_to_anchor=(1.04,0), loc=\"lower left\", borderaxespad=0)\n",
    "\n",
    "    plt.xlabel('Recall')\n",
    "    plt.ylabel('Precision')\n",
    "    plt.ylim([0.0, 1.05])\n",
    "    plt.xlim([0.0, 1.0])\n",
    "    plt.title(f'Precision-Recall Curves')\n",
    "    plt.show()"
   ]
  },
  {
   "cell_type": "markdown",
   "metadata": {},
   "source": [
    "### Precision Recall Curve for Naive Bayes on RCV1 <a id='graph_nb_rcv1'></a>"
   ]
  },
  {
   "cell_type": "code",
   "execution_count": null,
   "metadata": {},
   "outputs": [],
   "source": [
    "from scoring import graph_precision_recall\n",
    "\n",
    "%time confidence_NB_rcv1 = [clf.predict_proba(rcv1_test.data) for clf in clf_NB_rcv1]\n",
    "%time graph_precision_recall(rcv1_test.target, confidence_NB_rcv1, titles_NB_rcv1) "
   ]
  },
  {
   "cell_type": "markdown",
   "metadata": {},
   "source": [
    "### Precision Recall Curve for Naive Bayes on MNIST <a id='graph_nb_mnist'></a>"
   ]
  },
  {
   "cell_type": "code",
   "execution_count": null,
   "metadata": {},
   "outputs": [],
   "source": [
    "from scoring import graph_precision_recall\n",
    "\n",
    "%time confidence_NB_mnist = [clf.predict_proba(mnist_test.data) for clf in clf_NB_mnist]\n",
    "%time graph_precision_recall(mnist_test.target, confidence_NB_mnist, titles_NB_mnist)"
   ]
  },
  {
   "cell_type": "markdown",
   "metadata": {},
   "source": [
    "# <a target=\"_top\" href=\"http://scikit-learn.org/stable/modules/generated/sklearn.model_selection.KFold.html\">K-Folds Cross-Validation</a> <a id='k_folds'></a>\n",
    "\n",
    "To remove bias from a train/test split it is common practice to use K-Folds cross-validation, typically k = 10. This splits the dataset into k segments. With these k segments k - 1 are used to train a classifier while the last one is used to test. This is repeated until all k segments have been used as the testing segment. This can be easily implemented through the sklearn function <a target=\"_top\" href=\"http://scikit-learn.org/stable/modules/generated/sklearn.model_selection.cross_val_score.html\">cross_val_score</a>. "
   ]
  },
  {
   "cell_type": "code",
   "execution_count": 9,
   "metadata": {},
   "outputs": [
    {
     "name": "stdout",
     "output_type": "stream",
     "text": [
      "fold 1 score = 0.8340\n",
      "fold 2 score = 0.8191\n",
      "fold 3 score = 0.8240\n",
      "fold 4 score = 0.8189\n",
      "fold 5 score = 0.8198\n",
      "fold 6 score = 0.8314\n",
      "fold 7 score = 0.8275\n",
      "fold 8 score = 0.8286\n",
      "fold 9 score = 0.8405\n",
      "fold 10 score = 0.8545\n",
      "average score 0.8298\n"
     ]
    }
   ],
   "source": [
    "from sklearn.model_selection import cross_val_score\n",
    "from sklearn.naive_bayes import BernoulliNB\n",
    "\n",
    "from sklearn.datasets import fetch_mldata\n",
    "\n",
    "from datasets import load_mnist\n",
    "\n",
    "#load mnist dataset\n",
    "#mnist_train, mnist_test = load_mnist()\n",
    "\n",
    "mnist = fetch_mldata('MNIST original')\n",
    "\n",
    "scores = cross_val_score(BernoulliNB(), mnist.data, mnist.target, cv=10, scoring='f1_macro')\n",
    "\n",
    "for k, score in enumerate(scores, 1):\n",
    "    print(f'fold {k} score = {score:0.4f}')\n",
    "\n",
    "print(f'average score {sum(scores) / len(scores):0.4f}')"
   ]
  },
  {
   "cell_type": "markdown",
   "metadata": {},
   "source": [
    "# Parametric Models <a id='parametric_models'></a>\n",
    "\n",
    "Parametric models make assumptions about the shape of the underlying function generating the data. For example, linear regression assumes that a linear function describes the data. Parametric models also include the same number of parameters no matter the size of the data set. These models tend to be more interpretable than non-parametric models but can perform poorly if they assumptions made about the data do not hold.\n",
    "\n",
    "**Examples:**\n",
    "- Linear Regression\n",
    "- Naive Bayes\n"
   ]
  },
  {
   "cell_type": "markdown",
   "metadata": {},
   "source": [
    "# Non-parametric Models <a id='non-parametric_models'></a>\n",
    "\n",
    "Non-parametric models make no assumption about the shape of the underlying function generating the data. These models tend to be less interpretable than parametric models. These types of models often need more training data to perform well.\n",
    "\n",
    "**Examples:**\n",
    "- k-Nearest Neighbors\n",
    "- Decision Trees\n",
    "- Support Vector Machines\n"
   ]
  },
  {
   "cell_type": "markdown",
   "metadata": {},
   "source": [
    "# One-vs-The-Rest and One-vs-One Classification <a id='one_vs_rest'></a>\n",
    "\n",
    "One-vs-Rest, also called One-vs-All, and One-vs-One classification are a methods used to overcome the binary classification restriction inherent to some classification algorithms. These methods will allow us to use Support Vector Machines and Naive Bayes Classifiers for multiclass classification problems.\n",
    "\n",
    "### One-vs-The-Rest\n",
    "One-vs-the-rest classification involves training a separate classifier for each class, the instances of that class are used as positive examples while all other training examples are used as negative examples. This method requires that the classification algorithm give a confidence measurement for its predicted label. To predict the class of a test instance all classifiers classify the test instance, the label given by classifier that reports the highest confidence is chosen. One-vs-The-Rest is a more computationally efficient method since it requires $O(K)$ classifiers, where $K$ is the number of classes. The performance of the classifiers can be skewed since negative examples are over represented. <br>\n",
    "The Iris data set has classes setosa, versicolor, and virginica. To train a one-vs-rest classifier we would train one classifier to identify setosa using versicolor and virginica as negative examples. Then we would train a classifier to identify versicolor using the instances of virginica and setosa as negative examples. Finally, we train the last classifier to recognize virginica using setosa and versicolor as negative examples. We are effectively training a classifier for each class label.<br> \n",
    "\n",
    "### One-vs-One\n",
    "For One-vs-One classification we train $\\frac{K (K - 1)}{2} $ classifiers, where $K$ is the number of classes for the classification problem. Each classifier is trained to differentiate between a pair of classes. To classify a new test instance a voting system is applied, each classifier is run on the sample each prediction for a specific class is considered a vote for that class. The class label which receives the most votes will be returned as the predicted label. There is a possibility that the vote may lead to a tie. This method is more computationally expensive requiring $O(K^{2})$ classifiers. <br>\n",
    "\n",
    "\n"
   ]
  },
  {
   "cell_type": "markdown",
   "metadata": {},
   "source": [
    "# <a target=\"_top\" href=\"http://scikit-learn.org/stable/modules/svm.html\">Support Vector Machines (SVM)</a> <a id='svm'></a>\n",
    "    \n",
    "A supervised learning that works by seperating the samples into categories seperated by a hyperplane, or set of hyperplanes. Since the hyperplane that that seperates them is not typically unique SVM finds the hyperplane with the maximum margin between classes[boser-1992]. Support Vector Machines are binary classifiers, but by combining multiple classifiers it can be expanded to fit a multi-class classification problem [wu-2004]. The decision function for a SVM can be found in [boser-1992] eq. (4). Let $\\alpha_k$ be the adjustable paramaters (weights), $x_k$ be the patterns for training, $b$ be the bias, and the function $K$ be the kernel function [boser-1992] [guyon-1993].\n",
    "\n",
    "\\begin{equation}\n",
    "    D(x) = \\sum_{k=1}^p \\alpha_k K(x_k, x) + b\n",
    "\\end{equation}\n",
    "\n",
    "SVM use kernel functions to compute the similarity between data points. Some of the most common are:\n",
    "\n",
    "+ polynomial with order $q$ [boser-1992]\n",
    "\\begin{equation}\n",
    "    K(x, x') = ( x \\cdot x' + 1)^q\n",
    "\\end{equation}\n",
    "+ radial basis function (rbf) - From eq (9) [guyon-1993]\n",
    "\\begin{equation}\n",
    "    K(x, x') = \\exp \\bigg\\{ - \\frac{\\mid \\mid x - x_i \\mid \\mid^2}{\\sigma^2} \\bigg\\}\n",
    "\\end{equation}\n",
    "+ sigmoid - From eq (2.69) [scholkopf-2009]\n",
    "\\begin{equation}\n",
    "    K(x, x') = tanh(\\kappa \\langle x,x' \\rangle + \\vartheta)\n",
    "\\end{equation}\n",
    "\n",
    "The kernel used can significantly impact the accuracy of a classifier. More information on kernels is provided <a target=\"_top\" href=\"http://scikit-learn.org/stable/modules/metrics.html\">here</a>."
   ]
  },
  {
   "cell_type": "markdown",
   "metadata": {},
   "source": [
    "### Support Vector Machines on RCV1 <a id='svm_rcv1'></a>"
   ]
  },
  {
   "cell_type": "code",
   "execution_count": 11,
   "metadata": {},
   "outputs": [
    {
     "name": "stdout",
     "output_type": "stream",
     "text": [
      "CPU times: user 4.5 s, sys: 1.81 s, total: 6.31 s\n",
      "Wall time: 6.54 s\n"
     ]
    }
   ],
   "source": [
    "import numpy as np\n",
    "from sklearn.svm import LinearSVC, SVC\n",
    "from sklearn.multiclass import OneVsRestClassifier\n",
    "\n",
    "from sklearn.datasets import fetch_rcv1\n",
    "\n",
    "#load the rcv1 dataset if its has not aready been loaded\n",
    "if('rcv1_train' not in locals() or 'rcv1_test' not in locals()):\n",
    "    print('Loading datasets')\n",
    "    rcv1_train, rcv1_test = (fetch_rcv1(subset='train'), fetch_rcv1(subset='test'))\n",
    "\n",
    "\n",
    "clf_SVM_rcv1 =  OneVsRestClassifier(LinearSVC(multi_class='ovr'), n_jobs=40)\n",
    "\n",
    "# rcv1 training set does not contain all the labels and throws a warning.\n",
    "# This with statement will suppress these warnings.\n",
    "import warnings\n",
    "with warnings.catch_warnings():\n",
    "    warnings.simplefilter(\"ignore\")\n",
    "    \n",
    "    %time clf_SVM_rcv1 = clf_SVM_rcv1.fit(rcv1_train.data, rcv1_train.target)"
   ]
  },
  {
   "cell_type": "code",
   "execution_count": 13,
   "metadata": {},
   "outputs": [
    {
     "name": "stdout",
     "output_type": "stream",
     "text": [
      "CPU times: user 18.5 s, sys: 8 ms, total: 18.5 s\n",
      "Wall time: 18.5 s\n",
      "\n",
      "99 unique labels predicted, 103 exist\n",
      "\n",
      "Accuracy: 0.5143\n",
      "macro-averaged F1: 0.4862\n",
      "macro averaged recall: 0.4026\n",
      "macro averaged precision: 0.7872\n"
     ]
    }
   ],
   "source": [
    "from scoring import get_scores, print_scores\n",
    "\n",
    "%time pred_SVM_rcv1 = clf_SVM_rcv1.predict(rcv1_test.data)\n",
    "\n",
    "def check_pred_labels(num_labels, pred):\n",
    "    # np.where returns a tuple where the second item is\n",
    "    # the second dimensional indices where the statement is true.\n",
    "    pred_labels = np.where(pred_SVM_rcv1.todense() == 1)[1]\n",
    "    \n",
    "    pred_unique = np.unique(pred_labels)\n",
    "    \n",
    "    print(f'\\n{pred_unique.shape[0]} unique labels predicted, {num_labels} exist\\n')\n",
    "\n",
    "check_pred_labels(rcv1_test.target.shape[1], pred_SVM_rcv1)\n",
    "    \n",
    "# This will throw an UndefinedMetricWarning because not all labels \n",
    "# will be predicted. Shown above.\n",
    "import warnings\n",
    "with warnings.catch_warnings():\n",
    "    warnings.simplefilter(\"ignore\")\n",
    "\n",
    "    scores_SVM_rcv1 = get_scores(rcv1_test.target, pred_SVM_rcv1, 'macro')\n",
    "\n",
    "\n",
    "print_scores(scores_SVM_rcv1, 'macro')"
   ]
  },
  {
   "cell_type": "code",
   "execution_count": 14,
   "metadata": {},
   "outputs": [
    {
     "data": {
      "image/png": "[encoded data removed]",
      "text/plain": [
       "<Figure size 432x288 with 1 Axes>"
      ]
     },
     "metadata": {},
     "output_type": "display_data"
    }
   ],
   "source": [
    "from scoring import graph_scores\n",
    "\n",
    "graph_scores([scores_SVM_rcv1], ['linear'], 'SVM on RCV1')"
   ]
  },
  {
   "cell_type": "code",
   "execution_count": 15,
   "metadata": {},
   "outputs": [
    {
     "name": "stdout",
     "output_type": "stream",
     "text": [
      "CPU times: user 17.8 s, sys: 440 ms, total: 18.2 s\n",
      "Wall time: 18.2 s\n"
     ]
    },
    {
     "data": {
      "image/png": "[encoded data removed]",
      "text/plain": [
       "<Figure size 432x288 with 1 Axes>"
      ]
     },
     "metadata": {},
     "output_type": "display_data"
    },
    {
     "name": "stdout",
     "output_type": "stream",
     "text": [
      "CPU times: user 1min 18s, sys: 11 s, total: 1min 29s\n",
      "Wall time: 1min 29s\n"
     ]
    }
   ],
   "source": [
    "from scoring import graph_precision_recall\n",
    "\n",
    "%time confidence_SVM_rcv1 = clf_SVM_rcv1.decision_function(rcv1_test.data)\n",
    "\n",
    "%time graph_precision_recall(rcv1_test.target, [confidence_SVM_rcv1], ['linear'])"
   ]
  },
  {
   "cell_type": "markdown",
   "metadata": {},
   "source": [
    "### Support Vector Machines on MNIST <a id='svm_mnist'></a>"
   ]
  },
  {
   "cell_type": "code",
   "execution_count": 4,
   "metadata": {},
   "outputs": [
    {
     "name": "stdout",
     "output_type": "stream",
     "text": [
      "CPU times: user 4min 51s, sys: 232 ms, total: 4min 52s\n",
      "Wall time: 4min 52s\n"
     ]
    }
   ],
   "source": [
    "from sklearn.svm import SVC, LinearSVC\n",
    "\n",
    "from datasets import load_mnist\n",
    "\n",
    "#load mnist dataset\n",
    "mnist_train, mnist_test = load_mnist()\n",
    "\n",
    "#clf_SVM_mnist is a list of SVM classifiers,\n",
    "#one classifier uses a polynomial kernel function while the other \n",
    "#uses a linear kernel.\n",
    "clf_SVM_mnist = [SVC(kernel='poly'), LinearSVC()]\n",
    "%time clf_SVM_mnist = [clf.fit(mnist_train.data, mnist_train.target) for clf in clf_SVM_mnist]\n",
    "\n",
    "titles_SVM_mnist = ['polynomial', 'linear']"
   ]
  },
  {
   "cell_type": "code",
   "execution_count": 5,
   "metadata": {},
   "outputs": [
    {
     "name": "stdout",
     "output_type": "stream",
     "text": [
      "CPU times: user 2min 14s, sys: 112 ms, total: 2min 14s\n",
      "Wall time: 2min 14s\n",
      "\n",
      "polynomial\n",
      "Accuracy: 0.9772\n",
      "macro-averaged F1: 0.9770\n",
      "macro averaged recall: 0.9770\n",
      "macro averaged precision: 0.9770\n",
      "\n",
      "linear\n",
      "Accuracy: 0.8348\n",
      "macro-averaged F1: 0.8271\n",
      "macro averaged recall: 0.8312\n",
      "macro averaged precision: 0.8473\n"
     ]
    }
   ],
   "source": [
    "from scoring import get_scores, print_scores\n",
    "\n",
    "#for each classifier generate predicted labels for the test data\n",
    "%time pred_SVM_mnist = [clf.predict(mnist_test.data) for clf in clf_SVM_mnist]\n",
    "\n",
    "scores_SVM_mnist = [get_scores(mnist_test.target, pred, 'macro') for pred in pred_SVM_mnist]\n",
    "\n",
    "for title, score in zip(titles_SVM_mnist, scores_SVM_mnist):\n",
    "    print(f'\\n{title}')\n",
    "    print_scores(score, 'macro')"
   ]
  },
  {
   "cell_type": "code",
   "execution_count": 6,
   "metadata": {},
   "outputs": [
    {
     "data": {
      "image/png": "[encoded data removed]",
      "text/plain": [
       "<Figure size 432x288 with 1 Axes>"
      ]
     },
     "metadata": {},
     "output_type": "display_data"
    }
   ],
   "source": [
    "from scoring import graph_scores\n",
    "\n",
    "graph_scores(scores_SVM_mnist, titles_SVM_mnist, 'SVM on MNIST')"
   ]
  },
  {
   "cell_type": "code",
   "execution_count": 10,
   "metadata": {},
   "outputs": [
    {
     "name": "stdout",
     "output_type": "stream",
     "text": [
      "CPU times: user 2min 14s, sys: 124 ms, total: 2min 14s\n",
      "Wall time: 2min 14s\n"
     ]
    },
    {
     "data": {
      "image/png": "[encoded data removed]",
      "text/plain": [
       "<Figure size 432x288 with 1 Axes>"
      ]
     },
     "metadata": {},
     "output_type": "display_data"
    },
    {
     "name": "stdout",
     "output_type": "stream",
     "text": [
      "CPU times: user 532 ms, sys: 308 ms, total: 840 ms\n",
      "Wall time: 434 ms\n"
     ]
    }
   ],
   "source": [
    "from scoring import graph_precision_recall\n",
    "\n",
    "%time confidence_SVM_mnist = [clf.decision_function(mnist_test.data) for clf in clf_SVM_mnist]\n",
    "%time graph_precision_recall(mnist_test.target, confidence_SVM_mnist, titles_SVM_mnist)"
   ]
  },
  {
   "cell_type": "markdown",
   "metadata": {},
   "source": [
    "# <a target=\"_top\" href=\"http://scikit-learn.org/stable/modules/generated/sklearn.neighbors.KNeighborsClassifier.html\">k-Nearest Neighbors (kNN)</a> <a id='knn'></a>\n",
    "\n",
    "This algorithm is not trained like the previous machine learning algorithms. Nearest Neighbors is an instance-based learning algorithm. This means is not trained to the data, each prediction is generated by finding the $k$ nearest neighbors [hart1968]. It works by calculating the distance from a query point to all other points in the training set, and the top k closest points are used to generate a prediction [cover-1967]. The class that belogs to the majority of the k neighbors is the class the query point is predicted to have, this is called majority voting [coomans1982]. \n",
    "\n",
    "To help improve the voting system in kNN it is possible to inversely weight the class label of each of the nearest neighbors based on their distance to the query point [samworth-2012]. The difference between weighted and unweighted kNN is small and decreases as the number of features increases, but for 15 or less features there has been shown to be at least a 5% improvement [samworth 2012].\n",
    "\n",
    "Calculating the distance between the query and all of the training points can be very computationally demanding so an additional algorithm an be implemented to help calculate distance. The two most frequently used algorithms are kd-tree and BallTree. Both are considerably faster than calculating neighbors with brute force, and BallTree performs especially well in high dimensions. Note that tree implementations cannot be applied to sparse data. A kd-tree is a multidimensional binary search tree [bentley-1975]. In a kd-tree each node is a sample, and every level of the tree corresponds to a dimension. On each level the remaining samples are split based on their value in that dimension. This forms a binary search tree that allows nearest neighbor lokoup without calculating the distance for each sample [bentley-1975]. A ball tree is a complete binary tree that segments the data points into regions bounded by hyperspheres called balls [omohundro-1989]. Each ball corresponds to a node and is the smallest ball that can contain the balls corresponding to its children nodes [omohundro-1989]. The leaves of a balltree hold the information while the interior nodes are only used to guide the search [omohundro-1989].\n",
    "\n",
    "Additionally the  <a target=\"_top\" href=\"http://scikit-learn.org/stable/modules/generated/sklearn.neighbors.DistanceMetric.html\">distance metric</a> can be tailored to the dataset. Let $n$ be the number of dimensions in $\\vec{x}$, and let $x_i$ represent the $i^{\\text{th}}$ dimension of $\\vec{x}$.\n",
    "\n",
    "* Euclidean \n",
    "\\begin{equation*}\n",
    "dist(\\vec{x}, \\vec{y}) = \\sum_{i=1}^n (x_i - y_i)^2\n",
    "\\end{equation*}\n",
    "* Manhattan\n",
    "\\begin{equation*}\n",
    "dist(\\vec{x}, \\vec{y}) = \\sum_{i=1}^n \\mid x_i - y_i \\mid\n",
    "\\end{equation*}\n",
    "* Chebyshev\n",
    "\\begin{equation*}\n",
    "dist(\\vec{x}, \\vec{y}) = \\max_{i \\in [1, n]} ( \\mid x_i - y_i \\mid )\n",
    "\\end{equation*}\n",
    "* Minkowski\n",
    "\\begin{equation*}\n",
    "dist(\\vec{x}, \\vec{y}) = ( \\sum_{i=1}^n \\mid x_i - y_i \\mid^p )^{1/p}\n",
    "\\end{equation*}\n",
    "\n",
    "Notice Minowski distance is a generalized form of the other distance formulas. When $p = 1$ it is the same as Manhattan distance, when $p = \\infty$ it is the same as Chebyshev distance, and when $p = 2$ it is the same as Euclidean distance. The value for $p$ can be any real number."
   ]
  },
  {
   "cell_type": "markdown",
   "metadata": {},
   "source": [
    "### k-Nearest Neighbors on RCV1 <a id='knn_rcv1'></a>"
   ]
  },
  {
   "cell_type": "code",
   "execution_count": 16,
   "metadata": {},
   "outputs": [
    {
     "name": "stdout",
     "output_type": "stream",
     "text": [
      "env: JOBLIB_TEMP_FOLDER=/home/jovyan/work/tmp\n"
     ]
    }
   ],
   "source": [
    "# This command changes the location of the temp storage for the notebook. Needed when running from docker.\n",
    "%env JOBLIB_TEMP_FOLDER=/home/jovyan/work/tmp"
   ]
  },
  {
   "cell_type": "code",
   "execution_count": null,
   "metadata": {},
   "outputs": [],
   "source": [
    "from sklearn.datasets import fetch_rcv1\n",
    "\n",
    "#load the rcv1 dataset if its has not aready been loaded\n",
    "if('rcv1_train' not in locals() or 'rcv1_test' not in locals()):\n",
    "    print('Loading datasets')\n",
    "    rcv1_train, rcv1_test = (fetch_rcv1(subset='train'), fetch_rcv1(subset='test'))"
   ]
  },
  {
   "cell_type": "code",
   "execution_count": 17,
   "metadata": {},
   "outputs": [
    {
     "name": "stdout",
     "output_type": "stream",
     "text": [
      "CPU times: user 28min 34s, sys: 1min 31s, total: 30min 5s\n",
      "Wall time: 30min 57s\n"
     ]
    }
   ],
   "source": [
    "#works\n",
    "from sklearn.neighbors import KNeighborsClassifier\n",
    "from sklearn.multiclass import OneVsRestClassifier\n",
    "import numpy as np\n",
    "\n",
    "clf_kNN_rcv1 = OneVsRestClassifier(KNeighborsClassifier(n_jobs=-1, algorithm='ball_tree'), n_jobs=-1)\n",
    "\n",
    "# rcv1 training set does not contain all the labels and throws a warning.\n",
    "# This with statement will suppress these warnings.\n",
    "import warnings\n",
    "with warnings.catch_warnings():\n",
    "    warnings.simplefilter(\"ignore\")\n",
    "    \n",
    "    %time clf_kNN_rcv1.fit(np.array(rcv1_train.data.todense()), np.array(rcv1_train.target.todense()))"
   ]
  },
  {
   "cell_type": "code",
   "execution_count": 18,
   "metadata": {},
   "outputs": [
    {
     "name": "stdout",
     "output_type": "stream",
     "text": [
      "CPU times: user 2min 43s, sys: 31 s, total: 3min 14s\n",
      "Wall time: 3min 18s\n"
     ]
    }
   ],
   "source": [
    "%time pred_kNN_rcv1_test = clf_kNN_rcv1.predict(np.array(rcv1_test.data[1203].todense()))"
   ]
  },
  {
   "cell_type": "markdown",
   "metadata": {},
   "source": [
    "As you can see kNN is not feasible on RCV1 as the test set has 781265 samples and it took 3.5 minutes to generate a prediction on one. Because of this we can use dimensionality reduction. For this example we will use  <a target=\"_top\" href=\"http://scikit-learn.org/stable/modules/generated/sklearn.decomposition.TruncatedSVD.html\">truncated singular value decompisition (SVD)</a>. Truncated SVD is intended to work on tf-idf matricies, and it works on sparce input. Because of this it is ideal for the RCV1 dataset."
   ]
  },
  {
   "cell_type": "code",
   "execution_count": 19,
   "metadata": {},
   "outputs": [
    {
     "name": "stdout",
     "output_type": "stream",
     "text": [
      "CPU times: user 200 ms, sys: 0 ns, total: 200 ms\n",
      "Wall time: 198 ms\n",
      "CPU times: user 6.33 s, sys: 376 ms, total: 6.7 s\n",
      "Wall time: 6.7 s\n"
     ]
    }
   ],
   "source": [
    "from sklearn.decomposition import TruncatedSVD\n",
    "\n",
    "svd = TruncatedSVD(n_components=100) \n",
    "svd.fit(rcv1_train.data)\n",
    "\n",
    "%time train_data_rcv1 = svd.transform(rcv1_train.data)\n",
    "%time test_data_rcv1 = svd.transform(rcv1_test.data)"
   ]
  },
  {
   "cell_type": "code",
   "execution_count": 20,
   "metadata": {},
   "outputs": [
    {
     "name": "stdout",
     "output_type": "stream",
     "text": [
      "CPU times: user 3.88 s, sys: 16.5 s, total: 20.3 s\n",
      "Wall time: 21.3 s\n"
     ]
    }
   ],
   "source": [
    "from sklearn.neighbors import KNeighborsClassifier\n",
    "from sklearn.multiclass import OneVsRestClassifier\n",
    "import numpy as np\n",
    "\n",
    "#explain why one-v-rest is used\n",
    "clf_kNN_rcv1_reduced = OneVsRestClassifier(KNeighborsClassifier(n_jobs=-1, algorithm='ball_tree'), n_jobs=-1)\n",
    "\n",
    "# rcv1 training set does not contain all the labels and throws a warning.\n",
    "# This with statement will suppress these warnings.\n",
    "import warnings\n",
    "with warnings.catch_warnings():\n",
    "    warnings.simplefilter(\"ignore\")\n",
    "    \n",
    "    #fit the kNN classifier to a reduced version of the rcv1 dataset\n",
    "    %time clf_kNN_rcv1_reduced.fit(train_data_rcv1, rcv1_train.target)"
   ]
  },
  {
   "cell_type": "code",
   "execution_count": null,
   "metadata": {},
   "outputs": [],
   "source": [
    "from scoring import get_scores, print_scores\n",
    "\n",
    "%time pred_kNN_rcv1 = clf_kNN_rcv1_reduced.predict(test_data_rcv1)\n",
    "\n",
    "scores_kNN_rcv1 = get_scores(rcv1_test.target, pred_kNN_rcv1, 'micro')\n",
    "\n",
    "print_scores(scores_kNN_rcv1, 'micro')"
   ]
  },
  {
   "cell_type": "code",
   "execution_count": null,
   "metadata": {},
   "outputs": [],
   "source": [
    "from scoring import graph_scores\n",
    "\n",
    "graph_scores([scores_kNN_rcv1], ['n_components = 100'], 'kNN on RCV1')"
   ]
  },
  {
   "cell_type": "markdown",
   "metadata": {},
   "source": [
    "### k-Nearest Neighbors on MNIST <a id='knn_mnist'></a>"
   ]
  },
  {
   "cell_type": "code",
   "execution_count": null,
   "metadata": {},
   "outputs": [],
   "source": [
    "from sklearn.neighbors import KNeighborsClassifier\n",
    "from datasets import load_mnist\n",
    "\n",
    "#load mnist dataset\n",
    "mnist_train, mnist_test = load_mnist()\n",
    "\n",
    "#clf_kNN_mnist is a list of kNN classifiers each with different weighting schemes or distance metrics\n",
    "#parameter p in the KNeighborClassifier constructor sets distance metric p=1 is equivalent to the manhattan distance\n",
    "#and p=2 is equivalent to the euclidean distance.\n",
    "clf_kNN_mnist = [KNeighborsClassifier(algorithm='ball_tree', p=1, n_jobs=-1),\n",
    "           KNeighborsClassifier(algorithm='ball_tree', weights='distance', p=1, n_jobs=-1),\n",
    "           KNeighborsClassifier(algorithm='ball_tree', weights='distance', p=2, n_jobs=-1),\n",
    "           KNeighborsClassifier(algorithm='ball_tree', metric='chebyshev', n_jobs=-1)]\n",
    "\n",
    "%time clf_kNN_mnist = [clf.fit(mnist_train.data, mnist_train.target) for clf in clf_kNN]\n",
    "\n",
    "titles_kNN_mnist = ['Manhattan', 'Manhattan, Distance Weighted', 'Euclidean, Distance Weighted', 'Chebyshev']"
   ]
  },
  {
   "cell_type": "code",
   "execution_count": null,
   "metadata": {},
   "outputs": [],
   "source": [
    "from scoring import get_scores, print_scores\n",
    "\n",
    "%time pred_kNN_mnist = [clf.predict(mnist_test.data) for clf in clf_kNN_mnist]\n",
    "\n",
    "scores_kNN_mnist = [get_scores(mnist_test.target, pred, 'macro') for pred in pred_kNN_mnist]\n",
    "\n",
    "for title, score in zip(titles_kNN_mnist, scores_kNN_mnist):\n",
    "    print(f'\\n{title}')\n",
    "    print_scores(score, 'macro')"
   ]
  },
  {
   "cell_type": "code",
   "execution_count": null,
   "metadata": {},
   "outputs": [],
   "source": [
    "from scoring import graph_scores\n",
    "\n",
    "graph_scores(scores_kNN_mnist, titles_kNN_mnist, 'kNN on MNIST')"
   ]
  },
  {
   "cell_type": "code",
   "execution_count": null,
   "metadata": {},
   "outputs": [],
   "source": [
    "from scoring import graph_precision_recall\n",
    "\n",
    "%time confidence_kNN_mnist = [clf.predict_proba(mnist_test.data) for clf in clf_kNN_mnist]\n",
    "%time graph_precision_recall(mnist_test.target, confidence_kNN_mnist, titles_kNN_mnist)"
   ]
  },
  {
   "cell_type": "markdown",
   "metadata": {},
   "source": [
    "# <a target=\"_top\" href=\"http://scikit-learn.org/stable/modules/tree.html\">Decision Trees</a> <a id='decision_trees'></a>\n",
    "\n",
    "Decision Trees form a heirarchy of rules used to classify a document. Decision trees take the form of a tree, as the name suggests. Each node in the tree is a rule and each child node represents a possible outcome. A decision tree is traversed by starting at the root and moving to the appropriate child node based on the current node's rule. This makes decision trees easy to visualize and interpret. \n",
    "\n",
    "There are several algorithms for building decision trees, the two most popular are Classification and Regression Tree (CART) and C4.5 algorithms. Scikit-learn uses a variation of the CART algorithm.\n",
    "\n",
    "There are two main criterion that can be used to split a decision tree node. \n",
    "1. Gini impurity is typically used with the CART algorithm. Let $p_{mk}$ be the probability of a document being in node $m$ belonging to class $k$. See equation 8.6 from [James 2009].\n",
    "\\begin{equation}\n",
    "G = \\sum^K_{k=1} p_{mk} (1 - p_{mk} )\n",
    "\\end{equation}\n",
    "2. Information gain, or entropy, is typically used with the C4.5 algorithm. See equation 8.7 from [James 2009].\n",
    "\\begin{equation}\n",
    "D = - \\sum^K_{k=1} p_{mk} log( p_{mk} )\n",
    "\\end{equation}"
   ]
  },
  {
   "cell_type": "markdown",
   "metadata": {},
   "source": [
    "### Decision Trees on RCV1<a id='dt_rcv1'></a>"
   ]
  },
  {
   "cell_type": "code",
   "execution_count": null,
   "metadata": {},
   "outputs": [],
   "source": [
    "from sklearn.tree import DecisionTreeClassifier\n",
    "from sklearn.multiclass import OneVsRestClassifier\n",
    "\n",
    "from sklearn.datasets import fetch_rcv1\n",
    "\n",
    "#load the rcv1 dataset if its has not aready been loaded\n",
    "if('rcv1_train' not in locals() or 'rcv1_test' not in locals()):\n",
    "    print('Loading datasets')\n",
    "    rcv1_train, rcv1_test = (fetch_rcv1(subset='train'), fetch_rcv1(subset='test'))\n",
    "\n",
    "\n",
    "clf_DT_rcv1 = [OneVsRestClassifier(DecisionTreeClassifier(criterion='gini'), n_jobs=-1),\n",
    "          OneVsRestClassifier(DecisionTreeClassifier(criterion='entropy'), n_jobs=-1)]\n",
    "\n",
    "# rcv1 training set does not contain all the labels and throws a warning.\n",
    "# This with statement will suppress these warnings.\n",
    "import warnings\n",
    "with warnings.catch_warnings():\n",
    "    warnings.simplefilter(\"ignore\")\n",
    "    \n",
    "    %time clf_DT_rcv1 = [clf.fit(rcv1_train.data, rcv1_train.target) for clf in clf_DT_rcv1]\n",
    "\n",
    "titles_DT_rcv1 = ['Gini Impurity', 'Entropy']"
   ]
  },
  {
   "cell_type": "code",
   "execution_count": null,
   "metadata": {},
   "outputs": [],
   "source": [
    "from scoring import get_scores, print_scores\n",
    "\n",
    "%time pred_DT_rcv1 = [clf.predict(rcv1_test.data) for clf in clf_DT_rcv1]\n",
    "\n",
    "scores_DT_rcv1 = [get_scores(rcv1_test.target, pred, 'micro') for pred in pred_DT_rcv1]\n",
    "\n",
    "for title, score in zip(titles_DT_rcv1, scores_DT_rcv1:\n",
    "    print(f'\\n{title}')\n",
    "    print_scores(score, 'micro')"
   ]
  },
  {
   "cell_type": "code",
   "execution_count": null,
   "metadata": {},
   "outputs": [],
   "source": [
    "from scoring import graph_scores\n",
    "\n",
    "graph_scores(scores_DT_rcv1, titles_DT_rcv1, 'Decision Trees on RCV1')"
   ]
  },
  {
   "cell_type": "code",
   "execution_count": null,
   "metadata": {},
   "outputs": [],
   "source": [
    "from scoring import graph_precision_recall\n",
    "\n",
    "%time confidence_DT_rcv1 = [clf.predict_proba(rcv1_test.data) for clf in clf_DT_rcv1]\n",
    "%time graph_precision_recall(rcv1_test.target, confidence_DT_rcv1, titles_DT_rcv1)"
   ]
  },
  {
   "cell_type": "markdown",
   "metadata": {},
   "source": [
    "### Decision Trees on MNIST <a id='dt_mnist'></a>"
   ]
  },
  {
   "cell_type": "code",
   "execution_count": null,
   "metadata": {},
   "outputs": [],
   "source": [
    "from sklearn.tree import DecisionTreeClassifier\n",
    "from sklearn.multiclass import OneVsRestClassifier\n",
    "\n",
    "from datasets import load_mnist\n",
    "\n",
    "#load mnist dataset\n",
    "mnist_train, mnist_test = load_mnist()\n",
    "\n",
    "clf_DT_mnist = [DecisionTreeClassifier(criterion='gini'),\n",
    "          DecisionTreeClassifier(criterion='entropy')]\n",
    "\n",
    "%time clf_DT_mnist =  [clf.fit(mnist_train.data, mnist_train.target) for clf in clf_DT_mnist]\n",
    "\n",
    "titles_DT_mnist = ['Gini Impurity', 'Entropy']"
   ]
  },
  {
   "cell_type": "code",
   "execution_count": null,
   "metadata": {},
   "outputs": [],
   "source": [
    "from scoring import get_scores, print_scores\n",
    "\n",
    "%time pred_DT_mnist = [clf.predict(mnist_test.data) for clf in clf_DT_mnist]\n",
    "\n",
    "scores_DT_mnist = [get_scores(mnist_test.target, pred, 'macro') for pred in pred_DT_mnist]\n",
    "\n",
    "for title, score in zip(titles_DT_mnist, scores_DT_mnist):\n",
    "    print(f'\\n{title}')\n",
    "    print_scores(score, 'macro')"
   ]
  },
  {
   "cell_type": "code",
   "execution_count": null,
   "metadata": {},
   "outputs": [],
   "source": [
    "from scoring import graph_scores\n",
    "\n",
    "graph_scores(scores_DT_mnist, titles_DT_mnist, 'Decision Trees on MNIST')"
   ]
  },
  {
   "cell_type": "code",
   "execution_count": null,
   "metadata": {},
   "outputs": [],
   "source": [
    "from scoring import graph_precision_recall\n",
    "\n",
    "%time confidence_DT_mnist = [clf.predict_proba(mnist_test.data) for clf in clf_DT_mnist]\n",
    "%time graph_precision_recall(mnist_test.target, confidence_DT_mnist, titles_DT_mnist)"
   ]
  },
  {
   "cell_type": "markdown",
   "metadata": {},
   "source": [
    "# Random Forests <a id='random_forests'></a>\n",
    "\n",
    "Random Forests are a kind of ensemble learning algorithm. Ensemble learning algorithms combine multiple machine learning algorithms to improve accuracy. A Random Forest is a collection of Decision Trees where the predictors for splits are chosen at random. On average random forests tend to perform better than a single decision tree."
   ]
  },
  {
   "cell_type": "code",
   "execution_count": null,
   "metadata": {},
   "outputs": [],
   "source": [
    "from sklearn.datasets import load_iris\n",
    "from sklearn.ensemble import RandomForestClassifier\n",
    "from sklearn.tree import DecisionTreeClassifier\n",
    "\n",
    "\n",
    "iris = load_iris()\n",
    "\n",
    "X_train, X_test, y_train, y_test = train_test_split(iris.data, iris.target, test_size=0.4, random_state=1)\n",
    "\n",
    "rfc = RandomForestClassifier(criterion='gini', max_depth=2, max_features='sqrt', \n",
    "                             max_leaf_nodes=None, n_jobs=1, random_state=0)\n",
    "\n",
    "\n",
    "rfc.fit(X_train, y_train)\n",
    "rfScore = rfc.score(X_test, y_test)\n",
    "\n",
    "print('Random forest classification accuracy: ' + str(rfScore))\n",
    "\n",
    "\n",
    "\n",
    "dt = DecisionTreeClassifier(criterion='gini')\n",
    "dt.fit(X_train, y_train)\n",
    "\n",
    "dtScore = dt.score(X_test, y_test)\n",
    "\n",
    "print('Decision tree classification accuracy: ' + str(dtScore))\n",
    "\n"
   ]
  },
  {
   "cell_type": "code",
   "execution_count": null,
   "metadata": {},
   "outputs": [],
   "source": [
    "#add random forest on mnsit"
   ]
  },
  {
   "cell_type": "code",
   "execution_count": null,
   "metadata": {},
   "outputs": [],
   "source": []
  }
 ],
 "metadata": {
  "kernelspec": {
   "display_name": "Python 3",
   "language": "python",
   "name": "python3"
  },
  "language_info": {
   "codemirror_mode": {
    "name": "ipython",
    "version": 3
   },
   "file_extension": ".py",
   "mimetype": "text/x-python",
   "name": "python",
   "nbconvert_exporter": "python",
   "pygments_lexer": "ipython3",
   "version": "3.6.5"
  }
 },
 "nbformat": 4,
 "nbformat_minor": 2
}
