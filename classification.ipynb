{
 "cells": [
  {
   "cell_type": "markdown",
   "metadata": {},
   "source": [
    "# Table of Contents\n",
    "\n",
    "* [1 General Functions](#general_functions)\n",
    "    * [1.1 Functions to Save and Open Variables](#open_save)\n",
    "* [2 Datasets](#load_datasets)\n",
    "    * [2.1 Load Reuters Corpus Volume 1 (rcv1) Dataset](#load_rcv1)\n",
    "    * [2.2 Dataset Attributes of rcv1](#attributes_rcv1)\n",
    "    * [2.3 Load Modified National Institute of Standards and Technology (MNIST) Dataset](#load_mnist)\n",
    "    * [2.4 Train/Test Split](#train_test_split)\n",
    "    * [2.5 Dataset Attributes of MNIST](#attributes_mnist)\n",
    "* [3 Document Classification](#document_classification)\n",
    "    * [3.1 Naive Bayes](#naive_bayes)\n",
    "        * [3.1.1 Naive Bayes on rcv1](#nb_rcv1)\n",
    "        * [3.1.2 Naive Bayes on MNIST](#nb_mnist)\n",
    "    * [3.2 Generating Predictions](#generating_predictions)\n",
    "    * [3.3 Evaluating Predictions](#evaluating_predictions)\n",
    "    * [3.4 Recall vs Precision Graph](#recall_precision_graph)\n",
    "        * [3.4.1 Recall-Precision Graph for Naive Bayes with rcv1](#graph_nb_rcv1)\n",
    "        * [3.4.2 Recall-Precision Graph for for Naive Bayes with MNIST](#graph_nb_mnist)\n",
    "    * [3.5 K-Folds Cross-Validation](#k_folds)\n",
    "    * [3.6 Support Vector Machines (SVM)](#svm)\n",
    "        * [3.6.1 SVM on rcv1](#svm_rcv1)\n",
    "        * [3.6.2 SVM on mnist](#svm_mnist)\n",
    "    * [3.7 k-Nearest Neighbors (kNN)](#knn)\n",
    "        * [3.7.1 kNN on rcv1](#knn_rcv1)\n",
    "        * [3.7.2 kNN on mnist](#knn_mnist)\n",
    "    * [3.8 Decision Trees](#decision_trees)\n",
    "        * [3.7.1 Decision Trees on rcv1](#dt_rcv1)\n",
    "        * [3.7.2 Decision Trees on mnist](#dt_mnist)    "
   ]
  },
  {
   "cell_type": "markdown",
   "metadata": {},
   "source": [
    "# General Functions <a id='general_functions'></a>"
   ]
  },
  {
   "cell_type": "markdown",
   "metadata": {},
   "source": [
    "## Functions to Save and Open Variables <a id='open_save'></a>\n",
    "\n",
    "Since it is not uncommon for a machine learning task to take a long time it is good practice to save variables that may be needed in the future. This can be achieved by using the [pickle](https://docs.python.org/3/library/pickle.html) module. This package allows a variable up to 4gb to be saved. This limitation is why the 'metrics' variables are saved as individual items instead of a dictionary."
   ]
  },
  {
   "cell_type": "code",
   "execution_count": 1,
   "metadata": {},
   "outputs": [],
   "source": [
    "# Save variables to file\n",
    "import pickle\n",
    "\n",
    "def save_var(variable_name):\n",
    "    \"\"\" Saves the variable with the provided variable name \n",
    "         in the global namespace to the ./vars folder \n",
    "         with the provided same name \"\"\"\n",
    "    \n",
    "    with open('./vars/' + variable_name,'wb') as my_file_obj:\n",
    "        pickle.dump(globals()[variable_name], my_file_obj, protocol=4)\n",
    "\n",
    "def save_var_list(variable_name_list):\n",
    "    \"\"\" Saves each variable with the provided variable name \n",
    "         in the global namespace to the ./vars folder \n",
    "         with the provided same name \"\"\"\n",
    "    for name in variable_name_list:\n",
    "        with open('./vars/' + name,'wb') as my_file_obj:\n",
    "            pickle.dump(globals()[name], my_file_obj, protocol=pickle.HIGHEST_PROTOCOL)\n",
    "\n",
    "def open_var(file_name):\n",
    "    \"\"\" Returns the variable saved with the provided \n",
    "         file name located in the ./vars folder\"\"\"\n",
    "    \n",
    "    file_object = open('./vars/' + file_name,'rb')  \n",
    "\n",
    "    loaded_var = pickle.load(file_object)\n",
    "    \n",
    "    return loaded_var\n",
    "\n",
    "def open_var_list(file_name_list):\n",
    "    \"\"\" Loads a variable corresponding to each file name\n",
    "         in file_name_list to the global namespace. \"\"\"\n",
    "    \n",
    "    for file_name in file_name_list:\n",
    "        globals()[file_name] = open_var(file_name)"
   ]
  },
  {
   "cell_type": "code",
   "execution_count": 2,
   "metadata": {},
   "outputs": [
    {
     "name": "stdout",
     "output_type": "stream",
     "text": [
      "CPU times: user 644 ms, sys: 2.15 s, total: 2.79 s\n",
      "Wall time: 1.03 s\n"
     ]
    }
   ],
   "source": [
    "%time open_var_list(['rcv1_train', 'rcv1_test'])"
   ]
  },
  {
   "cell_type": "code",
   "execution_count": null,
   "metadata": {},
   "outputs": [],
   "source": [
    "%time save_var_list(['mnist', 'mnist_train', 'mnist_test', 'rcv1_train', 'rcv1_test'])"
   ]
  },
  {
   "cell_type": "code",
   "execution_count": 2,
   "metadata": {},
   "outputs": [
    {
     "name": "stdout",
     "output_type": "stream",
     "text": [
      "CPU times: user 360 ms, sys: 1.76 s, total: 2.12 s\n",
      "Wall time: 131 ms\n"
     ]
    }
   ],
   "source": [
    "class Dataset_Part:\n",
    "    \"\"\" Represents a dataset with attributes\n",
    "         data and target \"\"\"\n",
    "    \n",
    "    data = None\n",
    "    target = None\n",
    "    def __init__(self, X, y):\n",
    "        self.data = X\n",
    "        self.target = y\n",
    "\n",
    "%time open_var_list(['mnist_train', 'mnist_test'])"
   ]
  },
  {
   "cell_type": "markdown",
   "metadata": {},
   "source": [
    "## Load Datasets <a id='load_datasets'></a>"
   ]
  },
  {
   "cell_type": "markdown",
   "metadata": {},
   "source": [
    "### [Load Reuters Corpus Volume I (rcv1) Dataset](http://scikit-learn.org/stable/datasets/rcv1.html) <a id='load_rcv1'></a>"
   ]
  },
  {
   "cell_type": "markdown",
   "metadata": {},
   "source": [
    "Scikit-learn includes functions to easily load some popular datasets. One of the included datasets is rcv1. This dataset can be loaded completly or broken into test and train subsets. This dataset consists of over 800,000 manually categorized news stories. The data is represented by cosine-normalized log TF-IDF vectors and the labels are 103 classes with binary values."
   ]
  },
  {
   "cell_type": "code",
   "execution_count": 13,
   "metadata": {
    "collapsed": true
   },
   "outputs": [
    {
     "name": "stdout",
     "output_type": "stream",
     "text": [
      "CPU times: user 12.3 s, sys: 420 ms, total: 12.7 s\n",
      "Wall time: 12.7 s\n"
     ]
    }
   ],
   "source": [
    "from sklearn.datasets import fetch_rcv1\n",
    "\n",
    "%time rcv1 = fetch_rcv1()"
   ]
  },
  {
   "cell_type": "code",
   "execution_count": 14,
   "metadata": {},
   "outputs": [
    {
     "name": "stdout",
     "output_type": "stream",
     "text": [
      "CPU times: user 24.8 s, sys: 1.47 s, total: 26.2 s\n",
      "Wall time: 26.2 s\n"
     ]
    }
   ],
   "source": [
    "from sklearn.datasets import fetch_rcv1\n",
    "\n",
    "%time rcv1_train, rcv1_test = (fetch_rcv1(subset='train'), fetch_rcv1(subset='test'))"
   ]
  },
  {
   "cell_type": "markdown",
   "metadata": {},
   "source": [
    "### Dataset Attributes of rcv1 <a id='attributes_rcv1'></a>"
   ]
  },
  {
   "cell_type": "markdown",
   "metadata": {},
   "source": [
    "Datasets loaded from scikit-learn will typically have several attributes.\n",
    "\n",
    "   1. __data__ - a scipy [compressed row storage (CSR) sparce matrix](https://docs.scipy.org/doc/scipy-0.14.0/reference/generated/scipy.sparse.csr_matrix.html). Non-zero values are cosinne-normalized, log TF-IDF vectors. The shape is (num_samples, num_features)\n",
    "   2. __target__ - a scipy CSR sparse matrix. Maps each sample to relavent categories (sometimes refered to as labels). The shape is (num_samples, num_categories).\n",
    "   3. __sample_id__ - a [numpy n-dimensional array](https://docs.scipy.org/doc/numpy-1.14.0/reference/generated/numpy.ndarray.html) (ndarray) associating each sample's ID to its sample number\n",
    "   4. __target_names__ - a ndarray of target names (can be thought of as topics or categories) corresponding to the category mapping in __(2)__. Each sample belongs to n categories, where 1 $\\le$ n $\\le$ 13.\n",
    "   5. __DESCR__ - a description of the dataset\n",
    "   \n",
    "The shape attribute gives the dimensions of the matrix."
   ]
  },
  {
   "cell_type": "code",
   "execution_count": 4,
   "metadata": {},
   "outputs": [],
   "source": [
    "def get_nonzero(matrix):\n",
    "    \"\"\" Returns the percent of items in the provided \n",
    "         matrix that are not 0.\n",
    "         \n",
    "        Params:\n",
    "          matrix -- a csr sparse matrix \"\"\"\n",
    "    \n",
    "    nonzero = (matrix.count_nonzero() / (matrix.shape[0] * matrix.shape[1])) * 100\n",
    "    # Check value is valid\n",
    "    assert nonzero <= 100\n",
    "    assert nonzero >= 0\n",
    "    \n",
    "    return nonzero\n",
    "\n",
    "def print_rcv1_attributes(dataset):\n",
    "    \"\"\" Prints attributes of the provided dataset.\n",
    "    \n",
    "        Params:\n",
    "          dataset -- the RCV1 full dataset or a subset \"\"\"\n",
    "    \n",
    "    print(f'  rcv1 type: {type(dataset)}')\n",
    "    \n",
    "    print ('data:')\n",
    "    print(f'      shape: {dataset.data.shape}')\n",
    "    print(f'  data type: {dataset.data.dtype}')\n",
    "    print(f' array type: {type(dataset.data)}')\n",
    "    print(f'    nonzero: {get_nonzero(dataset.data):0.4f}%\\n')\n",
    "\n",
    "    print('target:')\n",
    "    print(f'      shape: {dataset.target.shape}')\n",
    "    print(f'  data type: {dataset.target.dtype}')\n",
    "    print(f' array type: {type(dataset.target)}')\n",
    "    print(f'    nonzero: {get_nonzero(dataset.target):0.4f}%\\n')\n",
    "\n",
    "    print('sample_id:')\n",
    "    print(f'      shape: {dataset.sample_id.shape}')\n",
    "    print(f'  data type: {type(dataset.sample_id[3])}')\n",
    "    print(f' array type: {type(dataset.sample_id)}\\n')\n",
    "\n",
    "    print('target_names:')\n",
    "    print(f'      shape: {dataset.target_names.shape}')\n",
    "    print(f'  data type: {type(dataset.target_names[3])}')\n",
    "    print(f' array type: {type(dataset.target_names)}')"
   ]
  },
  {
   "cell_type": "code",
   "execution_count": 16,
   "metadata": {},
   "outputs": [
    {
     "name": "stdout",
     "output_type": "stream",
     "text": [
      "rcv1 dataset attributes\n",
      "  rcv1 type: <class 'sklearn.utils.Bunch'>\n",
      "data:\n",
      "      shape: (804414, 47236)\n",
      "  data type: float64\n",
      " array type: <class 'scipy.sparse.csr.csr_matrix'>\n",
      "    nonzero: 0.1603%\n",
      "\n",
      "target:\n",
      "      shape: (804414, 103)\n",
      "  data type: uint8\n",
      " array type: <class 'scipy.sparse.csr.csr_matrix'>\n",
      "    nonzero: 3.1463%\n",
      "\n",
      "sample_id:\n",
      "      shape: (804414,)\n",
      "  data type: <class 'numpy.uint32'>\n",
      " array type: <class 'numpy.ndarray'>\n",
      "\n",
      "target_names:\n",
      "      shape: (103,)\n",
      "  data type: <class 'str'>\n",
      " array type: <class 'numpy.ndarray'>\n"
     ]
    }
   ],
   "source": [
    "print('rcv1 dataset attributes')\n",
    "print_rcv1_attributes(rcv1)"
   ]
  },
  {
   "cell_type": "code",
   "execution_count": 5,
   "metadata": {},
   "outputs": [
    {
     "name": "stdout",
     "output_type": "stream",
     "text": [
      "rcv1 training subset attributes:\n",
      "  rcv1 type: <class 'sklearn.utils.Bunch'>\n",
      "data:\n",
      "      shape: (23149, 47236)\n",
      "  data type: float64\n",
      " array type: <class 'scipy.sparse.csr.csr_matrix'>\n",
      "    nonzero: 0.1608%\n",
      "\n",
      "target:\n",
      "      shape: (23149, 103)\n",
      "  data type: uint8\n",
      " array type: <class 'scipy.sparse.csr.csr_matrix'>\n",
      "    nonzero: 3.0909%\n",
      "\n",
      "sample_id:\n",
      "      shape: (23149,)\n",
      "  data type: <class 'numpy.uint32'>\n",
      " array type: <class 'numpy.ndarray'>\n",
      "\n",
      "target_names:\n",
      "      shape: (103,)\n",
      "  data type: <class 'str'>\n",
      " array type: <class 'numpy.ndarray'>\n"
     ]
    }
   ],
   "source": [
    "print('rcv1 training subset attributes:')\n",
    "print_rcv1_attributes(rcv1_train)"
   ]
  },
  {
   "cell_type": "code",
   "execution_count": 6,
   "metadata": {},
   "outputs": [
    {
     "name": "stdout",
     "output_type": "stream",
     "text": [
      "\n",
      "rcv1 testing subset attributes:\n",
      "  rcv1 type: <class 'sklearn.utils.Bunch'>\n",
      "data:\n",
      "      shape: (781265, 47236)\n",
      "  data type: float64\n",
      " array type: <class 'scipy.sparse.csr.csr_matrix'>\n",
      "    nonzero: 0.1603%\n",
      "\n",
      "target:\n",
      "      shape: (781265, 103)\n",
      "  data type: uint8\n",
      " array type: <class 'scipy.sparse.csr.csr_matrix'>\n",
      "    nonzero: 3.1480%\n",
      "\n",
      "sample_id:\n",
      "      shape: (781265,)\n",
      "  data type: <class 'numpy.uint32'>\n",
      " array type: <class 'numpy.ndarray'>\n",
      "\n",
      "target_names:\n",
      "      shape: (103,)\n",
      "  data type: <class 'str'>\n",
      " array type: <class 'numpy.ndarray'>\n"
     ]
    }
   ],
   "source": [
    "print('\\nrcv1 testing subset attributes:')\n",
    "print_rcv1_attributes(rcv1_test)"
   ]
  },
  {
   "cell_type": "markdown",
   "metadata": {},
   "source": [
    "### [Modified National Institute of Standards and Technology (MNIST) Dataset](http://scikit-learn.org/stable/modules/generated/sklearn.datasets.fetch_mldata.html) <a id='load_mnist'></a>"
   ]
  },
  {
   "cell_type": "markdown",
   "metadata": {},
   "source": [
    "Another included dataset is MNIST. This dataset is 70,000 handwritten digits represented by 28x28 pixel images. The classes correspond to the number shown in the image. Since each image is 28x28 each pixel is a feature giving each document 784 features."
   ]
  },
  {
   "cell_type": "code",
   "execution_count": null,
   "metadata": {},
   "outputs": [],
   "source": [
    "from sklearn.datasets import fetch_mldata\n",
    "\n",
    "mnist = fetch_mldata('MNIST original')"
   ]
  },
  {
   "cell_type": "markdown",
   "metadata": {},
   "source": [
    "### Train/Test Split <a id='train_test_split'></a>\n",
    "\n",
    "Since MNIST does not have a default train/test set like rcv1 we will use a train/test split. This is when a dataset is broken into two parts, one to train the classifier and one to test it. When decomposing the dataset it is important to ensure equal representation of each class. MNIST is sorted by  digit; therefore, if the dataset is simply partitioned in order there may be no instances of a particular class. This can be alleviated by shuffling the dataset. "
   ]
  },
  {
   "cell_type": "code",
   "execution_count": null,
   "metadata": {},
   "outputs": [],
   "source": [
    "from sklearn.model_selection import train_test_split\n",
    "\n",
    "# To keep the .data and .target format consistent \n",
    "class Dataset_Part:\n",
    "    \"\"\" Represents a dataset with attributes\n",
    "         data and target \"\"\"\n",
    "    \n",
    "    data = None\n",
    "    target = None\n",
    "    def __init__(self, X, y):\n",
    "        self.data = X\n",
    "        self.target = y\n",
    "\n",
    "X_train, X_test, y_train, y_test = train_test_split(mnist.data, mnist.target, test_size=.33, random_state=35)\n",
    "mnist_train, mnist_test = Dataset_Part(X_train, y_train), Dataset_Part(X_test, y_test)"
   ]
  },
  {
   "cell_type": "markdown",
   "metadata": {},
   "source": [
    "### Dataset Attributes of MNIST <a id='attributes_mnist'></a>"
   ]
  },
  {
   "cell_type": "markdown",
   "metadata": {},
   "source": [
    "Datasets loaded from scikit-learn will typically have several attributes.\n",
    "\n",
    "   1. __data__ - a [numpy n-dimensional array](https://docs.scipy.org/doc/numpy-1.14.0/reference/generated/numpy.ndarray.html) (ndarray). The value of each feature corresponds to the intensity of a pixel. Each feature is represented by an intensity 0 (white) to 255 (black). The shape is (num_samples, num_features).\n",
    "   2. __target__ - a [numpy n-dimensional array](https://docs.scipy.org/doc/numpy-1.14.0/reference/generated/numpy.ndarray.html) (ndarray) associating each sample's ID to the value of the handwritten digit.\n",
    "   \n",
    "The shape attribute gives the dimensions of the matrix."
   ]
  },
  {
   "cell_type": "code",
   "execution_count": 4,
   "metadata": {},
   "outputs": [],
   "source": [
    "import numpy as np\n",
    "\n",
    "def get_avg_nonzero(subset):\n",
    "    \"\"\" Returns the percent of items in the provided \n",
    "         list matricies that are not 0.\n",
    "         \n",
    "        Params:\n",
    "          matrix -- a csr sparse matrix \"\"\"\n",
    "    \n",
    "    return (np.count_nonzero(subset) / (subset.shape[1] * subset.shape[0])) * 100\n",
    "\n",
    "def print_mnist_attributes(dataset):\n",
    "    \"\"\" Prints attributes of the provided dataset.\n",
    "    \n",
    "        Params:\n",
    "          dataset -- the mnist full dataset \"\"\"\n",
    "    \n",
    "    print(f'     mnist type: {type(dataset)}')\n",
    "    \n",
    "    print ('data:')\n",
    "    print(f'          shape: {dataset.data.shape}')\n",
    "    print(f'      data type: {dataset.data.dtype}')\n",
    "    print(f'     array type: {type(dataset.data)}')\n",
    "    print(f' nonzero pixels: {get_avg_nonzero(dataset.data):0.4f}%\\n')\n",
    "\n",
    "    print('target:')\n",
    "    print(f'          shape: {dataset.target.shape}')\n",
    "    print(f'      data type: {dataset.target.dtype}')\n",
    "    print(f'     array type: {type(dataset.target)}')"
   ]
  },
  {
   "cell_type": "code",
   "execution_count": 7,
   "metadata": {},
   "outputs": [
    {
     "name": "stdout",
     "output_type": "stream",
     "text": [
      "MNIST train dataset attributes\n",
      "     mnist type: <class '__main__.Dataset_Part'>\n",
      "data:\n",
      "          shape: (46900, 784)\n",
      "      data type: uint8\n",
      "     array type: <class 'numpy.ndarray'>\n",
      " nonzero pixels: 19.1391%\n",
      "\n",
      "target:\n",
      "          shape: (46900,)\n",
      "      data type: float64\n",
      "     array type: <class 'numpy.ndarray'>\n"
     ]
    }
   ],
   "source": [
    "print('MNIST train dataset attributes')\n",
    "print_mnist_attributes(mnist_train)"
   ]
  },
  {
   "cell_type": "code",
   "execution_count": 8,
   "metadata": {},
   "outputs": [
    {
     "name": "stdout",
     "output_type": "stream",
     "text": [
      "MNIST test dataset attributes\n",
      "     mnist type: <class '__main__.Dataset_Part'>\n",
      "data:\n",
      "          shape: (23100, 784)\n",
      "      data type: uint8\n",
      "     array type: <class 'numpy.ndarray'>\n",
      " nonzero pixels: 19.1492%\n",
      "\n",
      "target:\n",
      "          shape: (23100,)\n",
      "      data type: float64\n",
      "     array type: <class 'numpy.ndarray'>\n"
     ]
    }
   ],
   "source": [
    "print('MNIST test dataset attributes')\n",
    "print_mnist_attributes(mnist_test)"
   ]
  },
  {
   "cell_type": "markdown",
   "metadata": {},
   "source": [
    "It is also possible to view a document as an image by reshaping the array to a 28x28 matrix."
   ]
  },
  {
   "cell_type": "code",
   "execution_count": 5,
   "metadata": {},
   "outputs": [
    {
     "name": "stdout",
     "output_type": "stream",
     "text": [
      "\tIndex: 30861\tLabel: 7\n"
     ]
    },
    {
     "data": {
      "image/png": "[encoded data removed]",
      "text/plain": [
       "<Figure size 432x288 with 1 Axes>"
      ]
     },
     "metadata": {},
     "output_type": "display_data"
    }
   ],
   "source": [
    "import matplotlib\n",
    "import matplotlib.pyplot as plt\n",
    "import random\n",
    "\n",
    "def print_rand_digit():  \n",
    "    # Get a random document\n",
    "    rand_index = random.randint(0,70000)\n",
    "    rand_digit = mnist_train.data[rand_index]\n",
    "    # Reshape it to the size of the image\n",
    "    rand_digit_image = rand_digit.reshape(28,28)\n",
    "\n",
    "    # Some information\n",
    "    print(f'\\tIndex: {rand_index}\\tLabel: {mnist_train.target[rand_index]:.0f}')\n",
    "    # Show the image\n",
    "    plt.imshow(rand_digit_image, cmap=matplotlib.cm.binary, interpolation=\"nearest\")\n",
    "    plt.axis(\"off\")\n",
    "    plt.show()\n",
    "    \n",
    "print_rand_digit()"
   ]
  },
  {
   "cell_type": "markdown",
   "metadata": {},
   "source": [
    "## Document Classification <a id='document_classification'></a>"
   ]
  },
  {
   "cell_type": "markdown",
   "metadata": {},
   "source": [
    "## [Naive Bayes](http://scikit-learn.org/stable/modules/naive_bayes.html) <a id='naive_bayes'></a>\n",
    "A supervised learning algorithm based on using Bayes' theorem. This method assumes independence between each pair of features.\n",
    "\n",
    "Bayes Theorem from eq. 1 in [zhang-2004]:\n",
    "\\begin{equation}\n",
    "p(c \\mid x_1, . . ., x_n) = \\frac{P(c) P(a_1, . . ., a_n | y)} {P(a_1, . . ., a_n)}\n",
    "\\end{equation}\n",
    "\n",
    "By assuming all attributes are independent we can further simplify $p(a_1, . . ., a_n \\mid c)$ eq. 2 from [zhang-2008], this is the naive assumption of naive bayes.\n",
    "\n",
    "\\begin{equation}\n",
    "p(x_1, . . ., x_n \\mid c) = \\prod_{i = 1}^{n} P(x_i | c)\n",
    "\\end{equation}\n",
    "\n",
    "This gives us our classification rule, as shown in eq. 3 from [zhang-2008]. \n",
    "\n",
    "\\begin{equation}\n",
    "C_{nb}(x_1, . . ., x_n) = \\underset{c}{arg} \\max p(c)  \\prod_{i = 1}^{n} P(x_i | c)\n",
    "\\end{equation}\n",
    "\n",
    "SciKit Learn supports several Naive Bayes implimentations. \n",
    "1. [__Gaussian Naive Bayes__](http://scikit-learn.org/stable/modules/generated/sklearn.naive_bayes.GaussianNB.html) - In this implementation the likelihood of the features is assumed to be Gaussian. Gussian distributions are more commonly reffered to as the normal distribution and in this instance will be represented as $g(x_i, \\mu_{i,c}, \\sigma_{i,c})$, where $\\mu$ is the mean and $\\sigma$ is the typical deviation. The probability of a document vector $\\vec{x}$ using multinomial Naive Bayes is shown in section 2.2 of [metsis-2006]. Let $\\vec{x}$ represent the term frequency vector of the document to be evaulated, where $x_i$ represents the number of times $t_i$ appears in the document.\n",
    "\n",
    "\\begin{equation}\n",
    "    p(\\vec{x} \\mid c) =  \\prod_{i = 1}^{m} g(x_i, \\mu_{i,c}, \\sigma_{i,c})\n",
    "\\end{equation}\n",
    "\n",
    "2. [__Multinomial Naive Bayes__](http://scikit-learn.org/stable/modules/generated/sklearn.naive_bayes.MultinomialNB.html) - In this implementation the likelihood of the features is assumed to follow a multinomial distribution. Typically used in text classification. This model is useful in text calssification because it uses word frequency in classification decisions [mccallum-1998]. The probability of a document vector $\\vec{x}$ using multinomial Naive Bayes is shown in section 2.2 of [metsis-2006]. Let $\\vec{x}$ represent the term frequency vector of the document to be evaulated, where $x_i$ represents the number of times $t_i$ appears in document $d$, and let $d$ be a bag of words representation of the document.\n",
    "\n",
    "\\begin{equation}\n",
    "    p(\\vec{x} \\mid c) =  p(\\mid d \\mid) \\cdot \\mid d \\mid ! \\cdot  \\prod_{i = 1}^{m} \\frac{p(t_i \\mid c)^{x_i} }{x_i!}\n",
    "\\end{equation}\n",
    "\n",
    "3. [__Bernoulli Naive Bayes__](http://scikit-learn.org/stable/modules/generated/sklearn.naive_bayes.BernoulliNB.html) - This implimentaiton assumes the data follows multivariate Bernoulli distributions. Multiple features are allowed but each feature is assumed to be a binary variable [mccallum-1998]. The probability of a binary document vector $\\vec{x}$ using multivatiate Bernoulli Naive Bayes is shown in section 2.1 of [metsis-2006]. Let $\\vec{x}$ be a binary vector where $x_i$ represents whether term $t_i$ is in the document.\n",
    "\n",
    "\\begin{equation}\n",
    "    p(\\vec{x} \\mid c) =  \\prod_{i = 1}^{m} p(t_i \\mid c)^{x_i} \\cdot (1 - p(t_i \\mid c)^{(1 - x_i)}\n",
    "\\end{equation}"
   ]
  },
  {
   "cell_type": "markdown",
   "metadata": {},
   "source": [
    "</a> Because of these restrictions only Multinomial Naive Bayes will be appropriate for the RCV1 dataset. There is an additional step required because Naive Bayes does not typically predict multilple labels. This means an additional strategy must be implemented. One commonly used startegy is known as one-vs-all ([one-vs-the-rest](http://scikit-learn.org/stable/modules/generated/sklearn.multiclass.OneVsRestClassifier.html#sklearn.multiclass.OneVsRestClassifier) in scikit learn). This strategy works by using one classifier for each label."
   ]
  },
  {
   "cell_type": "markdown",
   "metadata": {},
   "source": [
    "## Naive Bayes on rcv1 <a id='nb_rcv1'>"
   ]
  },
  {
   "cell_type": "code",
   "execution_count": 5,
   "metadata": {},
   "outputs": [
    {
     "name": "stdout",
     "output_type": "stream",
     "text": [
      "CPU times: user 16.1 s, sys: 3.27 s, total: 19.4 s\n",
      "Wall time: 19 s\n"
     ]
    }
   ],
   "source": [
    "from sklearn.naive_bayes import MultinomialNB\n",
    "from sklearn.multiclass import OneVsRestClassifier\n",
    "\n",
    "clf_NB = [OneVsRestClassifier(MultinomialNB(alpha=1), n_jobs=-1),\n",
    "          OneVsRestClassifier(MultinomialNB(alpha=.25), n_jobs=-1),\n",
    "          OneVsRestClassifier(MultinomialNB(alpha=.05), n_jobs=-1),\n",
    "          OneVsRestClassifier(MultinomialNB(alpha=.01), n_jobs=-1)]\n",
    "    \n",
    "# rcv1 training set does not contain all the labels and throws a warning.\n",
    "# This with statement will suppress these warnings.\n",
    "import warnings\n",
    "with warnings.catch_warnings():\n",
    "    warnings.simplefilter(\"ignore\")\n",
    "    \n",
    "    %time clf_NB = [clf.fit(rcv1_train.data, rcv1_train.target) for clf in clf_NB]\n",
    "\n",
    "titles_NB = ['alpha=1', 'alpha=.25', 'alpha=.05', 'alpha=.01']"
   ]
  },
  {
   "cell_type": "markdown",
   "metadata": {},
   "source": [
    "### Naive Bayes on MNIST<a id='nb_mnist'></a> \n",
    "Since MNIST is much smaller and not a multioutput problem it will be used to demenstrate Multinomial Niave Bayes, Gaussian Niave Bayes, and Bernoulli Niave Bayes. Notice that the OneVsRestClassifier is not necessary when using MNIST because it is not a multioutput dataset (meaning each sample only has one label)."
   ]
  },
  {
   "cell_type": "code",
   "execution_count": 12,
   "metadata": {},
   "outputs": [
    {
     "name": "stdout",
     "output_type": "stream",
     "text": [
      "CPU times: user 1 s, sys: 312 ms, total: 1.31 s\n",
      "Wall time: 1.31 s\n"
     ]
    }
   ],
   "source": [
    "from sklearn.naive_bayes import MultinomialNB, GaussianNB, BernoulliNB\n",
    "\n",
    "clf_NB = [MultinomialNB(),\n",
    "          GaussianNB(),\n",
    "          BernoulliNB()]\n",
    "\n",
    "%time clf_NB = [clf.fit(mnist_train.data, mnist_train.target) for clf in clf_NB]\n",
    "\n",
    "titles_NB = ['Multinomial', 'Gaussian', 'Bernoulli']"
   ]
  },
  {
   "cell_type": "markdown",
   "metadata": {},
   "source": [
    "## Generating Predictions <a id='generating_predictions'></a>\n",
    "\n",
    "Classifiers in machine learning are used to predict the label(s) of a new document that the classifier has never seen. Niave Bayes generates predictions by finding the label(s) with the highest probability."
   ]
  },
  {
   "cell_type": "code",
   "execution_count": 6,
   "metadata": {},
   "outputs": [
    {
     "name": "stdout",
     "output_type": "stream",
     "text": [
      "CPU times: user 2min 57s, sys: 4.66 s, total: 3min 1s\n",
      "Wall time: 3min 1s\n"
     ]
    }
   ],
   "source": [
    "%time pred_NB = [clf.predict(rcv1_test.data) for clf in clf_NB]"
   ]
  },
  {
   "cell_type": "code",
   "execution_count": 13,
   "metadata": {},
   "outputs": [
    {
     "name": "stdout",
     "output_type": "stream",
     "text": [
      "CPU times: user 1.35 s, sys: 1.02 s, total: 2.37 s\n",
      "Wall time: 2.37 s\n"
     ]
    }
   ],
   "source": [
    "%time pred_NB = [clf.predict(mnist_test.data) for clf in clf_NB]"
   ]
  },
  {
   "cell_type": "markdown",
   "metadata": {},
   "source": [
    "## Evaluating Predictions <a id='evaluating_predictions'></a>\n",
    "When testing a machine learning algorithm it is difficult to determine how a classifier performs by looking at predictions, so several metrics are commonly used to evaluate their performance.\n",
    "\n",
    "1. __accuracy__ - The percentage of labels predicted correctly.\n",
    "+ __precision__ - The ratio of true positives to true positives and false positives.\n",
    "+ __recall__ - The ratio of true positives to true positives and false negatives.\n",
    "+ __average precision__ - The weighted mean of the precision achieved at eaach recall threshold.\n",
    "\n",
    "The term 'micro' average refers to calculating the average of each label weighted with respect to how frequently they occur. This is most appropriate for the RCV1 dataset because the labels do not occur with the same frequency. Information on additional averaging methods can be found [here](http://scikit-learn.org/stable/modules/generated/sklearn.metrics.average_precision_score.html#sklearn.metrics.average_precision_score). \n",
    "\n",
    "The term 'macro' average refers to calculating the average of each label without taking the label frequency into account. This is appropriate for MNIST because each label occurs with the same frequency. "
   ]
  },
  {
   "cell_type": "code",
   "execution_count": 4,
   "metadata": {},
   "outputs": [],
   "source": [
    "from sklearn.metrics import accuracy_score, average_precision_score, f1_score, precision_score, recall_score\n",
    "from scipy.sparse import issparse\n",
    "import matplotlib.pyplot as plt\n",
    "from numpy import arange, matrix\n",
    "\n",
    "def get_scores(target, prediction, avg_type):\n",
    " \n",
    "    scores = { 'accuracy': accuracy_score(target, prediction),\n",
    "               'f1' : f1_score(target, prediction, average=avg_type),\n",
    "               'recall' : recall_score(target, prediction, average=avg_type),\n",
    "               'precision' : precision_score(target, prediction, average=avg_type) }\n",
    "    \n",
    "    return scores\n",
    "\n",
    "def graph_scores(scores, keys, title):\n",
    "\n",
    "    count = len(scores)\n",
    "    metric = tuple(t.title() for t in scores[0].keys())\n",
    "    colors=['b', 'g', 'r', 'c', 'm', 'y']\n",
    "    bar_width = .81 / count\n",
    "    y_vals = arange(len(metric))\n",
    "    \n",
    "    for i, score in enumerate(scores):\n",
    "        plt.bar(y_vals + bar_width * (i + ((3 - count) / 2)) , tuple(score.values()), width=bar_width, align='center', alpha=0.2, color=colors[i], linewidth=1, edgecolor='k')\n",
    "\n",
    "    plt.legend(keys, bbox_to_anchor=(1.04,0), loc=\"lower left\", borderaxespad=0)\n",
    "    plt.xticks(y_vals + bar_width, metric)\n",
    "    plt.ylabel('Score')\n",
    "    plt.ylim(0.,1.)\n",
    "    plt.title(f'Evaluation Metrics for {title}\\n\\n')\n",
    "\n",
    "    plt.show()\n",
    "    \n",
    "def print_scores(scores, avg_type):\n",
    "    print(f'Accuracy: {scores[\"accuracy\"]:0.4f}')\n",
    "    print(f'{avg_type}-averaged F1: {scores[\"f1\"]:0.4f}')\n",
    "    print(f'{avg_type} averaged recall: {scores[\"recall\"]:0.4f}')\n",
    "    print(f'{avg_type} averaged precision: {scores[\"precision\"]:0.4f}')"
   ]
  },
  {
   "cell_type": "markdown",
   "metadata": {},
   "source": [
    "### Scores for Naive Bayes on RCV1"
   ]
  },
  {
   "cell_type": "code",
   "execution_count": 6,
   "metadata": {},
   "outputs": [
    {
     "name": "stdout",
     "output_type": "stream",
     "text": [
      "\n",
      "alpha=1\n",
      "Accuracy: 0.0963\n",
      "micro-averaged F1: 0.4922\n",
      "micro averaged recall: 0.3308\n",
      "micro averaged precision: 0.9615\n",
      "\n",
      "alpha=.25\n",
      "Accuracy: 0.2532\n",
      "micro-averaged F1: 0.6223\n",
      "micro averaged recall: 0.4758\n",
      "micro averaged precision: 0.8993\n",
      "\n",
      "alpha=.05\n",
      "Accuracy: 0.3448\n",
      "micro-averaged F1: 0.6948\n",
      "micro averaged recall: 0.5934\n",
      "micro averaged precision: 0.8381\n",
      "\n",
      "alpha=.01\n",
      "Accuracy: 0.3415\n",
      "micro-averaged F1: 0.7040\n",
      "micro averaged recall: 0.6175\n",
      "micro averaged precision: 0.8187\n"
     ]
    }
   ],
   "source": [
    "scores_NB = [get_scores(rcv1_test.target, pred, 'micro') for pred in pred_NB]\n",
    "\n",
    "for title, score in zip(titles_NB, scores_NB):\n",
    "    print(f'\\n{title}')\n",
    "    print_scores(score, 'micro')"
   ]
  },
  {
   "cell_type": "code",
   "execution_count": 7,
   "metadata": {},
   "outputs": [
    {
     "data": {
      "image/png": "[encoded data removed]",
      "text/plain": [
       "<Figure size 432x288 with 1 Axes>"
      ]
     },
     "metadata": {},
     "output_type": "display_data"
    }
   ],
   "source": [
    "graph_scores(scores_NB, titles_NB, 'Naive Bayes on RCV1')"
   ]
  },
  {
   "cell_type": "markdown",
   "metadata": {},
   "source": [
    "### Scores for Naive Bayes on MNIST"
   ]
  },
  {
   "cell_type": "code",
   "execution_count": 23,
   "metadata": {},
   "outputs": [
    {
     "name": "stdout",
     "output_type": "stream",
     "text": [
      "\n",
      "Multinomial NB\n",
      "Accuracy: 0.8294\n",
      "macro-averaged F1: 0.8281\n",
      "macro averaged recall: 0.8263\n",
      "macro averaged precision: 0.8360\n",
      "\n",
      "Gaussian NB\n",
      "Accuracy: 0.5543\n",
      "macro-averaged F1: 0.5011\n",
      "macro averaged recall: 0.5451\n",
      "macro averaged precision: 0.6662\n",
      "\n",
      "Bernoulli NB\n",
      "Accuracy: 0.8363\n",
      "macro-averaged F1: 0.8341\n",
      "macro averaged recall: 0.8334\n",
      "macro averaged precision: 0.8369\n"
     ]
    }
   ],
   "source": [
    "scores_NB = [get_scores(mnist_test.target, pred, 'macro') for pred in pred_NB]\n",
    "\n",
    "for title, score in zip(titles_NB, scores_NB):\n",
    "    print(f'\\n{title} NB')\n",
    "    print_scores(score, 'macro')"
   ]
  },
  {
   "cell_type": "code",
   "execution_count": 16,
   "metadata": {},
   "outputs": [
    {
     "data": {
      "image/png": "[encoded data removed]",
      "text/plain": [
       "<Figure size 432x288 with 1 Axes>"
      ]
     },
     "metadata": {},
     "output_type": "display_data"
    }
   ],
   "source": [
    "graph_scores(scores_NB, titles_NB, 'Naive Bayes on MNIST')"
   ]
  },
  {
   "cell_type": "markdown",
   "metadata": {},
   "source": [
    "## Recall vs Precision Graph <a id='recall_precision_graph'></a>\n",
    "\n",
    "Recall and precision are inversely related, as you increase one the other decreases. Because of this it is often nessicary to adjust the implementation to get the ideal precision or recall for the specific task at hand. A good way to visualize this tradeoff is by graphing recall vs precision at different prediction thresholds. "
   ]
  },
  {
   "cell_type": "code",
   "execution_count": 3,
   "metadata": {},
   "outputs": [],
   "source": [
    "from sklearn.metrics import average_precision_score, f1_score, precision_score, recall_score, precision_recall_curve\n",
    "from sklearn.preprocessing import label_binarize\n",
    "\n",
    "from scipy.sparse import issparse\n",
    "import matplotlib.pyplot as plt\n",
    "import numpy as np\n",
    "\n",
    "def graph_precision_recall(target, conf_list, titles, classes=[]):\n",
    "    colors = iter(['b','r','g','c','m','k'])\n",
    "\n",
    "    plt.figure()\n",
    "    \n",
    "    for confidence in conf_list:\n",
    "        if issparse(target):\n",
    "            target = target.toarray()\n",
    "        \n",
    "        # If target is multiclass it must be binarized\n",
    "        if not np.array_equal(target, target.astype(bool)):\n",
    "            classes_auto = np.unique(target)\n",
    "            target = label_binarize(target, classes_auto if len(classes) < len(classes_auto) else classes)\n",
    "\n",
    "        # A \"micro-average\": quantifying score on all classes jointly\n",
    "        precision, recall, threshold = precision_recall_curve(target.ravel(), confidence.ravel())\n",
    "        average_precision = average_precision_score(target, confidence, average=\"micro\")\n",
    "\n",
    "        \n",
    "        plt.step(recall, precision, color=next(colors), alpha=.5,where='post')\n",
    "\n",
    "    plt.legend(titles, bbox_to_anchor=(1.04,0), loc=\"lower left\", borderaxespad=0)\n",
    "\n",
    "    plt.xlabel('Recall')\n",
    "    plt.ylabel('Precision')\n",
    "    plt.ylim([0.0, 1.05])\n",
    "    plt.xlim([0.0, 1.0])\n",
    "    plt.title(f'Precision-Recall Curves')\n",
    "    plt.show()"
   ]
  },
  {
   "cell_type": "markdown",
   "metadata": {},
   "source": [
    "### Precision Recall Curve for Naive Bayes on RCV1 <a id='graph_nb_rcv1'></a>"
   ]
  },
  {
   "cell_type": "code",
   "execution_count": 7,
   "metadata": {},
   "outputs": [
    {
     "name": "stdout",
     "output_type": "stream",
     "text": [
      "CPU times: user 2min 56s, sys: 2.51 s, total: 2min 58s\n",
      "Wall time: 2min 58s\n"
     ]
    },
    {
     "data": {
      "image/png": "[encoded data removed]",
      "text/plain": [
       "<Figure size 432x288 with 1 Axes>"
      ]
     },
     "metadata": {},
     "output_type": "display_data"
    },
    {
     "name": "stdout",
     "output_type": "stream",
     "text": [
      "CPU times: user 5min 11s, sys: 39.8 s, total: 5min 51s\n",
      "Wall time: 5min 50s\n"
     ]
    }
   ],
   "source": [
    "%time confidence_NB = [clf.predict_proba(rcv1_test.data) for clf in clf_NB]\n",
    "%time graph_precision_recall(rcv1_test.target, confidence_NB, titles_NB) "
   ]
  },
  {
   "cell_type": "markdown",
   "metadata": {},
   "source": [
    "### Precision Recall Curve for Naive Bayes on MNIST <a id='graph_nb_mnist'></a>"
   ]
  },
  {
   "cell_type": "code",
   "execution_count": 64,
   "metadata": {},
   "outputs": [
    {
     "name": "stdout",
     "output_type": "stream",
     "text": [
      "CPU times: user 1.44 s, sys: 956 ms, total: 2.4 s\n",
      "Wall time: 2.4 s\n"
     ]
    },
    {
     "data": {
      "image/png": "[encoded data removed]",
      "text/plain": [
       "<Figure size 432x288 with 1 Axes>"
      ]
     },
     "metadata": {},
     "output_type": "display_data"
    },
    {
     "name": "stdout",
     "output_type": "stream",
     "text": [
      "CPU times: user 652 ms, sys: 504 ms, total: 1.16 s\n",
      "Wall time: 541 ms\n"
     ]
    }
   ],
   "source": [
    "%time confidence_NB = [clf.predict_proba(mnist_test.data) for clf in clf_NB]\n",
    "%time graph_precision_recall(mnist_test.target, confidence_NB, titles_NB)"
   ]
  },
  {
   "cell_type": "markdown",
   "metadata": {},
   "source": [
    "## [K-Folds Cross-Validation](http://scikit-learn.org/stable/modules/generated/sklearn.model_selection.KFold.html) <a id='k_folds'></a>\n",
    "\n",
    "To remove bias from a train/test split it is common practice to use K-Folds cross-validation, typically k = 10. This splits the dataset into k segments. With these k segments k - 1 are used to train a classifier while the last one is used to test. This is repeated until all k segments have been used as the testing segment. This can be easily implemented through the sklearn function [cross_val_score](http://scikit-learn.org/stable/modules/generated/sklearn.model_selection.cross_val_score.html). "
   ]
  },
  {
   "cell_type": "code",
   "execution_count": null,
   "metadata": {},
   "outputs": [],
   "source": [
    "from sklearn.model_selection import cross_val_score\n",
    "from sklearn.naive_bayes import BernoulliNB\n",
    "\n",
    "scores = cross_val_score(BernoulliNB(), mnist.data, mnist.target, cv=10, scoring='f1_macro')\n",
    "\n",
    "for k, score in enumerate(scores, 1):\n",
    "    print('fold {k} score = {score:0.4f}')\n",
    "\n",
    "print(f'average score {sum(scores) / len(scores):0.4f})"
   ]
  },
  {
   "cell_type": "markdown",
   "metadata": {},
   "source": [
    "## [Support Vector Machines (SVM)](http://scikit-learn.org/stable/modules/svm.html) <a id='svm'></a>\n",
    "    \n",
    "A supervised learning that works by seperating the samples into categories seperated by a hyperplane, or set of hyperplanes. Since the hyperplane that that seperates them is not typically unique SVM finds the hyperplane with the maximum margin between classes[boser-1992]. Support Vector Machines are binary classifiers, but by combining multiple classifiers it can be expanded to fit a multi-class classification problem [wu-2004]. The decision function for a SVM can be found in [boser-1992] eq. (4). Let $\\alpha_k$ be the adjustable paramaters (weights), $x_k$ be the patterns for training, $b$ be the bias, and the function $K$ be the kernel function [boser-1992] [guyon-1993].\n",
    "\n",
    "\\begin{equation}\n",
    "    D(x) = \\sum_{k=1}^p \\alpha_k K(x_k, x) + b\n",
    "\\end{equation}\n",
    "\n",
    "SVM use kernel functions to compute the similarity between data points. Some of the most common are:\n",
    "\n",
    "+ polynomial with order $q$ [boser-1992]\n",
    "\\begin{equation}\n",
    "    K(x, x') = ( x \\cdot x' + 1)^q\n",
    "\\end{equation}\n",
    "+ radial basis function (rbf) - From eq (9) [guyon-1993]\n",
    "\\begin{equation}\n",
    "    K(x, x') = \\exp \\bigg\\{ - \\frac{\\mid \\mid x - x_i \\mid \\mid^2}{\\sigma^2} \\bigg\\}\n",
    "\\end{equation}\n",
    "+ sigmoid - From eq (2.69) [scholkopf-2009]\n",
    "\\begin{equation}\n",
    "    K(x, x') = tanh(\\kappa \\langle x,x' \\rangle + \\vartheta)\n",
    "\\end{equation}\n",
    "\n",
    "The kernel used can significantly impact the accuracy of a classifier. More information on kernels is provided [here](http://scikit-learn.org/stable/modules/metrics.html)."
   ]
  },
  {
   "cell_type": "markdown",
   "metadata": {},
   "source": [
    "### Support Vector Machines on RCV1 <a id='svm_rcv1'></a>"
   ]
  },
  {
   "cell_type": "code",
   "execution_count": null,
   "metadata": {},
   "outputs": [],
   "source": [
    "from sklearn.svm import LinearSVC, SVC\n",
    "from sklearn.multiclass import OneVsRestClassifier\n",
    "\n",
    "clf_SVM = [OneVsRestClassifier(LinearSVC(), n_jobs=-1), OneVsRestClassifier(SVC(kernel='poly'), n_jobs=-1)]\n",
    "\n",
    "# rcv1 training set does not contain all the labels and throws a warning.\n",
    "# This with statement will suppress these warnings.\n",
    "import warnings\n",
    "with warnings.catch_warnings():\n",
    "    warnings.simplefilter(\"ignore\")\n",
    "    \n",
    "    %time clf_SVM = [clf.fit(rcv1_train.data, rcv1_train.target) for clf in clf_SVM]\n",
    "\n",
    "titles_SVM = ['linear', 'polynomial']"
   ]
  },
  {
   "cell_type": "code",
   "execution_count": null,
   "metadata": {},
   "outputs": [],
   "source": [
    "%time pred_SVM = [clf.predict(rcv1_train.data) for clf in clf_SVM]\n",
    "\n",
    "scores_SVM = [get_scores(rcv1_train.target, pred, 'macro') for pred in pred_SVM]\n",
    "\n",
    "for title, score in zip(titles_SVM, scores_SVM):\n",
    "    print(f'\\n{title}')\n",
    "    print_scores(score, 'macro')"
   ]
  },
  {
   "cell_type": "code",
   "execution_count": null,
   "metadata": {},
   "outputs": [],
   "source": [
    "graph_scores(scores_SVM, titles_SVM, 'SVM on RCV1')"
   ]
  },
  {
   "cell_type": "code",
   "execution_count": null,
   "metadata": {},
   "outputs": [],
   "source": [
    "%time confidence_SVM = [clf.decision_function(rcv1_train.data) for clf in clf_SVM]\n",
    "%time graph_precision_recall(rcv1_train.target, confidence_SVM, titles_SVM)"
   ]
  },
  {
   "cell_type": "markdown",
   "metadata": {},
   "source": [
    "### Support Vector Machines on MNIST <a id='svm_mnist'></a>"
   ]
  },
  {
   "cell_type": "code",
   "execution_count": 19,
   "metadata": {},
   "outputs": [
    {
     "name": "stdout",
     "output_type": "stream",
     "text": [
      "CPU times: user 5min 7s, sys: 216 ms, total: 5min 7s\n",
      "Wall time: 5min 7s\n"
     ]
    }
   ],
   "source": [
    "from sklearn.svm import SVC, LinearSVC\n",
    "\n",
    "clf_SVM = [SVC(kernel='poly'), LinearSVC()]\n",
    "%time clf_SVM = [clf.fit(mnist_train.data, mnist_train.target) for clf in clf_SVM]\n",
    "\n",
    "titles_SVM = ['polynomial', 'linear']"
   ]
  },
  {
   "cell_type": "code",
   "execution_count": 70,
   "metadata": {},
   "outputs": [
    {
     "name": "stdout",
     "output_type": "stream",
     "text": [
      "CPU times: user 2min 19s, sys: 96 ms, total: 2min 19s\n",
      "Wall time: 2min 19s\n",
      "\n",
      "polynomial\n",
      "Accuracy: 0.9772\n",
      "macro-averaged F1: 0.9770\n",
      "macro averaged recall: 0.9770\n",
      "macro averaged precision: 0.9770\n",
      "\n",
      "linear\n",
      "Accuracy: 0.8403\n",
      "macro-averaged F1: 0.8369\n",
      "macro averaged recall: 0.8371\n",
      "macro averaged precision: 0.8648\n"
     ]
    }
   ],
   "source": [
    "%time pred_SVM = [clf.predict(mnist_test.data) for clf in clf_SVM]\n",
    "\n",
    "scores_SVM = [get_scores(mnist_test.target, pred, 'macro') for pred in pred_SVM]\n",
    "\n",
    "for title, score in zip(titles_SVM, scores_SVM):\n",
    "    print(f'\\n{title}')\n",
    "    print_scores(score, 'macro')"
   ]
  },
  {
   "cell_type": "code",
   "execution_count": 69,
   "metadata": {},
   "outputs": [
    {
     "data": {
      "image/png": "[encoded data removed]",
      "text/plain": [
       "<Figure size 432x288 with 1 Axes>"
      ]
     },
     "metadata": {},
     "output_type": "display_data"
    }
   ],
   "source": [
    "graph_scores(scores_SVM, titles_SVM, 'SVM on MNIST')"
   ]
  },
  {
   "cell_type": "code",
   "execution_count": 67,
   "metadata": {},
   "outputs": [
    {
     "name": "stdout",
     "output_type": "stream",
     "text": [
      "CPU times: user 2min 20s, sys: 188 ms, total: 2min 20s\n",
      "Wall time: 2min 20s\n"
     ]
    },
    {
     "data": {
      "image/png": "[encoded data removed]",
      "text/plain": [
       "<Figure size 432x288 with 1 Axes>"
      ]
     },
     "metadata": {},
     "output_type": "display_data"
    },
    {
     "name": "stdout",
     "output_type": "stream",
     "text": [
      "CPU times: user 744 ms, sys: 528 ms, total: 1.27 s\n",
      "Wall time: 580 ms\n"
     ]
    }
   ],
   "source": [
    "%time confidence_SVM = [clf.decision_function(mnist_test.data) for clf in clf_SVM]\n",
    "%time graph_precision_recall(mnist_test.target, confidence_SVM, titles_SVM)"
   ]
  },
  {
   "cell_type": "markdown",
   "metadata": {},
   "source": [
    "## [k-Nearest Neighbors (kNN)](http://scikit-learn.org/stable/modules/generated/sklearn.neighbors.KNeighborsClassifier.html) <a id='knn'></a>\n",
    "\n",
    "This algorithm is not trained like the previous machine learning algorithms. Nearest Neighbors is an instance-based learning algorithm. This means is not trained to the data, each prediction is generated by finding the $k$ nearest neighbors [hart1968]. It works by calculating the distance from a query point to all other points in the training set, and the top k closest points are used to generate a prediction [cover-1967]. The class that belogs to the majority of the k neighbors is the class the query point is predicted to have, this is called majority voting [coomans1982]. \n",
    "\n",
    "To help improve the voting system in kNN it is possible to inversely weight the class label of each of the nearest neighbors based on their distance to the query point [samworth-2012]. The difference between weighted and unweighted kNN is small and decreases as the number of features increases, but for 15 or less features there has been shown to be at least a 5% improvement [samworth 2012].\n",
    "\n",
    "Calculating the distance between the query and all of the training points can be very computationally demanding so an additional algorithm an be implemented to help calculate distance. The two most frequently used algorithms are kd-tree and BallTree. Both are considerably faster than calculating neighbors with brute force, and BallTree performs especially well in high dimensions. Note that tree implementations cannot be applied to sparse data. A kd-tree is a multidimensional binary search tree [bentley-1975]. In a kd-tree each node is a sample, and every level of the tree corresponds to a dimension. On each level the remaining samples are split based on their value in that dimension. This forms a binary search tree that allows nearest neighbor lokoup without calculating the distance for each sample [bentley-1975]. A ball tree is a complete binary tree that segments the data points into regions bounded by hyperspheres called balls [omohundro-1989]. Each ball corresponds to a node and is the smallest ball that can contain the balls corresponding to its children nodes [omohundro-1989]. The leaves of a balltree hold the information while the interior nodes are only used to guide the search [omohundro-1989].\n",
    "\n",
    "Additionally the [distince metric](http://scikit-learn.org/stable/modules/generated/sklearn.neighbors.DistanceMetric.html) can be tailored to the dataset. Let $n$ be the number of dimensions in $\\vec{x}$, and let $x_i$ represent the $i^{\\text{th}}$ dimension of $\\vec{x}$.\n",
    "\n",
    "* Euclidean \n",
    "\\begin{equation*}\n",
    "dist(\\vec{x}, \\vec{y}) = \\sum_{i=1}^n (x_i - y_i)^2\n",
    "\\end{equation*}\n",
    "* Manhattan\n",
    "\\begin{equation*}\n",
    "dist(\\vec{x}, \\vec{y}) = \\sum_{i=1}^n \\mid x_i - y_i \\mid\n",
    "\\end{equation*}\n",
    "* Chebyshev\n",
    "\\begin{equation*}\n",
    "dist(\\vec{x}, \\vec{y}) = \\max_{i \\in [1, n]} ( \\mid x_i - y_i \\mid )\n",
    "\\end{equation*}\n",
    "* Minkowski\n",
    "\\begin{equation*}\n",
    "dist(\\vec{x}, \\vec{y}) = ( \\sum_{i=1}^n \\mid x_i - y_i \\mid^p )^{1/p}\n",
    "\\end{equation*}\n",
    "\n",
    "Notice Minowski distance is a generalized form of the other distance formulas. When $p = 1$ it is the same as Manhattan distance, when $p = \\infty$ it is the same as Chebyshev distance, and when $p = 2$ it is the same as Euclidean distance. The value for $p$ can be any real number."
   ]
  },
  {
   "cell_type": "markdown",
   "metadata": {},
   "source": [
    "### k-Nearest Neighbors on RCV1 <a id='knn_rcv1'></a>"
   ]
  },
  {
   "cell_type": "code",
   "execution_count": 5,
   "metadata": {},
   "outputs": [
    {
     "name": "stdout",
     "output_type": "stream",
     "text": [
      "env: JOBLIB_TEMP_FOLDER=/home/jovyan/work/tmp\n"
     ]
    }
   ],
   "source": [
    "# This command changes the location of the temp storage for the notebook. Needed when running from docker.\n",
    "%env JOBLIB_TEMP_FOLDER=/home/jovyan/work/tmp"
   ]
  },
  {
   "cell_type": "code",
   "execution_count": 6,
   "metadata": {},
   "outputs": [
    {
     "name": "stdout",
     "output_type": "stream",
     "text": [
      "CPU times: user 28min 29s, sys: 1min 32s, total: 30min 1s\n",
      "Wall time: 30min 52s\n"
     ]
    }
   ],
   "source": [
    "from sklearn.neighbors import KNeighborsClassifier\n",
    "from sklearn.multiclass import OneVsRestClassifier\n",
    "import numpy as np\n",
    "\n",
    "clf_kNN = OneVsRestClassifier(KNeighborsClassifier(n_jobs=-1, algorithm='ball_tree'), n_jobs=-1)\n",
    "\n",
    "# rcv1 training set does not contain all the labels and throws a warning.\n",
    "# This with statement will suppress these warnings.\n",
    "import warnings\n",
    "with warnings.catch_warnings():\n",
    "    warnings.simplefilter(\"ignore\")\n",
    "    \n",
    "    %time clf_kNN.fit(np.array(rcv1_train.data.todense()), np.array(rcv1_train.target.todense()))"
   ]
  },
  {
   "cell_type": "code",
   "execution_count": 7,
   "metadata": {},
   "outputs": [
    {
     "name": "stdout",
     "output_type": "stream",
     "text": [
      "CPU times: user 2min 49s, sys: 34.4 s, total: 3min 23s\n",
      "Wall time: 3min 27s\n"
     ]
    }
   ],
   "source": [
    "%time pred_kNN = clf_kNN.predict(np.array(rcv1_test.data[1203].todense()))"
   ]
  },
  {
   "cell_type": "markdown",
   "metadata": {},
   "source": [
    "As you can see kNN is not feasible on RCV1 as the test set has 781265 samples and it took 3.5 minutes to generate a prediction on one. Because of this we can use dimensionality reduction. For this example we will use [truncated singular value decompisition (SVD)](http://scikit-learn.org/stable/modules/generated/sklearn.decomposition.TruncatedSVD.html). Truncated SVD is intended to work on tf-idf matricies, and it works on sparce input. Because of this it is ideal for the RCV1 dataset. "
   ]
  },
  {
   "cell_type": "code",
   "execution_count": 6,
   "metadata": {},
   "outputs": [
    {
     "name": "stdout",
     "output_type": "stream",
     "text": [
      "CPU times: user 192 ms, sys: 16 ms, total: 208 ms\n",
      "Wall time: 210 ms\n"
     ]
    }
   ],
   "source": [
    "from sklearn.decomposition import TruncatedSVD\n",
    "\n",
    "svd = TruncatedSVD(n_components=100) \n",
    "svd.fit(rcv1_train.data)\n",
    "\n",
    "%time train_data = svd.transform(rcv1_train.data)"
   ]
  },
  {
   "cell_type": "code",
   "execution_count": 7,
   "metadata": {},
   "outputs": [
    {
     "name": "stdout",
     "output_type": "stream",
     "text": [
      "CPU times: user 3.83 s, sys: 552 ms, total: 4.38 s\n",
      "Wall time: 4.42 s\n"
     ]
    }
   ],
   "source": [
    "from sklearn.neighbors import KNeighborsClassifier\n",
    "from sklearn.multiclass import OneVsRestClassifier\n",
    "import numpy as np\n",
    "\n",
    "clf_kNN = OneVsRestClassifier(KNeighborsClassifier(n_jobs=-1, algorithm='ball_tree'), n_jobs=-1)\n",
    "\n",
    "# rcv1 training set does not contain all the labels and throws a warning.\n",
    "# This with statement will suppress these warnings.\n",
    "import warnings\n",
    "with warnings.catch_warnings():\n",
    "    warnings.simplefilter(\"ignore\")\n",
    "    \n",
    "    %time clf_kNN.fit(train_data, rcv1_train.target)"
   ]
  },
  {
   "cell_type": "code",
   "execution_count": 8,
   "metadata": {},
   "outputs": [
    {
     "name": "stdout",
     "output_type": "stream",
     "text": [
      "CPU times: user 6.33 s, sys: 408 ms, total: 6.74 s\n",
      "Wall time: 6.74 s\n",
      "CPU times: user 23d 10h 54min 56s, sys: 5min 17s, total: 23d 11h 13s\n",
      "Wall time: 14h 20min 30s\n",
      "Accuracy: 0.5014\n",
      "micro-averaged F1: 0.7690\n",
      "micro averaged recall: 0.6955\n",
      "micro averaged precision: 0.8599\n"
     ]
    }
   ],
   "source": [
    "%time test_data = svd.transform(rcv1_test.data)\n",
    "%time pred_kNN = clf_kNN.predict(test_data)\n",
    "\n",
    "scores_kNN = get_scores(rcv1_test.target, pred_kNN, 'micro')\n",
    "\n",
    "print_scores(scores_kNN, 'micro')"
   ]
  },
  {
   "cell_type": "code",
   "execution_count": 9,
   "metadata": {},
   "outputs": [
    {
     "data": {
      "image/png": "[encoded data removed]",
      "text/plain": [
       "<Figure size 432x288 with 1 Axes>"
      ]
     },
     "metadata": {},
     "output_type": "display_data"
    }
   ],
   "source": [
    "graph_scores([scores_kNN], ['n_components = 100'], 'kNN on RCV1')"
   ]
  },
  {
   "cell_type": "markdown",
   "metadata": {},
   "source": [
    "### k-Nearest Neighbors on MNIST <a id='knn_mnist'></a>"
   ]
  },
  {
   "cell_type": "code",
   "execution_count": 27,
   "metadata": {},
   "outputs": [
    {
     "name": "stdout",
     "output_type": "stream",
     "text": [
      "CPU times: user 50.1 s, sys: 392 ms, total: 50.5 s\n",
      "Wall time: 50.5 s\n"
     ]
    }
   ],
   "source": [
    "from sklearn.neighbors import KNeighborsClassifier\n",
    "\n",
    "clf_kNN = [KNeighborsClassifier(algorithm='ball_tree', p=1, n_jobs=-1),\n",
    "           KNeighborsClassifier(algorithm='ball_tree', weights='distance', p=1, n_jobs=-1),\n",
    "           KNeighborsClassifier(algorithm='ball_tree', weights='distance', p=2, n_jobs=-1),\n",
    "           KNeighborsClassifier(algorithm='ball_tree', metric='chebyshev', n_jobs=-1)]\n",
    "\n",
    "%time clf_kNN = [clf.fit(mnist_train.data, mnist_train.target) for clf in clf_kNN]\n",
    "\n",
    "titles_kNN = ['Manhattan', 'Manhattan, Distance Weighted', 'Euclidean, Distance Weighted', 'Chebyshev']"
   ]
  },
  {
   "cell_type": "code",
   "execution_count": 28,
   "metadata": {},
   "outputs": [
    {
     "name": "stdout",
     "output_type": "stream",
     "text": [
      "CPU times: user 2h 20min 36s, sys: 2.18 s, total: 2h 20min 39s\n",
      "Wall time: 3min 47s\n",
      "\n",
      "Manhattan\n",
      "Accuracy: 0.9625\n",
      "macro-averaged F1: 0.9624\n",
      "macro averaged recall: 0.9619\n",
      "macro averaged precision: 0.9636\n",
      "\n",
      "Manhattan, Distance Weighted\n",
      "Accuracy: 0.9638\n",
      "macro-averaged F1: 0.9637\n",
      "macro averaged recall: 0.9632\n",
      "macro averaged precision: 0.9647\n",
      "\n",
      "Euclidean, Distance Weighted\n",
      "Accuracy: 0.9703\n",
      "macro-averaged F1: 0.9702\n",
      "macro averaged recall: 0.9699\n",
      "macro averaged precision: 0.9707\n",
      "\n",
      "Chebyshev\n",
      "Accuracy: 0.8116\n",
      "macro-averaged F1: 0.8078\n",
      "macro averaged recall: 0.8074\n",
      "macro averaged precision: 0.8161\n"
     ]
    }
   ],
   "source": [
    "%time pred_kNN = [clf.predict(mnist_test.data) for clf in clf_kNN]\n",
    "\n",
    "scores_kNN = [get_scores(mnist_test.target, pred, 'macro') for pred in pred_kNN]\n",
    "\n",
    "for title, score in zip(titles_kNN, scores_kNN):\n",
    "    print(f'\\n{title}')\n",
    "    print_scores(score, 'macro')"
   ]
  },
  {
   "cell_type": "code",
   "execution_count": 29,
   "metadata": {},
   "outputs": [
    {
     "data": {
      "image/png": "[encoded data removed]",
      "text/plain": [
       "<Figure size 432x288 with 1 Axes>"
      ]
     },
     "metadata": {},
     "output_type": "display_data"
    }
   ],
   "source": [
    "graph_scores(scores_kNN, titles_kNN, 'kNN on MNIST')"
   ]
  },
  {
   "cell_type": "code",
   "execution_count": 66,
   "metadata": {},
   "outputs": [
    {
     "name": "stdout",
     "output_type": "stream",
     "text": [
      "CPU times: user 2h 18min 32s, sys: 2.18 s, total: 2h 18min 34s\n",
      "Wall time: 3min 37s\n"
     ]
    },
    {
     "data": {
      "image/png": "[encoded data removed]",
      "text/plain": [
       "<Figure size 432x288 with 1 Axes>"
      ]
     },
     "metadata": {},
     "output_type": "display_data"
    },
    {
     "name": "stdout",
     "output_type": "stream",
     "text": [
      "CPU times: user 520 ms, sys: 372 ms, total: 892 ms\n",
      "Wall time: 435 ms\n"
     ]
    }
   ],
   "source": [
    "%time confidence_kNN = [clf.predict_proba(mnist_test.data) for clf in clf_kNN]\n",
    "%time graph_precision_recall(mnist_test.target, confidence_kNN, titles_kNN)"
   ]
  },
  {
   "cell_type": "markdown",
   "metadata": {},
   "source": [
    "## [Decision Trees](http://scikit-learn.org/stable/modules/tree.html) <a id='decision_trees'></a>\n",
    "\n",
    "Decision Trees form a heirarchy of rules used to classify a document. Decision trees take the form of a tree, as the name suggests. Each node in the tree is a rule and each child node represents a possible outcome. A decision tree is traversed by starting at the root and moving to the appropriate child node based on the current node's rule. This makes decision trees easy to visualize and interpret. "
   ]
  },
  {
   "cell_type": "markdown",
   "metadata": {},
   "source": [
    "### Decision Trees on RCV1<a id='dt_rcv1'></a>"
   ]
  },
  {
   "cell_type": "code",
   "execution_count": 8,
   "metadata": {},
   "outputs": [
    {
     "name": "stdout",
     "output_type": "stream",
     "text": [
      "CPU times: user 9.48 s, sys: 1.16 s, total: 10.6 s\n",
      "Wall time: 1min 37s\n"
     ]
    }
   ],
   "source": [
    "from sklearn.tree import DecisionTreeClassifier\n",
    "from sklearn.multiclass import OneVsRestClassifier\n",
    "\n",
    "clf_DT = [OneVsRestClassifier(DecisionTreeClassifier(criterion='gini'), n_jobs=-1),\n",
    "          OneVsRestClassifier(DecisionTreeClassifier(criterion='entropy'), n_jobs=-1)]\n",
    "\n",
    "# rcv1 training set does not contain all the labels and throws a warning.\n",
    "# This with statement will suppress these warnings.\n",
    "import warnings\n",
    "with warnings.catch_warnings():\n",
    "    warnings.simplefilter(\"ignore\")\n",
    "    \n",
    "    %time clf_DT =  [clf.fit(rcv1_train.data, rcv1_train.target) for clf in clf_DT]\n",
    "\n",
    "titles_DT = ['Gini Impurity', 'Entropy']"
   ]
  },
  {
   "cell_type": "code",
   "execution_count": 9,
   "metadata": {},
   "outputs": [
    {
     "name": "stdout",
     "output_type": "stream",
     "text": [
      "CPU times: user 1min 53s, sys: 33.5 s, total: 2min 27s\n",
      "Wall time: 2min 27s\n",
      "\n",
      "Gini Impurity\n",
      "Accuracy: 0.2628\n",
      "micro-averaged F1: 0.6818\n",
      "micro averaged recall: 0.6741\n",
      "micro averaged precision: 0.6897\n",
      "\n",
      "Entropy\n",
      "Accuracy: 0.2750\n",
      "micro-averaged F1: 0.6811\n",
      "micro averaged recall: 0.6701\n",
      "micro averaged precision: 0.6925\n"
     ]
    }
   ],
   "source": [
    "%time pred_DT = [clf.predict(rcv1_test.data) for clf in clf_DT]\n",
    "\n",
    "scores_DT = [get_scores(rcv1_test.target, pred, 'micro') for pred in pred_DT]\n",
    "\n",
    "for title, score in zip(titles_DT, scores_DT):\n",
    "    print(f'\\n{title}')\n",
    "    print_scores(score, 'micro')"
   ]
  },
  {
   "cell_type": "code",
   "execution_count": 10,
   "metadata": {},
   "outputs": [
    {
     "data": {
      "image/png": "[encoded data removed]",
      "text/plain": [
       "<Figure size 432x288 with 1 Axes>"
      ]
     },
     "metadata": {},
     "output_type": "display_data"
    }
   ],
   "source": [
    "graph_scores(scores_DT, titles_DT, 'Decision Trees on RCV1')"
   ]
  },
  {
   "cell_type": "code",
   "execution_count": 11,
   "metadata": {},
   "outputs": [
    {
     "name": "stdout",
     "output_type": "stream",
     "text": [
      "CPU times: user 1min 52s, sys: 35.8 s, total: 2min 28s\n",
      "Wall time: 2min 28s\n"
     ]
    },
    {
     "data": {
      "image/png": "[encoded data removed]",
      "text/plain": [
       "<Figure size 432x288 with 1 Axes>"
      ]
     },
     "metadata": {},
     "output_type": "display_data"
    },
    {
     "name": "stdout",
     "output_type": "stream",
     "text": [
      "CPU times: user 37.8 s, sys: 7.21 s, total: 45 s\n",
      "Wall time: 44.7 s\n"
     ]
    }
   ],
   "source": [
    "%time confidence_DT = [clf.predict_proba(rcv1_test.data) for clf in clf_DT]\n",
    "%time graph_precision_recall(rcv1_test.target, confidence_DT, titles_DT)"
   ]
  },
  {
   "cell_type": "markdown",
   "metadata": {},
   "source": [
    "### Decision Trees on MNIST <a id='dt_mnist'></a>"
   ]
  },
  {
   "cell_type": "code",
   "execution_count": 37,
   "metadata": {},
   "outputs": [
    {
     "name": "stdout",
     "output_type": "stream",
     "text": [
      "CPU times: user 11min 43s, sys: 188 ms, total: 11min 43s\n",
      "Wall time: 39 s\n"
     ]
    }
   ],
   "source": [
    "from sklearn.tree import DecisionTreeClassifier\n",
    "from sklearn.multiclass import OneVsRestClassifier\n",
    "\n",
    "clf_DT = [DecisionTreeClassifier(criterion='gini'),\n",
    "          DecisionTreeClassifier(criterion='entropy')]\n",
    "\n",
    "%time clf_DT =  [clf.fit(mnist_train.data, mnist_train.target) for clf in clf_DT]\n",
    "\n",
    "titles_DT = ['Gini Impurity', 'Entropy']"
   ]
  },
  {
   "cell_type": "code",
   "execution_count": 38,
   "metadata": {},
   "outputs": [
    {
     "name": "stdout",
     "output_type": "stream",
     "text": [
      "CPU times: user 48 ms, sys: 44 ms, total: 92 ms\n",
      "Wall time: 89.2 ms\n",
      "\n",
      "Gini Impurity\n",
      "Accuracy: 0.8686\n",
      "macro-averaged F1: 0.8669\n",
      "macro averaged recall: 0.8670\n",
      "macro averaged precision: 0.8668\n",
      "\n",
      "Entropy\n",
      "Accuracy: 0.8756\n",
      "macro-averaged F1: 0.8738\n",
      "macro averaged recall: 0.8738\n",
      "macro averaged precision: 0.8738\n"
     ]
    }
   ],
   "source": [
    "%time pred_DT = [clf.predict(mnist_test.data) for clf in clf_DT]\n",
    "\n",
    "scores_DT = [get_scores(mnist_test.target, pred, 'macro') for pred in pred_DT]\n",
    "\n",
    "for title, score in zip(titles_DT, scores_DT):\n",
    "    print(f'\\n{title}')\n",
    "    print_scores(score, 'macro')"
   ]
  },
  {
   "cell_type": "code",
   "execution_count": 39,
   "metadata": {},
   "outputs": [
    {
     "data": {
      "image/png": "[encoded data removed]",
      "text/plain": [
       "<Figure size 432x288 with 1 Axes>"
      ]
     },
     "metadata": {},
     "output_type": "display_data"
    }
   ],
   "source": [
    "graph_scores(scores_DT, titles_DT, 'Decision Trees on MNIST')"
   ]
  },
  {
   "cell_type": "code",
   "execution_count": 65,
   "metadata": {},
   "outputs": [
    {
     "name": "stdout",
     "output_type": "stream",
     "text": [
      "CPU times: user 80 ms, sys: 60 ms, total: 140 ms\n",
      "Wall time: 139 ms\n"
     ]
    },
    {
     "data": {
      "image/png": "[encoded data removed]",
      "text/plain": [
       "<Figure size 432x288 with 1 Axes>"
      ]
     },
     "metadata": {},
     "output_type": "display_data"
    },
    {
     "name": "stdout",
     "output_type": "stream",
     "text": [
      "CPU times: user 500 ms, sys: 328 ms, total: 828 ms\n",
      "Wall time: 361 ms\n"
     ]
    }
   ],
   "source": [
    "%time confidence_DT = [clf.predict_proba(mnist_test.data) for clf in clf_DT]\n",
    "%time graph_precision_recall(mnist_test.target, confidence_DT, titles_DT)"
   ]
  }
 ],
 "metadata": {
  "kernelspec": {
   "display_name": "Python 3",
   "language": "python",
   "name": "python3"
  },
  "language_info": {
   "codemirror_mode": {
    "name": "ipython",
    "version": 3
   },
   "file_extension": ".py",
   "mimetype": "text/x-python",
   "name": "python",
   "nbconvert_exporter": "python",
   "pygments_lexer": "ipython3",
   "version": "3.6.5"
  }
 },
 "nbformat": 4,
 "nbformat_minor": 2
}
